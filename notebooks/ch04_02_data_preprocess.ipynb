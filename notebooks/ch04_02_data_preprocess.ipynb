{
  "cells": [
    {
      "cell_type": "markdown",
      "metadata": {
        "id": "HBHAy8u2Amxd"
      },
      "source": [
        "# 4.2 データ整形"
      ]
    },
    {
      "cell_type": "code",
      "execution_count": null,
      "metadata": {
        "id": "1HrykzwJAmxg"
      },
      "outputs": [],
      "source": [
        "# 日本語化ライブラリ導入\n",
        "!pip install japanize-matplotlib | tail -n 1"
      ]
    },
    {
      "cell_type": "code",
      "execution_count": null,
      "metadata": {
        "id": "Nrru7Yj6Amxk"
      },
      "outputs": [],
      "source": [
        "# 共通事前処理\n",
        "\n",
        "# 余分なワーニングを非表示にする\n",
        "import warnings\n",
        "warnings.filterwarnings('ignore')\n",
        "\n",
        "# 必要ライブラリのimport\n",
        "import pandas as pd\n",
        "import numpy as np\n",
        "import matplotlib.pyplot as plt\n",
        "\n",
        "# matplotlib日本語化対応\n",
        "import japanize_matplotlib\n",
        "\n",
        "# データフレーム表示用関数\n",
        "from IPython.display import display\n",
        "\n",
        "# 表示オプション調整\n",
        "# numpyの浮動小数点の表示精度\n",
        "np.set_printoptions(suppress=True, precision=4)\n",
        "\n",
        "# pandasでの浮動小数点の表示精度\n",
        "pd.options.display.float_format = '{:.4f}'.format\n",
        "\n",
        "# データフレームですべての項目を表示\n",
        "pd.set_option(\"display.max_columns\",None)\n",
        "\n",
        "# グラフのデフォルトフォント指定\n",
        "plt.rcParams[\"font.size\"] = 14\n",
        "\n",
        "# 乱数の種\n",
        "random_seed = 123"
      ]
    },
    {
      "cell_type": "code",
      "execution_count": null,
      "metadata": {
        "id": "VkHAUPpAAmxo"
      },
      "outputs": [],
      "source": [
        "# 追加ライブラリのimport\n",
        "import seaborn as sns\n",
        "\n",
        "# サンプルデータの読み込み\n",
        "df_titanic = sns.load_dataset(\"titanic\")\n",
        "\n",
        "# 項目名の日本語化\n",
        "columns_t = ['生存', '等室', '性別', '年齢', '兄弟配偶者数',\n",
        "             '両親子供数', '料金', '乗船港コード', '等室名',\n",
        "             '男女子供', '成人男子', 'デッキ', '乗船港', '生存可否', '独身']\n",
        "df_titanic.columns = columns_t"
      ]
    },
    {
      "cell_type": "markdown",
      "metadata": {
        "id": "FlbSZALKAmxr"
      },
      "source": [
        "#### データ確認"
      ]
    },
    {
      "cell_type": "code",
      "execution_count": null,
      "metadata": {
        "id": "Owl-iBvxAmxr"
      },
      "outputs": [],
      "source": [
        "display(df_titanic.head())"
      ]
    },
    {
      "cell_type": "code",
      "execution_count": null,
      "metadata": {
        "id": "0VPbGwNOAmxv"
      },
      "outputs": [],
      "source": [
        "print(df_titanic.shape)"
      ]
    },
    {
      "cell_type": "markdown",
      "metadata": {
        "id": "1uUlYmVEAmxy"
      },
      "source": [
        "### 4.2.1 不要な項目の削除"
      ]
    },
    {
      "cell_type": "code",
      "execution_count": null,
      "metadata": {
        "id": "28i3M1LaAmxz"
      },
      "outputs": [],
      "source": [
        "# 余分な列削除\n",
        "\n",
        "# 「等室名」 (「等室」と同じ)\n",
        "df1 = df_titanic.drop('等室名', axis=1)\n",
        "\n",
        "# 「乗船港」 (「乗船港コード」と同じ)\n",
        "df2 = df1.drop('乗船港', axis=1)\n",
        "\n",
        "# 「生存可否」 (「生存」と同じ)\n",
        "df3 = df2.drop('生存可否', axis=1)\n",
        "\n",
        "# 結果確認\n",
        "display(df3.head())"
      ]
    },
    {
      "cell_type": "markdown",
      "metadata": {
        "id": "HN0VV6zzAmx2"
      },
      "source": [
        "### 4.2.2 欠損値の対応"
      ]
    },
    {
      "cell_type": "code",
      "execution_count": null,
      "metadata": {
        "id": "Eb_DaeKyAmx4"
      },
      "outputs": [],
      "source": [
        "# 欠損値確認\n",
        "display(df3.isnull().sum())"
      ]
    },
    {
      "cell_type": "code",
      "execution_count": null,
      "metadata": {
        "id": "NbToHuCQAmx-"
      },
      "outputs": [],
      "source": [
        "display(df3['デッキ'].value_counts())"
      ]
    },
    {
      "cell_type": "markdown",
      "metadata": {
        "id": "1xSQo8kDAmyC"
      },
      "source": [
        "#### 方針の決定\n",
        "\n",
        "**乗船港コード**: 件数が2件と少ない\n",
        "-> 行ごと削除する      \n",
        "\n",
        "**年齢**: 数値データであり、欠損行数が177件とかなり多い\n",
        "-> 他データの平均値で代用  \n",
        "\n",
        "**デッキ**: コード値データであり、欠損行数が688行と相当多い\n",
        "-> 欠損を意味するダミーコードを振って全行処理対象とする"
      ]
    },
    {
      "cell_type": "code",
      "execution_count": null,
      "metadata": {
        "id": "Ed_zIsnFAmyD"
      },
      "outputs": [],
      "source": [
        "# 乗船港コード: 件数が2件と少ない\n",
        "# -> 行ごと削除する\n",
        "\n",
        "# dropna関数を利用する\n",
        "df4 = df3.dropna(subset = ['乗船港コード'])\n",
        "\n",
        "# 年齢: 数値データであり欠損行数が177件とかなり多い\n",
        "# -> 他データの平均値で代用\n",
        "\n",
        "# 平均値の計算\n",
        "age_average = df4['年齢'].mean()\n",
        "\n",
        "# fillna関数の利用\n",
        "df5 = df4.fillna({'年齢': age_average})\n",
        "\n",
        "# デッキ: コード値データであり欠損行数が688行と相当多い\n",
        "# -> 欠損を意味するダミーコードを振って全行処理対象とする\n",
        "\n",
        "# 書籍ではreplace関数を利用するとしていますが、動かなくなったので下記の実装に差し替えます。\n",
        "# p.96 補足で説明している実装とほぼ同じです。\n",
        "# (ダミーコードは 'N' とする)\n",
        "df5['デッキ'] = df5['デッキ'].astype(object)\n",
        "df6 = df5.fillna({'デッキ': 'N'})\n"
      ]
    },
    {
      "cell_type": "code",
      "execution_count": null,
      "metadata": {
        "id": "BOuP-suBAmyF"
      },
      "outputs": [],
      "source": [
        "# 結果確認\n",
        "display(df6.isnull().sum())\n",
        "\n",
        "display(df6.head())"
      ]
    },
    {
      "cell_type": "markdown",
      "metadata": {
        "id": "jAqtq-8rAmyI"
      },
      "source": [
        "### 4.2.3 2値ラベルの数値化\n",
        "\n",
        "**性別**: male / female  \n",
        "**成人男子**: True / False  \n",
        "**独身**: True / False  \n",
        "    \n",
        "をそれぞれ 1/ 0 に数値化する\n"
      ]
    },
    {
      "cell_type": "markdown",
      "metadata": {
        "id": "7Dbx58hkAmyJ"
      },
      "source": [
        "#### 「性別」の数値化"
      ]
    },
    {
      "cell_type": "code",
      "execution_count": null,
      "metadata": {
        "id": "AMgII8pjAmyK"
      },
      "outputs": [],
      "source": [
        "display(df6['性別'].value_counts())"
      ]
    },
    {
      "cell_type": "code",
      "execution_count": null,
      "metadata": {
        "id": "Pvx7420kAmyN"
      },
      "outputs": [],
      "source": [
        "# 辞書 mf_map の定義\n",
        "mf_map = {'male': 1, 'female': 0}\n",
        "\n",
        "# map関数を利用して数値化\n",
        "df7 = df6.copy()\n",
        "df7['性別'] = df7['性別'].map(mf_map)\n",
        "\n",
        "# 結果確認\n",
        "display(df7.head())"
      ]
    },
    {
      "cell_type": "markdown",
      "metadata": {
        "id": "HBbHoCE7AmyQ"
      },
      "source": [
        "#### 「成人男子」「独身」の数値化"
      ]
    },
    {
      "cell_type": "code",
      "execution_count": null,
      "metadata": {
        "id": "pCh077WkAmyQ"
      },
      "outputs": [],
      "source": [
        "display(df7['成人男子'].value_counts())"
      ]
    },
    {
      "cell_type": "code",
      "execution_count": null,
      "metadata": {
        "id": "0AAMijDeAmyT"
      },
      "outputs": [],
      "source": [
        "# 辞書 tf_map の定義\n",
        "tf_map = {True: 1, False: 0}\n",
        "\n",
        "# map関数を利用して数値化\n",
        "df8 = df7.copy()\n",
        "df8['成人男子'] = df8['成人男子'].map(tf_map)\n",
        "\n",
        "# map関数を利用して数値化\n",
        "df9 = df8.copy()\n",
        "df9['独身'] = df8['独身'].map(tf_map)\n",
        "\n",
        "# 結果確認\n",
        "display(df9.head())"
      ]
    },
    {
      "cell_type": "markdown",
      "metadata": {
        "id": "U02AtIO9AmyX"
      },
      "source": [
        "### 4.2.4 多値ラベルの数値化\n",
        "One-Hot エンコーディング"
      ]
    },
    {
      "cell_type": "code",
      "execution_count": null,
      "metadata": {
        "id": "NERR1j5qAmyX"
      },
      "outputs": [],
      "source": [
        "# 変換前\n",
        "display(df9[['男女子供']].head(10))"
      ]
    },
    {
      "cell_type": "code",
      "execution_count": null,
      "metadata": {
        "id": "droPsQSwAmya"
      },
      "outputs": [],
      "source": [
        "# get_dummies関数の利用サンプル\n",
        "\n",
        "w = pd.get_dummies(df9['男女子供'], prefix='男女子供')\n",
        "display(w.head(10))"
      ]
    },
    {
      "cell_type": "code",
      "execution_count": null,
      "metadata": {
        "id": "q14-sPSyAmyd"
      },
      "outputs": [],
      "source": [
        "# get_dummies関数でカテゴリ値をone hot vectorに展開する関数を定義\n",
        "# df 対象データフレーム\n",
        "# column 対象列\n",
        "\n",
        "def enc(df, column):\n",
        "    # One Hot Vector生成\n",
        "    df_dummy = pd.get_dummies(df[column], prefix=column)\n",
        "    # 元列の削除\n",
        "    df_drop = df.drop([column], axis=1)\n",
        "    # 削除したデータフレームと、One Hot生成列を連結\n",
        "    df1 = pd.concat([df_drop,df_dummy],axis=1)\n",
        "    return df1"
      ]
    },
    {
      "cell_type": "markdown",
      "metadata": {
        "id": "1_TDmrWVAmyf"
      },
      "source": [
        "#### 男女子供\n",
        "man / woman / child"
      ]
    },
    {
      "cell_type": "code",
      "execution_count": null,
      "metadata": {
        "id": "tzheYeFlAmyg"
      },
      "outputs": [],
      "source": [
        "# 項目値の確認\n",
        "display(df9['男女子供'].value_counts())"
      ]
    },
    {
      "cell_type": "code",
      "execution_count": null,
      "metadata": {
        "id": "56fHHLsDAmyj"
      },
      "outputs": [],
      "source": [
        "# One-Hot エンコード化\n",
        "\n",
        "# 男女子供,\n",
        "df10 = enc(df9, '男女子供')\n",
        "\n",
        "# 結果確認\n",
        "display(df10.head())"
      ]
    },
    {
      "cell_type": "markdown",
      "metadata": {
        "id": "XdfuLSKHAmym"
      },
      "source": [
        "#### 乗船港コードとデッキ"
      ]
    },
    {
      "cell_type": "code",
      "execution_count": null,
      "metadata": {
        "id": "5DK3CjdxAmym"
      },
      "outputs": [],
      "source": [
        "# One-Hot エンコード化\n",
        "\n",
        "# 乗船港コード\n",
        "df11 = enc(df10, '乗船港コード')\n",
        "\n",
        "# デッキ\n",
        "df12 = enc(df11, 'デッキ')\n",
        "\n",
        "# 結果確認\n",
        "display(df12.head())"
      ]
    },
    {
      "cell_type": "markdown",
      "metadata": {
        "id": "jWSOJSWAAmyp"
      },
      "source": [
        "### 4.2.5 正規化"
      ]
    },
    {
      "cell_type": "code",
      "execution_count": null,
      "metadata": {
        "id": "M-0K0bEwAmyq",
        "scrolled": false
      },
      "outputs": [],
      "source": [
        "# standardization\n",
        "\n",
        "df13 = df12.copy()\n",
        "from sklearn.preprocessing import StandardScaler\n",
        "stdsc = StandardScaler()\n",
        "df13[['年齢', '料金']] = stdsc.fit_transform(df13[['年齢', '料金']])\n",
        "\n",
        "# 結果確認\n",
        "display(df13.head())"
      ]
    },
    {
      "cell_type": "markdown",
      "source": [
        "### バージョン確認"
      ],
      "metadata": {
        "id": "z9nBRt61pjUA"
      }
    },
    {
      "cell_type": "code",
      "execution_count": null,
      "metadata": {
        "id": "BmMr7xgcAmyw"
      },
      "outputs": [],
      "source": [
        "!pip install watermark | tail -n 1\n",
        "%load_ext watermark\n",
        "%watermark --iversions"
      ]
    }
  ],
  "metadata": {
    "colab": {
      "provenance": [],
      "toc_visible": true
    },
    "kernelspec": {
      "display_name": "Python 3",
      "language": "python",
      "name": "python3"
    },
    "language_info": {
      "codemirror_mode": {
        "name": "ipython",
        "version": 3
      },
      "file_extension": ".py",
      "mimetype": "text/x-python",
      "name": "python",
      "nbconvert_exporter": "python",
      "pygments_lexer": "ipython3",
      "version": "3.7.6"
    }
  },
  "nbformat": 4,
  "nbformat_minor": 0
}