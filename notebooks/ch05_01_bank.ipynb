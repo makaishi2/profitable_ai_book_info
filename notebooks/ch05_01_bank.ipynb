{
  "cells": [
    {
      "cell_type": "markdown",
      "metadata": {
        "id": "greK8Y5uDD5k"
      },
      "source": [
        "## 5.1 営業成約予測(分類)\n"
      ]
    },
    {
      "cell_type": "markdown",
      "metadata": {
        "id": "7buSd9V8DD5l"
      },
      "source": [
        "### 共通事前処理"
      ]
    },
    {
      "cell_type": "code",
      "execution_count": null,
      "metadata": {
        "id": "n0uG9e4oy-Qg"
      },
      "outputs": [],
      "source": [
        "# 結果を紙面とそろえるためバージョンを下げる\n",
        "!pip install xgboost==0.90 | tail -n 1"
      ]
    },
    {
      "cell_type": "code",
      "execution_count": null,
      "metadata": {
        "id": "nhrNAiGmy-Qh"
      },
      "outputs": [],
      "source": [
        "# モデルのprint時に全てのパラメータを表示するよう設定を変更\n",
        "from sklearn import set_config\n",
        "set_config(print_changed_only=False)"
      ]
    },
    {
      "cell_type": "code",
      "execution_count": null,
      "metadata": {
        "id": "j_iOBA19DD5m"
      },
      "outputs": [],
      "source": [
        "# 日本語化ライブラリ導入\n",
        "!pip install japanize-matplotlib | tail -n 1"
      ]
    },
    {
      "cell_type": "code",
      "execution_count": null,
      "metadata": {
        "id": "1Mxrs7MVDD5p"
      },
      "outputs": [],
      "source": [
        "# 共通事前処理\n",
        "\n",
        "# 余分なワーニングを非表示にする\n",
        "import warnings\n",
        "warnings.filterwarnings('ignore')\n",
        "\n",
        "# 必要ライブラリのimport\n",
        "import pandas as pd\n",
        "import numpy as np\n",
        "import matplotlib.pyplot as plt\n",
        "\n",
        "# matplotlib日本語化対応\n",
        "import japanize_matplotlib\n",
        "\n",
        "# データフレーム表示用関数\n",
        "from IPython.display import display\n",
        "\n",
        "# 表示オプション調整\n",
        "# numpyの浮動小数点の表示精度\n",
        "np.set_printoptions(suppress=True, precision=4)\n",
        "# pandasでの浮動小数点の表示精度\n",
        "pd.options.display.float_format = '{:.4f}'.format\n",
        "# データフレームですべての項目を表示\n",
        "pd.set_option(\"display.max_columns\",None)\n",
        "# グラフのデフォルトフォント指定\n",
        "plt.rcParams[\"font.size\"] = 14\n",
        "# 乱数の種\n",
        "random_seed = 123"
      ]
    },
    {
      "cell_type": "code",
      "execution_count": null,
      "metadata": {
        "id": "qPY0LwgIDD5s"
      },
      "outputs": [],
      "source": [
        "# 混同行列表示用関数\n",
        "\n",
        "def make_cm(matrix, columns):\n",
        "    # matrix numpy配列\n",
        "\n",
        "    # columns 項目名リスト\n",
        "    n = len(columns)\n",
        "\n",
        "    # '正解データ'をn回繰り返すリスト生成\n",
        "    act = ['正解データ'] * n\n",
        "    pred = ['予測結果'] * n\n",
        "\n",
        "    #データフレーム生成\n",
        "    cm = pd.DataFrame(matrix,\n",
        "        columns=[pred, columns], index=[act, columns])\n",
        "    return cm"
      ]
    },
    {
      "cell_type": "markdown",
      "metadata": {
        "id": "pqFtoL69DD5u"
      },
      "source": [
        "### 5.1.4 データ読み込みからデータ確認まで"
      ]
    },
    {
      "cell_type": "markdown",
      "metadata": {
        "id": "vqPhIS63DD5u"
      },
      "source": [
        "#### データ読み込み"
      ]
    },
    {
      "cell_type": "code",
      "execution_count": null,
      "metadata": {
        "id": "qvloe3H9DD5v"
      },
      "outputs": [],
      "source": [
        "# 公開データのダウンロードと解凍\n",
        "!wget https://archive.ics.uci.edu/ml/machine-learning-databases/00222/bank.zip\n",
        "!unzip -o bank.zip\n",
        "\n",
        "# bank-full.csvをデータフレームに取り込み\n",
        "df_all = pd.read_csv('bank-full.csv', sep=';')\n",
        "\n",
        "# 項目名を日本語に置き換える\n",
        "columns = [\n",
        "    '年齢', '職業', '婚姻', '学歴', '債務不履行', '平均残高',\n",
        "    '住宅ローン', '個人ローン', '連絡手段', '最終通話日',\n",
        "    '最終通話月', '最終通話秒数', '通話回数_販促中',\n",
        "    '前回販促後_経過日数', '通話回数_販促前', '前回販促結果',\n",
        "    '今回販促結果'\n",
        "]\n",
        "df_all.columns = columns"
      ]
    },
    {
      "cell_type": "markdown",
      "metadata": {
        "id": "Y831BSZ6DD5x"
      },
      "source": [
        "#### データ確認"
      ]
    },
    {
      "cell_type": "code",
      "execution_count": null,
      "metadata": {
        "id": "yW6T-FRwDD5x"
      },
      "outputs": [],
      "source": [
        "# データフレームの内容確認\n",
        "display(df_all.head())"
      ]
    },
    {
      "cell_type": "code",
      "execution_count": null,
      "metadata": {
        "id": "mq3sna7PDD50"
      },
      "outputs": [],
      "source": [
        "# 学習データの件数と項目数確認\n",
        "print(df_all.shape)\n",
        "print()\n",
        "\n",
        "# 「今回販促結果」の値の分布確認\n",
        "print(df_all['今回販促結果'].value_counts())\n",
        "print()\n",
        "\n",
        "# 営業成功率\n",
        "rate = df_all['今回販促結果'].value_counts()['yes']/len(df_all)\n",
        "print(f'営業成功率: {rate:.4f}')"
      ]
    },
    {
      "cell_type": "code",
      "execution_count": null,
      "metadata": {
        "id": "yaC-1JhfDD52"
      },
      "outputs": [],
      "source": [
        "# 欠損値の確認\n",
        "print(df_all.isnull().sum())"
      ]
    },
    {
      "cell_type": "markdown",
      "metadata": {
        "id": "8fcG4AcJDD54"
      },
      "source": [
        "### 5.1.5 データ前処理とデータ分割"
      ]
    },
    {
      "cell_type": "markdown",
      "metadata": {
        "id": "7WqV5i4mDD55"
      },
      "source": [
        "#### データ前処理"
      ]
    },
    {
      "cell_type": "markdown",
      "metadata": {
        "id": "utdgANk6DD55"
      },
      "source": [
        "##### 前処理 step 1"
      ]
    },
    {
      "cell_type": "code",
      "execution_count": null,
      "metadata": {
        "id": "lfh1_7JVDD56"
      },
      "outputs": [],
      "source": [
        "# get_dummies関数でカテゴリ値をOne-Hotエンコーディング\n",
        "\n",
        "# 項目をOne-Hotエンコーディングするための関数\n",
        "def enc(df, column):\n",
        "    df_dummy = pd.get_dummies(df[column], prefix=column)\n",
        "    df = pd.concat([df.drop([column],axis=1),df_dummy],axis=1)\n",
        "    return df\n",
        "\n",
        "df_all2 = df_all.copy()\n",
        "df_all2 = enc(df_all2, '職業')\n",
        "df_all2 = enc(df_all2, '婚姻')\n",
        "df_all2 = enc(df_all2, '学歴')\n",
        "df_all2 = enc(df_all2, '連絡手段')\n",
        "df_all2 = enc(df_all2, '前回販促結果')\n",
        "\n",
        "# 結果確認\n",
        "display(df_all2.head())"
      ]
    },
    {
      "cell_type": "markdown",
      "metadata": {
        "id": "8sxzhdFLDD58"
      },
      "source": [
        "##### 前処理 step2"
      ]
    },
    {
      "cell_type": "code",
      "execution_count": null,
      "metadata": {
        "id": "MwTqLY8NDD58"
      },
      "outputs": [],
      "source": [
        "# yes/noを1/0に置換\n",
        "\n",
        "# 2値 (yes/no)の値を(1/0)に置換する関数\n",
        "def enc_bin(df, column):\n",
        "    df[column] = df[column].map(dict(yes=1, no=0))\n",
        "    return df\n",
        "\n",
        "df_all2 = enc_bin(df_all2, '債務不履行')\n",
        "df_all2 = enc_bin(df_all2, '住宅ローン')\n",
        "df_all2 = enc_bin(df_all2, '個人ローン')\n",
        "df_all2 = enc_bin(df_all2, '今回販促結果')\n",
        "\n",
        "# 結果確認\n",
        "display(df_all2.head())"
      ]
    },
    {
      "cell_type": "markdown",
      "metadata": {
        "id": "sdzcZczGDD5-"
      },
      "source": [
        "##### 前処理 step3"
      ]
    },
    {
      "cell_type": "code",
      "execution_count": null,
      "metadata": {
        "id": "89k7MqrmDD5-"
      },
      "outputs": [],
      "source": [
        "# 月名(jan, feb,..)を1,2.. に置換\n",
        "\n",
        "month_dict = dict(jan=1, feb=2, mar=3, apr=4,\n",
        "    may=5, jun=6, jul=7, aug=8, sep=9, oct=10,\n",
        "    nov=11, dec=12)\n",
        "\n",
        "def enc_month(df, column):\n",
        "    df[column] = df[column].map(month_dict)\n",
        "    return df\n",
        "\n",
        "df_all2 = enc_month(df_all2, '最終通話月')\n",
        "\n",
        "# 結果確認\n",
        "display(df_all2.head())"
      ]
    },
    {
      "cell_type": "markdown",
      "metadata": {
        "id": "ag6NF3YGDD6B"
      },
      "source": [
        "#### データ分割"
      ]
    },
    {
      "cell_type": "code",
      "execution_count": null,
      "metadata": {
        "id": "RNM-n5xNDD6B"
      },
      "outputs": [],
      "source": [
        "# 入力データと正解データの分割\n",
        "x = df_all2.drop('今回販促結果', axis=1)\n",
        "y = df_all2['今回販促結果'].values\n",
        "\n",
        "# 訓練データと検証データの分割\n",
        "# 訓練データ60% 検証データ40%の比率で分割する\n",
        "test_size = 0.4\n",
        "\n",
        "from sklearn.model_selection import train_test_split\n",
        "x_train, x_test, y_train, y_test = train_test_split(\n",
        "  x, y, test_size=test_size, random_state=random_seed,\n",
        "  stratify=y)"
      ]
    },
    {
      "cell_type": "markdown",
      "metadata": {
        "id": "DpTcsQUnDD6D"
      },
      "source": [
        "### 5.1.6 アルゴリズム選定"
      ]
    },
    {
      "cell_type": "markdown",
      "metadata": {
        "id": "pkhoVI43DD6E"
      },
      "source": [
        "#### アルゴリズム選定"
      ]
    },
    {
      "cell_type": "code",
      "execution_count": null,
      "metadata": {
        "id": "cvDcyK4NDD6F"
      },
      "outputs": [],
      "source": [
        "# 候補アルゴリズムのリスト化\n",
        "\n",
        "# ロジスティック回帰 (4.3.3)\n",
        "from sklearn.linear_model import LogisticRegression\n",
        "algorithm1 = LogisticRegression(random_state=random_seed)\n",
        "\n",
        "# 決定木 (4.3.6)\n",
        "from sklearn.tree import DecisionTreeClassifier\n",
        "algorithm2 = DecisionTreeClassifier(random_state=random_seed)\n",
        "\n",
        "# ランダムフォレスト (4.3.7)\n",
        "from sklearn.ensemble import RandomForestClassifier\n",
        "algorithm3 = RandomForestClassifier(random_state=random_seed)\n",
        "\n",
        "# XGBoost (4.3.8)\n",
        "from xgboost import XGBClassifier\n",
        "algorithm4 = XGBClassifier(random_state=random_seed)\n",
        "\n",
        "algorithms = [algorithm1, algorithm2, algorithm3, algorithm4]"
      ]
    },
    {
      "cell_type": "code",
      "execution_count": null,
      "metadata": {
        "id": "WjGF85RzDD6H"
      },
      "outputs": [],
      "source": [
        "# 交差検定法を用いて最適なアルゴリズムの選定\n",
        "from sklearn.model_selection import StratifiedKFold\n",
        "stratifiedkfold = StratifiedKFold(n_splits=3)\n",
        "\n",
        "from sklearn.model_selection import cross_val_score\n",
        "for algorithm in algorithms:\n",
        "    # 交差検定法の実行\n",
        "    scores = cross_val_score(algorithm , x_train, y_train,\n",
        "        cv=stratifiedkfold, scoring='roc_auc')\n",
        "    score = scores.mean()\n",
        "    name = algorithm.__class__.__name__\n",
        "    print(f'平均スコア: {score:.4f}  個別スコア: {scores}  {name}')"
      ]
    },
    {
      "cell_type": "markdown",
      "metadata": {
        "id": "OvI5OazYDD6J"
      },
      "source": [
        "#### 結論\n",
        "XGBboostが4つの候補の中で最も精度が高い  \n",
        "-> 以降はXGBoostを利用する"
      ]
    },
    {
      "cell_type": "markdown",
      "metadata": {
        "id": "H2WS6jc9DD6J"
      },
      "source": [
        "### 5.1.7 学習・予測・評価"
      ]
    },
    {
      "cell_type": "code",
      "execution_count": null,
      "metadata": {
        "id": "gm9ZnYQqDD6J"
      },
      "outputs": [],
      "source": [
        "# アルゴリズム選定\n",
        "# XGBoostを利用\n",
        "algorithm = XGBClassifier(random_state=random_seed)\n",
        "\n",
        "# 学習\n",
        "algorithm.fit(x_train, y_train)\n",
        "\n",
        "# 予測\n",
        "y_pred = algorithm.predict(x_test)"
      ]
    },
    {
      "cell_type": "code",
      "execution_count": null,
      "metadata": {
        "id": "3o4jUNMrDD6L"
      },
      "outputs": [],
      "source": [
        "# 評価\n",
        "\n",
        "# 混同行列を出力\n",
        "from sklearn.metrics import confusion_matrix\n",
        "df_matrix = make_cm(\n",
        "    confusion_matrix(y_test, y_pred), ['失敗', '成功'])\n",
        "display(df_matrix)\n",
        "\n",
        "# 適合率, 再現率, F値を計算\n",
        "from sklearn.metrics import precision_recall_fscore_support\n",
        "precision, recall, fscore, _ = precision_recall_fscore_support(\n",
        "    y_test, y_pred, average='binary')\n",
        "print(f'適合率: {precision:.4f}  再現率: {recall:.4f}  F値: {fscore:.4f}')"
      ]
    },
    {
      "cell_type": "markdown",
      "metadata": {
        "id": "nLvsE5E4DD6N"
      },
      "source": [
        "### 5.1.8 チューニング"
      ]
    },
    {
      "cell_type": "markdown",
      "metadata": {
        "id": "2M8Cw9-9DD6O"
      },
      "source": [
        "#### 確率値の度数分布グラフ"
      ]
    },
    {
      "cell_type": "code",
      "execution_count": null,
      "metadata": {
        "id": "OUEel6NnDD6O"
      },
      "outputs": [],
      "source": [
        "# 確率値の度数分布グラフ\n",
        "import seaborn as sns\n",
        "\n",
        "# y=1の確率値取得\n",
        "y_proba1 = algorithm.predict_proba(x_test)[:,1]\n",
        "\n",
        "# y_test=0 と y_test=1 でデータ分割\n",
        "y0 = y_proba1[y_test==0]\n",
        "y1 = y_proba1[y_test==1]\n",
        "\n",
        "# 散布図描画\n",
        "plt.figure(figsize=(6,6))\n",
        "plt.title('確率値の度数分布')\n",
        "sns.distplot(y1, kde=False, norm_hist=True,\n",
        "    bins=50, color='b', label='成功')\n",
        "sns.distplot(y0, kde=False, norm_hist=True,\n",
        "    bins=50, color='k', label='失敗')\n",
        "plt.xlabel('確率値')\n",
        "plt.legend()\n",
        "plt.show()"
      ]
    },
    {
      "cell_type": "markdown",
      "metadata": {
        "id": "54UJyEfuDD6Q"
      },
      "source": [
        "#### predict_proba関数を利用して、閾値0.5以外の場合の予測をする\n",
        "(4.4節参照)"
      ]
    },
    {
      "cell_type": "code",
      "execution_count": null,
      "metadata": {
        "id": "AAQy8MAADD6Q"
      },
      "outputs": [],
      "source": [
        "# 閾値を変更した場合の予測関数の定義\n",
        "def pred(algorithm, x, thres):\n",
        "    # 確率値の取得(行列)\n",
        "    y_proba = algorithm.predict_proba(x)\n",
        "\n",
        "    # 予測結果1の確率値\n",
        "    y_proba1 =  y_proba[:,1]\n",
        "\n",
        "    # 予測結果1の確率値 > 閾値\n",
        "    y_pred = (y_proba1 > thres).astype(int)\n",
        "    return y_pred"
      ]
    },
    {
      "cell_type": "code",
      "execution_count": null,
      "metadata": {
        "id": "Xd2q8qUfDD6S",
        "scrolled": true
      },
      "outputs": [],
      "source": [
        "# 閾値を0.05刻みに変化させて、適合率, 再現率, F値を計算する\n",
        "thres_list = np.arange(0.5, 0, -0.05)\n",
        "\n",
        "for thres in thres_list:\n",
        "    y_pred = pred(algorithm, x_test, thres)\n",
        "    pred_sum =  y_pred.sum()\n",
        "    precision, recall, fscore, _ = precision_recall_fscore_support(\n",
        "        y_test, y_pred, average='binary')\n",
        "    print(f'閾値: {thres:.2f} 陽性予測数: {pred_sum}\\\n",
        " 適合率: {precision:.4f} 再現率: {recall:.4f}  F値: {fscore:.4f})')"
      ]
    },
    {
      "cell_type": "code",
      "execution_count": null,
      "metadata": {
        "id": "X-3RKzXCDD6U"
      },
      "outputs": [],
      "source": [
        "# F値を最大にする閾値は0.30\n",
        "y_final = pred(algorithm, x_test, 0.30)\n",
        "\n",
        "# 混同行列を出力\n",
        "df_matrix2 = make_cm(\n",
        "    confusion_matrix(y_test, y_final), ['失敗', '成功'])\n",
        "display(df_matrix2)\n",
        "\n",
        "# 適合率, 再現率, F値を計算\n",
        "precision, recall, fscore, _ = precision_recall_fscore_support(\n",
        "    y_test, y_final, average='binary')\n",
        "print(f'適合率: {precision:.4f}  再現率: {recall:.4f}\\\n",
        "  F値: {fscore:.4f}')"
      ]
    },
    {
      "cell_type": "markdown",
      "metadata": {
        "id": "T2Qfm0sJDD6W"
      },
      "source": [
        "### 5.1.9 重要度分析"
      ]
    },
    {
      "cell_type": "code",
      "execution_count": null,
      "metadata": {
        "id": "HL4FWFeEDD6W"
      },
      "outputs": [],
      "source": [
        "# 重要度分析\n",
        "\n",
        "# 重要度ベクトルの取得\n",
        "importances = algorithm.feature_importances_\n",
        "\n",
        "# 項目名をキーにSeriesを生成\n",
        "w = pd.Series(importances, index=x.columns)\n",
        "\n",
        "# 値の大きい順にソート\n",
        "u = w.sort_values(ascending=False)\n",
        "\n",
        "# top10のみ抽出\n",
        "v = u[:10]\n",
        "\n",
        "# 重要度の棒グラフ表示\n",
        "plt.title('入力項目の重要度')\n",
        "plt.bar(range(len(v)), v, color='b', align='center')\n",
        "plt.xticks(range(len(v)), v.index, rotation=90)\n",
        "plt.show()"
      ]
    },
    {
      "cell_type": "code",
      "execution_count": null,
      "metadata": {
        "id": "7pKrc1ddDD6Y"
      },
      "outputs": [],
      "source": [
        "column = '前回販促結果_success'\n",
        "\n",
        "sns.distplot(x_test[y_test==1][column], kde=False, norm_hist=True,\n",
        "            bins=5,color='b', label='成功')\n",
        "sns.distplot(x_test[y_test==0][column], kde=False, norm_hist=True,\n",
        "             bins=5,color='k', label='失敗')\n",
        "\n",
        "plt.legend()\n",
        "plt.show()"
      ]
    },
    {
      "cell_type": "code",
      "execution_count": null,
      "metadata": {
        "id": "QVCfG-gsDD6a"
      },
      "outputs": [],
      "source": [
        "column = '最終通話秒数'\n",
        "\n",
        "sns.distplot(x_test[y_test==1][column], kde=False, norm_hist=True,\n",
        "             bins=50, color='b', label='成功')\n",
        "sns.distplot(x_test[y_test==0][column], kde=False, norm_hist=True,\n",
        "             bins=50, color='k', label='失敗')\n",
        "\n",
        "plt.legend()\n",
        "plt.show()"
      ]
    },
    {
      "cell_type": "code",
      "execution_count": null,
      "metadata": {
        "id": "rVejoJVUDD6c"
      },
      "outputs": [],
      "source": [
        "column = '連絡手段_unknown'\n",
        "\n",
        "sns.distplot(x_test[y_test==1][column], kde=False, norm_hist=True,\n",
        "            bins=5,color='b', label='成功')\n",
        "sns.distplot(x_test[y_test==0][column], kde=False, norm_hist=True,\n",
        "             bins=5,color='k', label='失敗')\n",
        "\n",
        "plt.legend()\n",
        "plt.show()"
      ]
    },
    {
      "cell_type": "code",
      "execution_count": null,
      "metadata": {
        "id": "oUqD2Uk1DD6e"
      },
      "outputs": [],
      "source": [
        "column = '住宅ローン'\n",
        "\n",
        "sns.distplot(x_test[y_test==1][column], kde=False, norm_hist=True,\n",
        "            bins=5,color='b', label='成功')\n",
        "sns.distplot(x_test[y_test==0][column], kde=False, norm_hist=True,\n",
        "             bins=5,color='k', label='失敗')\n",
        "\n",
        "plt.legend()\n",
        "plt.show()"
      ]
    },
    {
      "cell_type": "code",
      "execution_count": null,
      "metadata": {
        "id": "zBr8S7z2DD6g"
      },
      "outputs": [],
      "source": [
        "column = '婚姻_single'\n",
        "\n",
        "sns.distplot(x_test[y_test==1][column], kde=False, norm_hist=True,\n",
        "            bins=5,color='b', label='成功')\n",
        "sns.distplot(x_test[y_test==0][column], kde=False, norm_hist=True,\n",
        "             bins=5,color='k', label='失敗')\n",
        "\n",
        "plt.legend()\n",
        "plt.show()"
      ]
    },
    {
      "cell_type": "markdown",
      "source": [
        "### バージョン確認"
      ],
      "metadata": {
        "id": "mSQN0e1Bq2-2"
      }
    },
    {
      "cell_type": "code",
      "execution_count": null,
      "metadata": {
        "id": "mq2hl4maDD6h"
      },
      "outputs": [],
      "source": [
        "!pip install watermark | tail -n 1\n",
        "%load_ext watermark\n",
        "%watermark --iversions"
      ]
    }
  ],
  "metadata": {
    "colab": {
      "provenance": [],
      "toc_visible": true
    },
    "kernelspec": {
      "display_name": "Python 3",
      "language": "python",
      "name": "python3"
    },
    "language_info": {
      "codemirror_mode": {
        "name": "ipython",
        "version": 3
      },
      "file_extension": ".py",
      "mimetype": "text/x-python",
      "name": "python",
      "nbconvert_exporter": "python",
      "pygments_lexer": "ipython3",
      "version": "3.7.6"
    }
  },
  "nbformat": 4,
  "nbformat_minor": 0
}