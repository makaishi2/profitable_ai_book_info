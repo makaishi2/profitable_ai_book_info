{
  "cells": [
    {
      "cell_type": "markdown",
      "metadata": {
        "id": "xv2OcVTkY7vv"
      },
      "source": [
        "## 4.4 評価\n"
      ]
    },
    {
      "cell_type": "code",
      "execution_count": null,
      "metadata": {
        "id": "-PHeHE44Y7vw"
      },
      "outputs": [],
      "source": [
        "# 日本語化ライブラリ導入\n",
        "!pip install japanize-matplotlib | tail -n 1"
      ]
    },
    {
      "cell_type": "code",
      "execution_count": null,
      "metadata": {
        "id": "ItFXXvEKytjs"
      },
      "outputs": [],
      "source": [
        "# 結果を紙面とそろえるためバージョンを下げる\n",
        "!pip install xgboost==0.90 | tail -n 1"
      ]
    },
    {
      "cell_type": "code",
      "execution_count": null,
      "metadata": {
        "id": "e50p5Lu3ytjs"
      },
      "outputs": [],
      "source": [
        "# モデルのprint時に全てのパラメータを表示するよう設定を変更\n",
        "from sklearn import set_config\n",
        "set_config(print_changed_only=False)"
      ]
    },
    {
      "cell_type": "code",
      "execution_count": null,
      "metadata": {
        "id": "Ra8fM7lxY7v0"
      },
      "outputs": [],
      "source": [
        "# 共通事前処理\n",
        "\n",
        "# 余分なワーニングを非表示にする\n",
        "import warnings\n",
        "warnings.filterwarnings('ignore')\n",
        "\n",
        "# 必要ライブラリのimport\n",
        "import pandas as pd\n",
        "import numpy as np\n",
        "import matplotlib.pyplot as plt\n",
        "\n",
        "# matplotlib日本語化対応\n",
        "import japanize_matplotlib\n",
        "\n",
        "# データフレーム表示用関数\n",
        "from IPython.display import display\n",
        "\n",
        "# 表示オプション調整\n",
        "# numpyの浮動小数点の表示精度\n",
        "np.set_printoptions(suppress=True, precision=4)\n",
        "# pandasでの浮動小数点の表示精度\n",
        "pd.options.display.float_format = '{:.4f}'.format\n",
        "# データフレームですべての項目を表示\n",
        "pd.set_option(\"display.max_columns\",None)\n",
        "# グラフのデフォルトフォント指定\n",
        "plt.rcParams[\"font.size\"] = 14\n",
        "# 乱数の種\n",
        "random_seed = 123"
      ]
    },
    {
      "cell_type": "markdown",
      "metadata": {
        "id": "BpHwA-JaY7v3"
      },
      "source": [
        "### 4.4.1 混同行列"
      ]
    },
    {
      "cell_type": "markdown",
      "metadata": {
        "id": "EWGhMtRxY7v3"
      },
      "source": [
        "#### 混同行列"
      ]
    },
    {
      "cell_type": "code",
      "execution_count": null,
      "metadata": {
        "id": "Ggsurtn8Y7v3"
      },
      "outputs": [],
      "source": [
        "# データ読み込みからデータ分割まで\n",
        "\n",
        "# ライブラリのimport\n",
        "from sklearn.datasets import load_breast_cancer\n",
        "\n",
        "# データのロード\n",
        "cancer = load_breast_cancer()\n",
        "\n",
        "# 入力データ x\n",
        "x = cancer.data\n",
        "\n",
        "# 正解データ y\n",
        "# 良性: 0 悪性: 1に値を変更する\n",
        "y = 1- cancer.target\n",
        "\n",
        "# 入力データを2次元に絞り込み\n",
        "x2 = x[:,:2]\n",
        "\n",
        "# (4) データ分割\n",
        "from sklearn.model_selection import train_test_split\n",
        "x_train, x_test, y_train, y_test = train_test_split(x2, y,\n",
        "    train_size=0.7, test_size=0.3, random_state=random_seed)"
      ]
    },
    {
      "cell_type": "code",
      "execution_count": null,
      "metadata": {
        "id": "dQ9XUGlqY7v6"
      },
      "outputs": [],
      "source": [
        "# アルゴリズム選定から評価まで\n",
        "\n",
        "# アルゴリズム選定 (ロジスティック回帰)\n",
        "from sklearn.linear_model import LogisticRegression\n",
        "algorithm = LogisticRegression(random_state=random_seed)\n",
        "\n",
        "# 学習\n",
        "algorithm.fit(x_train, y_train)\n",
        "\n",
        "# 予測\n",
        "y_pred = algorithm.predict(x_test)\n",
        "\n",
        "# 評価\n",
        "score = algorithm.score(x_test, y_test)\n",
        "\n",
        "# 結果確認\n",
        "print(f'score: {score:.4f}')"
      ]
    },
    {
      "cell_type": "code",
      "execution_count": null,
      "metadata": {
        "id": "iODYJJZRY7v8"
      },
      "outputs": [],
      "source": [
        "# 混同行列の計算\n",
        "\n",
        "# 必要ライブラリの取込み\n",
        "from sklearn.metrics import confusion_matrix\n",
        "\n",
        "# 混同行列の生成\n",
        "#   y_test: 検証データの正解データ\n",
        "#   y_pred: 検証データの予測結果\n",
        "matrix = confusion_matrix(y_test, y_pred)\n",
        "\n",
        "# 結果確認\n",
        "print(matrix)"
      ]
    },
    {
      "cell_type": "code",
      "execution_count": null,
      "metadata": {
        "id": "CCo_8nbJY7v_"
      },
      "outputs": [],
      "source": [
        "# 混同行列表示用関数\n",
        "\n",
        "def make_cm(matrix, columns):\n",
        "    # matrix numpy配列\n",
        "\n",
        "    # columns 項目名リスト\n",
        "    n = len(columns)\n",
        "\n",
        "    # '正解データ'をn回繰り返すリスト生成\n",
        "    act = ['正解データ'] * n\n",
        "    pred = ['予測結果'] * n\n",
        "\n",
        "    #データフレーム生成\n",
        "    cm = pd.DataFrame(matrix,\n",
        "        columns=[pred, columns], index=[act, columns])\n",
        "    return cm"
      ]
    },
    {
      "cell_type": "code",
      "execution_count": null,
      "metadata": {
        "id": "QRCossNUY7wB"
      },
      "outputs": [],
      "source": [
        "# make_cmを使った混同行列標示\n",
        "cm = make_cm(matrix, ['良性', '悪性'])\n",
        "display(cm)"
      ]
    },
    {
      "cell_type": "markdown",
      "metadata": {
        "id": "Hsfiqt9kY7wH"
      },
      "source": [
        "### 4.4.2 精度・適合率・再現率・F値"
      ]
    },
    {
      "cell_type": "code",
      "execution_count": null,
      "metadata": {
        "id": "bW78c493Y7wH"
      },
      "outputs": [],
      "source": [
        "# 適合率・再現率・F値の計算\n",
        "\n",
        "# ライブラリの取込み\n",
        "from sklearn.metrics import precision_recall_fscore_support\n",
        "\n",
        "# 適合率・再現率・F値の計算\n",
        "precision, recall, fscore, _ = precision_recall_fscore_support(\n",
        "    y_test, y_pred, average='binary')\n",
        "\n",
        "# 結果の確認\n",
        "print(f'適合率: {precision:.4f}')\n",
        "print(f'再現率: {recall:.4f}')\n",
        "print(f'F値:   {fscore:.4f}')"
      ]
    },
    {
      "cell_type": "markdown",
      "metadata": {
        "id": "5ccT1r0PY7wJ"
      },
      "source": [
        "### 4.4.3 確率値と閾値"
      ]
    },
    {
      "cell_type": "code",
      "execution_count": null,
      "metadata": {
        "id": "pLHofKFhY7wK"
      },
      "outputs": [],
      "source": [
        "# 確率値の取得\n",
        "y_proba = algorithm.predict_proba(x_test)\n",
        "print(y_proba[10:20,:])"
      ]
    },
    {
      "cell_type": "code",
      "execution_count": null,
      "metadata": {
        "id": "gvH_nov_Y7wM"
      },
      "outputs": [],
      "source": [
        "# positive(1)の確率値の取得\n",
        "y_proba1 = y_proba[:,1]\n",
        "\n",
        "# 結果確認\n",
        "print(y_pred[10:20])\n",
        "print(y_proba1[10:20])"
      ]
    },
    {
      "cell_type": "code",
      "execution_count": null,
      "metadata": {
        "id": "1at-bPhnY7wP"
      },
      "outputs": [],
      "source": [
        "# 閾値を変化させる\n",
        "thres = 0.5\n",
        "print((y_proba1[10:20] > thres).astype(int))\n",
        "\n",
        "thres = 0.7\n",
        "print((y_proba1[10:20] > thres).astype(int))"
      ]
    },
    {
      "cell_type": "code",
      "execution_count": null,
      "metadata": {
        "id": "AO5clSBBY7wR"
      },
      "outputs": [],
      "source": [
        "# 閾値を変更した場合の予測関数の定義\n",
        "def pred(algorithm, x, thres):\n",
        "    # 確率値の取得(行列)\n",
        "    y_proba = algorithm.predict_proba(x)\n",
        "\n",
        "    # 予測結果1の確率値\n",
        "    y_proba1 =  y_proba[:,1]\n",
        "\n",
        "    # 予測結果1の確率値 > 閾値\n",
        "    y_pred = (y_proba1 > thres).astype(int)\n",
        "    return y_pred"
      ]
    },
    {
      "cell_type": "code",
      "execution_count": null,
      "metadata": {
        "id": "Z9X-vomEY7wU"
      },
      "outputs": [],
      "source": [
        "# 閾値0.5で予測結果取得\n",
        "pred_05 = pred(algorithm, x_test, 0.5)\n",
        "\n",
        "# 閾値0.7で予測結果取得\n",
        "pred_07 = pred(algorithm, x_test, 0.7)\n",
        "\n",
        "# 結果確認\n",
        "print(pred_05[10:20])\n",
        "print(pred_07[10:20])"
      ]
    },
    {
      "cell_type": "markdown",
      "metadata": {
        "id": "kqoDRgYoY7wW"
      },
      "source": [
        "### 4.4.4 PR曲線とROC曲線"
      ]
    },
    {
      "cell_type": "markdown",
      "metadata": {
        "id": "ybbNCaXOY7wW"
      },
      "source": [
        "#### PR曲線"
      ]
    },
    {
      "cell_type": "code",
      "execution_count": null,
      "metadata": {
        "id": "mQdAXZBbY7wX"
      },
      "outputs": [],
      "source": [
        "# PR曲線用配列の生成\n",
        "\n",
        "# ライブラリの導入\n",
        "from sklearn.metrics import precision_recall_curve\n",
        "# 適合率, 再現率、閾値の取得\n",
        "precision, recall, thresholds = precision_recall_curve(\n",
        "    y_test, y_proba1)\n",
        "# 結果をデータフレームにする\n",
        "df_pr = pd.DataFrame([thresholds, precision, recall]).T\n",
        "df_pr.columns = ['閾値', '適合率', '再現率']\n",
        "# 閾値 0.5の周辺を表示\n",
        "display(df_pr[52:122:10])"
      ]
    },
    {
      "cell_type": "code",
      "execution_count": null,
      "metadata": {
        "id": "yjxdxEwUY7wZ"
      },
      "outputs": [],
      "source": [
        "# PR曲線の描画\n",
        "\n",
        "# 描画サイズ指定\n",
        "plt.figure(figsize=(6,6))\n",
        "# グラフ領域の塗りつぶし\n",
        "plt.fill_between(recall, precision, 0)\n",
        "# x, yの範囲指定\n",
        "plt.xlim([0.0, 1.0])\n",
        "plt.ylim([0.0, 1.0])\n",
        "# ラベル・タイトル表示\n",
        "plt.xlabel('再現率')\n",
        "plt.ylabel('適合率')\n",
        "plt.title('PR曲線')\n",
        "plt.show()"
      ]
    },
    {
      "cell_type": "code",
      "execution_count": null,
      "metadata": {
        "id": "O4JAQ3HIY7wb"
      },
      "outputs": [],
      "source": [
        "# PR曲線下面積の計算\n",
        "from sklearn.metrics import auc\n",
        "pr_auc = auc(recall, precision)\n",
        "print(f'PR曲線下面積: {pr_auc:.4f}')"
      ]
    },
    {
      "cell_type": "markdown",
      "metadata": {
        "id": "nKtHryvTY7wd"
      },
      "source": [
        "#### ROC曲線"
      ]
    },
    {
      "cell_type": "code",
      "execution_count": null,
      "metadata": {
        "id": "jw-GtJwtY7we"
      },
      "outputs": [],
      "source": [
        "# ROC曲線用配列の生成\n",
        "\n",
        "# ライブラリの導入\n",
        "from sklearn.metrics import roc_curve\n",
        "\n",
        "# 偽陽性率, 敏感度と閾値の取得\n",
        "fpr, tpr, thresholds = roc_curve(\n",
        "    y_test, y_proba1,drop_intermediate=False)\n",
        "\n",
        "# 結果をデータフレームにする\n",
        "df_roc = pd.DataFrame([thresholds, fpr, tpr]).T\n",
        "df_roc.columns = ['閾値', '偽陽性率', '敏感度']\n",
        "\n",
        "# 閾値 0.5の周辺を表示\n",
        "display(df_roc[21:91:10])"
      ]
    },
    {
      "cell_type": "code",
      "execution_count": null,
      "metadata": {
        "id": "DAoQrQB0Y7wg"
      },
      "outputs": [],
      "source": [
        "# ROC曲線の描画\n",
        "\n",
        "# 描画サイズ指定\n",
        "plt.figure(figsize=(6,6))\n",
        "\n",
        "# 点線表示\n",
        "plt.plot([0, 1], [0, 1], 'k--')\n",
        "\n",
        "# グラフ領域の塗りつぶし\n",
        "plt.fill_between(fpr, tpr, 0)\n",
        "\n",
        "# x, yの範囲指定\n",
        "plt.xlim([0.0, 1.0])\n",
        "plt.ylim([0.0, 1.0])\n",
        "\n",
        "# ラベル・タイトル表示\n",
        "plt.xlabel('偽陽性率')\n",
        "plt.ylabel('敏感度')\n",
        "plt.title('ROC曲線')\n",
        "plt.show()"
      ]
    },
    {
      "cell_type": "code",
      "execution_count": null,
      "metadata": {
        "id": "SLeeC-m8Y7wi"
      },
      "outputs": [],
      "source": [
        "# ROC曲線下面積の計算\n",
        "roc_auc = auc(fpr, tpr)\n",
        "print(f'ROC曲線下面積:{roc_auc:.4f}')"
      ]
    },
    {
      "cell_type": "markdown",
      "metadata": {
        "id": "BLgzbVcaY7wk"
      },
      "source": [
        "#### より精度のいいモデルでROCカーブを描画"
      ]
    },
    {
      "cell_type": "code",
      "execution_count": null,
      "metadata": {
        "id": "IwwzzLZ_Y7wk"
      },
      "outputs": [],
      "source": [
        "from sklearn.model_selection import train_test_split\n",
        "x_train, x_test, y_train, y_test = train_test_split(\n",
        "  x, y, train_size=0.7, test_size=0.3, random_state=random_seed)\n",
        "algorithm = LogisticRegression()\n",
        "algorithm.fit(x_train, y_train)\n",
        "y_pred = algorithm.predict(x_test)\n",
        "y_proba1 = algorithm.predict_proba(x_test)[:,1]\n",
        "fpr, tpr, thresholds = roc_curve(y_test, y_proba1)"
      ]
    },
    {
      "cell_type": "code",
      "execution_count": null,
      "metadata": {
        "id": "-_iXjXz6Y7wm"
      },
      "outputs": [],
      "source": [
        "# ROC曲線の描画\n",
        "\n",
        "plt.figure(figsize=(6,6))\n",
        "plt.plot([0, 1], [0, 1], 'k--')\n",
        "plt.fill_between(fpr, tpr, 0)\n",
        "plt.xlim([0.0, 1.0])\n",
        "plt.ylim([0.0, 1.0])\n",
        "plt.xlabel('偽陽性率')\n",
        "plt.ylabel('敏感度')\n",
        "plt.title('ROC曲線')\n",
        "plt.show()"
      ]
    },
    {
      "cell_type": "code",
      "execution_count": null,
      "metadata": {
        "id": "od5pt69nY7wo"
      },
      "outputs": [],
      "source": [
        "# ROC AUCの計算\n",
        "roc_auc = auc(fpr, tpr)\n",
        "print(f'ROC曲線下面積:{roc_auc:.4f}')"
      ]
    },
    {
      "cell_type": "markdown",
      "metadata": {
        "id": "52iRNE1RY7wq"
      },
      "source": [
        "### 4.4.5 入力項目の重要度"
      ]
    },
    {
      "cell_type": "markdown",
      "metadata": {
        "id": "2j_ov-Y-Y7wq"
      },
      "source": [
        "#### ランダムフォレストのモデルを作るまで"
      ]
    },
    {
      "cell_type": "code",
      "execution_count": null,
      "metadata": {
        "id": "pIRGJkZWY7wr"
      },
      "outputs": [],
      "source": [
        "# ランダムフォレストのモデルを作るまで\n",
        "\n",
        "# サンプルデータの読み込み\n",
        "import seaborn as sns\n",
        "df_iris = sns.load_dataset(\"iris\")\n",
        "columns_i = ['がく片長', 'がく片幅', '花弁長', '花弁幅', '種別']\n",
        "df_iris.columns = columns_i\n",
        "\n",
        "# 入力データ x\n",
        "x = df_iris[['がく片長', 'がく片幅', '花弁長', '花弁幅']]\n",
        "\n",
        "# 正解データ y\n",
        "y = df_iris['種別']\n",
        "\n",
        "# アルゴリズムの選定(ランダムフォレスト)\n",
        "from sklearn.ensemble import RandomForestClassifier\n",
        "algorithm = RandomForestClassifier(random_state=random_seed)\n",
        "\n",
        "# 学習\n",
        "algorithm.fit(x, y)"
      ]
    },
    {
      "cell_type": "markdown",
      "metadata": {
        "id": "fFd91870Y7wt"
      },
      "source": [
        "#### 重要度ベクトルの取得"
      ]
    },
    {
      "cell_type": "code",
      "execution_count": null,
      "metadata": {
        "id": "zLFIj4cnY7wu"
      },
      "outputs": [],
      "source": [
        "# 重要度ベクトルの取得\n",
        "importances = algorithm.feature_importances_\n",
        "\n",
        "# 項目名をキーにSeriesを生成\n",
        "w = pd.Series(importances, index=x.columns)\n",
        "\n",
        "# 値の大きい順にソート\n",
        "u = w.sort_values(ascending=False)\n",
        "\n",
        "# 結果確認\n",
        "print(u)"
      ]
    },
    {
      "cell_type": "code",
      "execution_count": null,
      "metadata": {
        "id": "ThIVs9YgY7ww"
      },
      "outputs": [],
      "source": [
        "# 重要度の棒グラフ表示\n",
        "\n",
        "# 棒グラフ表示\n",
        "plt.bar(range(len(u)), u, color='b', align='center')\n",
        "\n",
        "# 項目名表示(90度回転)\n",
        "plt.xticks(range(len(u)), u.index, rotation=90)\n",
        "\n",
        "# タイトル表示\n",
        "plt.title('入力変数の重要度')\n",
        "\n",
        "plt.show()"
      ]
    },
    {
      "cell_type": "code",
      "execution_count": null,
      "metadata": {
        "id": "pJQwt5keY7wy"
      },
      "outputs": [],
      "source": [
        "# 決定木の場合\n",
        "\n",
        "from sklearn.tree import DecisionTreeClassifier\n",
        "algorithm = DecisionTreeClassifier(random_state=random_seed)\n",
        "algorithm.fit(x, y)\n",
        "importances = algorithm.feature_importances_\n",
        "w = pd.Series(importances, index=x.columns)\n",
        "u = w.sort_values(ascending=False)\n",
        "plt.title('入力変数の重要度(決定木)')\n",
        "plt.bar(range(len(u)), u, color='b', align='center')\n",
        "plt.xticks(range(len(u)), u.index, rotation=90)\n",
        "plt.show()"
      ]
    },
    {
      "cell_type": "code",
      "execution_count": null,
      "metadata": {
        "id": "vB5_dDA0Y7w1"
      },
      "outputs": [],
      "source": [
        "# XGBoostの場合\n",
        "\n",
        "import xgboost\n",
        "algorithm = xgboost.XGBClassifier(random_state=random_seed)\n",
        "# xgboostのバージョンアップに伴い対応が必要\n",
        "labels, y = np.unique(y, return_inverse=True)\n",
        "algorithm.fit(x, y)\n",
        "importances = algorithm.feature_importances_\n",
        "w = pd.Series(importances, index=x.columns)\n",
        "u = w.sort_values(ascending=False)\n",
        "plt.title('入力変数の重要度(XGBoost)')\n",
        "plt.bar(range(len(u)), u, color='b', align='center')\n",
        "plt.xticks(range(len(u)), u.index, rotation=90)\n",
        "plt.show()"
      ]
    },
    {
      "cell_type": "markdown",
      "metadata": {
        "id": "4I-oP4ImY7w3"
      },
      "source": [
        "### 4.4.6 回帰モデルの評価方法"
      ]
    },
    {
      "cell_type": "code",
      "execution_count": null,
      "metadata": {
        "id": "NQ49ttZPY7w3"
      },
      "outputs": [],
      "source": [
        "# データ読み込みからデータ分割まで\n",
        "\n",
        "# データ読み込み(ボストン・データセット)\n",
        "#from sklearn.datasets import load_boston\n",
        "#boston = load_boston()\n",
        "\n",
        "# ボストン・データセットがscikit-learnのライブラリで取得できない問題への対応\n",
        "data_url = \"http://lib.stat.cmu.edu/datasets/boston\"\n",
        "raw_df = pd.read_csv(data_url, sep=\"\\s+\", skiprows=22, header=None)\n",
        "x_org = np.hstack([raw_df.values[::2, :], raw_df.values[1::2, :2]])\n",
        "yt = raw_df.values[1::2, 2]\n",
        "feature_names = np.array(['CRIM', 'ZN', 'INDUS', 'CHAS', 'NOX',\n",
        "    'RM', 'AGE', 'DIS', 'RAD', 'TAX', 'PTRATIO','B', 'LSTAT'])\n",
        "\n",
        "\n",
        "# df: 入力データ\n",
        "df = pd.DataFrame(x_org, columns=feature_names)\n",
        "\n",
        "# y: 正解データ\n",
        "y = yt\n",
        "\n",
        "# 1項目だけの入力データ df1を作る\n",
        "df1 = df[['RM']]\n",
        "\n",
        "# 結果確認\n",
        "display(df.head())\n",
        "display(df1.head())\n",
        "print(y[:5])"
      ]
    },
    {
      "cell_type": "code",
      "execution_count": null,
      "metadata": {
        "id": "hZ8e5JKI1y1K"
      },
      "outputs": [],
      "source": [
        "plt.scatter(df1['RM'], y);"
      ]
    },
    {
      "cell_type": "code",
      "execution_count": null,
      "metadata": {
        "id": "vWU4DNDAY7w6"
      },
      "outputs": [],
      "source": [
        "# アルゴリズム選定から予測まで\n",
        "\n",
        "# アルゴリズム: XGBRegressor\n",
        "from xgboost import XGBRegressor\n",
        "algorithm1 = XGBRegressor(objective ='reg:squarederror',\n",
        "    random_state=random_seed)\n",
        "\n",
        "# 学習 (入力データにdf1を利用)\n",
        "algorithm1.fit(df1, y)\n",
        "\n",
        "# 予測\n",
        "y_pred1 = algorithm1.predict(df1)\n",
        "\n",
        "\n",
        "# アルゴリズム: XGBRegressor\n",
        "from xgboost import XGBRegressor\n",
        "algorithm2 = XGBRegressor(objective ='reg:squarederror',\n",
        "    random_state=random_seed)\n",
        "\n",
        "# 学習 (入力データにdfを利用)\n",
        "algorithm2.fit(df, y)\n",
        "\n",
        "# 予測\n",
        "y_pred2 = algorithm2.predict(df)"
      ]
    },
    {
      "cell_type": "code",
      "execution_count": null,
      "metadata": {
        "id": "zUADzPPcY7w8"
      },
      "outputs": [],
      "source": [
        "# 結果確認\n",
        "print(f'y[:5] {y[:5]}')\n",
        "print(f'y_pred1[:5] {y_pred1[:5]}')\n",
        "print(f'y_pred2[:5] {y_pred2[:5]}')"
      ]
    },
    {
      "cell_type": "code",
      "execution_count": null,
      "metadata": {
        "id": "8tGDzOi9Y7w-"
      },
      "outputs": [],
      "source": [
        "# yの最大値と最小値の計算\n",
        "y_range = np.array([y.min(), y.max()])\n",
        "\n",
        "# 結果確認\n",
        "print(y_range)"
      ]
    },
    {
      "cell_type": "markdown",
      "metadata": {
        "id": "v85oxddhY7xA"
      },
      "source": [
        "#### 散布図表示"
      ]
    },
    {
      "cell_type": "markdown",
      "metadata": {
        "id": "_m1wt7U0Y7xA"
      },
      "source": [
        "#### 1入力変数の場合"
      ]
    },
    {
      "cell_type": "code",
      "execution_count": null,
      "metadata": {
        "id": "Ha1tUVzWY7xB"
      },
      "outputs": [],
      "source": [
        "# 散布図による結果確認(1入力変数)\n",
        "\n",
        "# 描画サイズ指定\n",
        "plt.figure(figsize=(6,6))\n",
        "\n",
        "# 散布図\n",
        "plt.scatter(y, y_pred1)\n",
        "\n",
        "# 正解データ=予測結果の直線\n",
        "plt.plot(y_range, y_range, 'k--')\n",
        "\n",
        "# ラベル・タイトル\n",
        "plt.xlabel('正解データ')\n",
        "plt.ylabel('予測結果')\n",
        "plt.title('正解データと予測結果の散布図表示(1入力変数)')\n",
        "\n",
        "plt.show()"
      ]
    },
    {
      "cell_type": "markdown",
      "metadata": {
        "id": "leOkv4joY7xD"
      },
      "source": [
        "#### 13入力変数の場合"
      ]
    },
    {
      "cell_type": "code",
      "execution_count": null,
      "metadata": {
        "id": "KXv595XNY7xD"
      },
      "outputs": [],
      "source": [
        "# 散布図による結果確認(13入力変数)\n",
        "\n",
        "# 描画サイズ指定\n",
        "plt.figure(figsize=(6,6))\n",
        "\n",
        "# 散布図\n",
        "plt.scatter(y, y_pred2)\n",
        "\n",
        "# 正解データ=予測結果の直線\n",
        "plt.plot(y_range, y_range, 'k--')\n",
        "\n",
        "# ラベル・タイトル\n",
        "plt.xlabel('正解データ')\n",
        "plt.ylabel('予測結果')\n",
        "plt.title('正解データと予測結果の散布図表示(13入力変数)')\n",
        "\n",
        "plt.show()"
      ]
    },
    {
      "cell_type": "markdown",
      "metadata": {
        "id": "BfpnuG-aY7xG"
      },
      "source": [
        "#### R2 score"
      ]
    },
    {
      "cell_type": "code",
      "execution_count": null,
      "metadata": {
        "id": "fYUF3lGZY7xH"
      },
      "outputs": [],
      "source": [
        "# r2 scoreの計算(1入力変数)\n",
        "from sklearn.metrics import r2_score\n",
        "r2_score1 = r2_score(y, y_pred1)\n",
        "print(f'R2 score(1入力変数): {r2_score1:.4f}')"
      ]
    },
    {
      "cell_type": "code",
      "execution_count": null,
      "metadata": {
        "id": "EAb3OG71Y7xJ"
      },
      "outputs": [],
      "source": [
        "# r2 scoreの計算(13入力変数)\n",
        "r2_score2 = r2_score(y, y_pred2)\n",
        "print(f'R2 score(13入力変数): {r2_score2:.4f}')"
      ]
    },
    {
      "cell_type": "markdown",
      "source": [
        "### バージョン確認"
      ],
      "metadata": {
        "id": "2rLomFevqUFn"
      }
    },
    {
      "cell_type": "code",
      "execution_count": null,
      "metadata": {
        "id": "OeD_zz0EY7xL"
      },
      "outputs": [],
      "source": [
        "!pip install watermark | tail -n 1\n",
        "%load_ext watermark\n",
        "%watermark --iversions"
      ]
    }
  ],
  "metadata": {
    "colab": {
      "provenance": [],
      "toc_visible": true
    },
    "kernelspec": {
      "display_name": "Python 3",
      "language": "python",
      "name": "python3"
    },
    "language_info": {
      "codemirror_mode": {
        "name": "ipython",
        "version": 3
      },
      "file_extension": ".py",
      "mimetype": "text/x-python",
      "name": "python",
      "nbconvert_exporter": "python",
      "pygments_lexer": "ipython3",
      "version": "3.7.6"
    }
  },
  "nbformat": 4,
  "nbformat_minor": 0
}