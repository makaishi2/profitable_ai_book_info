{
  "cells": [
    {
      "cell_type": "markdown",
      "metadata": {
        "id": "ORsio2qVD3Rl"
      },
      "source": [
        "## 5.5 顧客層に応じた販売戦略(クラスタリング、次元圧縮)\n"
      ]
    },
    {
      "cell_type": "markdown",
      "metadata": {
        "id": "060CpHNuD3Rm"
      },
      "source": [
        "### 共通事前処理"
      ]
    },
    {
      "cell_type": "code",
      "source": [
        "# クラスターIDの並びを書籍と合わせるために下記のpipコマンドを実行します\n",
        "!pip install scikit-learn==0.22.2"
      ],
      "metadata": {
        "id": "X9fWD4zh0bER"
      },
      "execution_count": null,
      "outputs": []
    },
    {
      "cell_type": "code",
      "execution_count": null,
      "metadata": {
        "id": "euFbjnbRD3Rn"
      },
      "outputs": [],
      "source": [
        "# 日本語化ライブラリ導入\n",
        "!pip install japanize-matplotlib | tail -n 1"
      ]
    },
    {
      "cell_type": "code",
      "execution_count": null,
      "metadata": {
        "id": "Lyt_vTxUD3Rq"
      },
      "outputs": [],
      "source": [
        "# 共通事前処理\n",
        "\n",
        "# 余分なワーニングを非表示にする\n",
        "import warnings\n",
        "warnings.filterwarnings('ignore')\n",
        "\n",
        "# 必要ライブラリのimport\n",
        "import pandas as pd\n",
        "import numpy as np\n",
        "import matplotlib.pyplot as plt\n",
        "\n",
        "# matplotlib日本語化対応\n",
        "import japanize_matplotlib\n",
        "\n",
        "# データフレーム表示用関数\n",
        "from IPython.display import display\n",
        "\n",
        "# 表示オプション調整\n",
        "# numpyの浮動小数点の表示精度\n",
        "np.set_printoptions(suppress=True, precision=4)\n",
        "\n",
        "# pandasでの浮動小数点の表示精度\n",
        "pd.options.display.float_format = '{:.4f}'.format\n",
        "\n",
        "# データフレームですべての項目を表示\n",
        "pd.set_option(\"display.max_columns\",None)\n",
        "\n",
        "# グラフのデフォルトフォント指定\n",
        "plt.rcParams[\"font.size\"] = 14\n",
        "\n",
        "# 乱数の種\n",
        "random_seed = 123"
      ]
    },
    {
      "cell_type": "markdown",
      "metadata": {
        "id": "HQlDUVzRD3Rs"
      },
      "source": [
        "### オリジナルURL\n",
        "Wholesale customers Data Set\n",
        "\n",
        "https://archive.ics.uci.edu/ml/datasets/wholesale+customers"
      ]
    },
    {
      "cell_type": "markdown",
      "metadata": {
        "id": "iB_ocZwOD3Rt"
      },
      "source": [
        "### 5.5.4 データ読み込みからデータ確認まで"
      ]
    },
    {
      "cell_type": "markdown",
      "metadata": {
        "id": "zNKorSZmD3Rt"
      },
      "source": [
        "#### データ読み込み"
      ]
    },
    {
      "cell_type": "code",
      "execution_count": null,
      "metadata": {
        "id": "TsPBG-ECD3Ru"
      },
      "outputs": [],
      "source": [
        "# データ読み込み\n",
        "url = 'https://archive.ics.uci.edu/ml/machine-learning-databases\\\n",
        "/00292/Wholesale%20customers%20data.csv'\n",
        "\n",
        "df = pd.read_csv(url)\n",
        "\n",
        "# 日本語に変更\n",
        "columns = ['販売チャネル', '地域', '生鮮食品', '乳製品', '食料品',\n",
        "    '冷凍食品', '洗剤_紙製品', '総菜']\n",
        "df.columns = columns"
      ]
    },
    {
      "cell_type": "markdown",
      "metadata": {
        "id": "oTLRFKx3D3Rw"
      },
      "source": [
        "#### データ確認"
      ]
    },
    {
      "cell_type": "code",
      "execution_count": null,
      "metadata": {
        "id": "gKvGiyRXD3Rw"
      },
      "outputs": [],
      "source": [
        "# データ内容確認\n",
        "display(df.head())\n",
        "\n",
        "# サイズ確認\n",
        "print(df.shape)"
      ]
    },
    {
      "cell_type": "code",
      "execution_count": null,
      "metadata": {
        "id": "Z1WIzw_tD3Rz"
      },
      "outputs": [],
      "source": [
        "# 欠損値確認\n",
        "print(df.isnull().sum())"
      ]
    },
    {
      "cell_type": "code",
      "execution_count": null,
      "metadata": {
        "id": "j-2hfTBnD3R1"
      },
      "outputs": [],
      "source": [
        "# 販売チャネルのコード値確認\n",
        "print(df['販売チャネル'].value_counts())\n",
        "print()\n",
        "\n",
        "# 地域のコード値確認\n",
        "print(df['地域'].value_counts())"
      ]
    },
    {
      "cell_type": "markdown",
      "metadata": {
        "id": "zSMqakKJD3R3"
      },
      "source": [
        "#### 販売チャネルのコード値の意味\n",
        "1.  Horeca(ホテル・レストラン・カフェ) 298\n",
        "2. Retail(小売り) 142"
      ]
    },
    {
      "cell_type": "markdown",
      "metadata": {
        "id": "aLARYhrsD3R4"
      },
      "source": [
        "#### 地域のコード値の意味\n",
        "1.  Lisbon(リスボン) 77\n",
        "2. Oporto(オプルトまたはポルト) 47\n",
        "3. Other Region(その他) 316\n",
        "\n"
      ]
    },
    {
      "cell_type": "markdown",
      "metadata": {
        "id": "wS0QnunZD3R4"
      },
      "source": [
        "#### ヒストグラム表示"
      ]
    },
    {
      "cell_type": "code",
      "execution_count": null,
      "metadata": {
        "id": "e7El541nD3R5",
        "scrolled": false
      },
      "outputs": [],
      "source": [
        "# 販売チャネルと地域を落としたデータを作る\n",
        "df2 = df.drop(['販売チャネル', '地域'], axis=1)\n",
        "\n",
        "# 分析対象項目のヒストグラム表示\n",
        "from pylab import rcParams\n",
        "rcParams['figure.figsize'] = (8, 8)\n",
        "df2.hist(bins=20)\n",
        "plt.tight_layout()\n",
        "plt.show()"
      ]
    },
    {
      "cell_type": "markdown",
      "metadata": {
        "id": "qI5f31AtD3R7"
      },
      "source": [
        "### 5.5.5 クラスタリングの実施"
      ]
    },
    {
      "cell_type": "code",
      "execution_count": null,
      "metadata": {
        "id": "CfEPfY8cD3R7"
      },
      "outputs": [],
      "source": [
        "# データ前処理とデータ分割は不要\n",
        "\n",
        "# アルゴリズムの選択\n",
        "from sklearn.cluster import KMeans\n",
        "\n",
        "# グループ数を定義\n",
        "clusters=4\n",
        "\n",
        "# アルゴリズムの定義\n",
        "algorithm = KMeans(n_clusters=clusters,\n",
        "    random_state=random_seed)"
      ]
    },
    {
      "cell_type": "code",
      "execution_count": null,
      "metadata": {
        "id": "xfGbHcwoD3R9"
      },
      "outputs": [],
      "source": [
        "# 学習、予測の実施\n",
        "y_pred = algorithm.fit_predict(df2)\n",
        "\n",
        "# 結果の一部確認\n",
        "print(y_pred[:20])"
      ]
    },
    {
      "cell_type": "markdown",
      "metadata": {
        "id": "mZxGwWUDD3R_"
      },
      "source": [
        "### 5.5.6 クラスタリング結果の分析"
      ]
    },
    {
      "cell_type": "markdown",
      "metadata": {
        "id": "vPbPUf85D3R_"
      },
      "source": [
        "#### グループ別平均値計算"
      ]
    },
    {
      "cell_type": "code",
      "execution_count": null,
      "metadata": {
        "id": "q24sMbpvD3SA"
      },
      "outputs": [],
      "source": [
        "# グループごとの平均値計算\n",
        "df_cluster = df2.groupby(y_pred).mean()\n",
        "display(df_cluster)"
      ]
    },
    {
      "cell_type": "markdown",
      "metadata": {
        "id": "eKzdYkL8D3SC"
      },
      "source": [
        "#### グループ別グラフ表示"
      ]
    },
    {
      "cell_type": "code",
      "execution_count": null,
      "metadata": {
        "id": "wVb9iCt0D3SC"
      },
      "outputs": [],
      "source": [
        "# グループ別の棒グラフ表示\n",
        "df_cluster.plot(kind='bar',stacked=True,\n",
        "    figsize=(10, 6),colormap='jet')\n",
        "plt.show()"
      ]
    },
    {
      "cell_type": "markdown",
      "metadata": {
        "id": "eFg89g0wD3SE"
      },
      "source": [
        "#### 分析結果\n",
        "\n",
        "* **0**: 生鮮食品中心\n",
        "* **1**: 食料品中心\n",
        "* **2**: 大量購入\n",
        "* **3**: 少量購入"
      ]
    },
    {
      "cell_type": "markdown",
      "metadata": {
        "id": "QGmD9ipaD3SF"
      },
      "source": [
        "#### グループと販売チャネル・地域との関係"
      ]
    },
    {
      "cell_type": "code",
      "execution_count": null,
      "metadata": {
        "id": "vzq4FBEHD3SF",
        "scrolled": false
      },
      "outputs": [],
      "source": [
        "# クラスタと、チャネル・地域の関係を調べる\n",
        "\n",
        "# 販売チャネルと地域のみをdf3に抽出\n",
        "df3 = df[['販売チャネル', '地域']]\n",
        "\n",
        "# グラフの大きさ設定\n",
        "rcParams['figure.figsize'] = (6,3)\n",
        "\n",
        "# グループごとのグラフ表示\n",
        "for i in range(clusters):\n",
        "    fig, ax = plt.subplots()\n",
        "    w = df3[y_pred==i]\n",
        "    print(f'==== グループ{i} ====')\n",
        "    w.hist(ax=ax)\n",
        "    plt.tight_layout()\n",
        "    plt.show()"
      ]
    },
    {
      "cell_type": "markdown",
      "metadata": {
        "id": "z3iYpMSZD3SH"
      },
      "source": [
        "#### 分析結果\n",
        "グループ0(生鮮)とグループ3(少量)は、チャネル1(Horeca)と関連が深い。   \n",
        "グループ1(食品)とグループ2(大量)は、チャネル2(Retail)と関連が深い。  \n",
        "地域とグループの関連は時に見いだせない。"
      ]
    },
    {
      "cell_type": "markdown",
      "metadata": {
        "id": "kPwgiwbtD3SI"
      },
      "source": [
        "### 5.5.7 次元圧縮の実施"
      ]
    },
    {
      "cell_type": "code",
      "execution_count": null,
      "metadata": {
        "id": "clpaya39D3SI"
      },
      "outputs": [],
      "source": [
        "# アルゴリズムの選択\n",
        "from sklearn.decomposition import PCA\n",
        "\n",
        "# モデル生成\n",
        "# 散布図表示が目的のため2次元に圧縮\n",
        "pca = PCA(n_components=2)"
      ]
    },
    {
      "cell_type": "code",
      "execution_count": null,
      "metadata": {
        "id": "obiGfHi0D3SK"
      },
      "outputs": [],
      "source": [
        "# 学習・変換の実施\n",
        "d2 = pca.fit_transform(df2)\n",
        "\n",
        "# 結果の一部表示\n",
        "print(d2[:5,:])"
      ]
    },
    {
      "cell_type": "markdown",
      "metadata": {
        "id": "9O5StcBGD3SM"
      },
      "source": [
        "### 5.5.8 次元圧縮の活用方法"
      ]
    },
    {
      "cell_type": "markdown",
      "metadata": {
        "id": "ceborIy5D3SM"
      },
      "source": [
        "#### 散布図表示"
      ]
    },
    {
      "cell_type": "code",
      "execution_count": null,
      "metadata": {
        "id": "DFOj2JT-D3SN"
      },
      "outputs": [],
      "source": [
        "# グループごとに色分けし散布図表示\n",
        "\n",
        "plt.figure(figsize=(8,8))\n",
        "marks = ['.', 'x', '*', '+']\n",
        "labels = ['生鮮', '食品', '大量', '少量']\n",
        "colors = ['grey', 'lightblue', 'blue', 'black']\n",
        "for i in range(clusters):\n",
        "  plt.scatter(d2[y_pred==i][:,0], d2[y_pred==i][:,1],\n",
        "    marker=marks[i], label=labels[i], s=100, c=colors[i])\n",
        "plt.legend(fontsize=14)\n",
        "plt.show()"
      ]
    },
    {
      "cell_type": "markdown",
      "metadata": {
        "id": "xSroAT7PD3SP"
      },
      "source": [
        "#### 例外値の調査"
      ]
    },
    {
      "cell_type": "code",
      "execution_count": null,
      "metadata": {
        "id": "ygbDqd_lD3SQ"
      },
      "outputs": [],
      "source": [
        "# 生鮮グループの例外値を調べる\n",
        "display(df[d2[:,0] > 100000])"
      ]
    },
    {
      "cell_type": "markdown",
      "metadata": {
        "id": "S7SvVzFBD3SR"
      },
      "source": [
        "【考察】  \n",
        "インデックス181の顧客は、特に生鮮食品の購買量が多いと考えられる"
      ]
    },
    {
      "cell_type": "code",
      "execution_count": null,
      "metadata": {
        "id": "1aNy2yJVD3SS"
      },
      "outputs": [],
      "source": [
        "# 大量グループの例外値を調べる\n",
        "display(df[d2[:,1] > 80000])"
      ]
    },
    {
      "cell_type": "markdown",
      "metadata": {
        "id": "J6jV6-4HD3SU"
      },
      "source": [
        "【考察】  \n",
        "インデックス85の顧客は、特に食料品と洗剤・紙製品の購買量が多いと考えられる"
      ]
    },
    {
      "cell_type": "code",
      "execution_count": null,
      "metadata": {
        "id": "zgOgOJfhD3SU"
      },
      "outputs": [],
      "source": [
        "# 統計情報確認\n",
        "display(df2.describe())"
      ]
    },
    {
      "cell_type": "markdown",
      "source": [
        "### バージョン確認"
      ],
      "metadata": {
        "id": "sc0j8_uRsIC3"
      }
    },
    {
      "cell_type": "code",
      "execution_count": null,
      "metadata": {
        "id": "U6zUEK9PD3SW"
      },
      "outputs": [],
      "source": [
        "!pip install watermark | tail -n 1\n",
        "%load_ext watermark\n",
        "%watermark --iversions"
      ]
    }
  ],
  "metadata": {
    "colab": {
      "provenance": [],
      "toc_visible": true
    },
    "kernelspec": {
      "display_name": "Python 3",
      "language": "python",
      "name": "python3"
    },
    "language_info": {
      "codemirror_mode": {
        "name": "ipython",
        "version": 3
      },
      "file_extension": ".py",
      "mimetype": "text/x-python",
      "name": "python",
      "nbconvert_exporter": "python",
      "pygments_lexer": "ipython3",
      "version": "3.7.6"
    }
  },
  "nbformat": 4,
  "nbformat_minor": 0
}