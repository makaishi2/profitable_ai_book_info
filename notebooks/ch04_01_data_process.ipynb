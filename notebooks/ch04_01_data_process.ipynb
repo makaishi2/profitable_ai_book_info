{
  "cells": [
    {
      "cell_type": "markdown",
      "metadata": {
        "id": "d9J0CMDJfNIX"
      },
      "source": [
        "## 4.1 データ確認"
      ]
    },
    {
      "cell_type": "code",
      "execution_count": null,
      "metadata": {
        "id": "ZfTwimjSfNIY"
      },
      "outputs": [],
      "source": [
        "# 日本語化ライブラリ導入\n",
        "!pip install japanize-matplotlib | tail -n 1"
      ]
    },
    {
      "cell_type": "code",
      "execution_count": null,
      "metadata": {
        "id": "NoJJrGEafNId"
      },
      "outputs": [],
      "source": [
        "# 共通事前処理\n",
        "\n",
        "# 余分なワーニングを非表示にする\n",
        "import warnings\n",
        "warnings.filterwarnings('ignore')\n",
        "\n",
        "# 必要ライブラリのimport\n",
        "import pandas as pd\n",
        "import numpy as np\n",
        "import matplotlib.pyplot as plt\n",
        "\n",
        "# matplotlib日本語化対応\n",
        "import japanize_matplotlib\n",
        "\n",
        "# データフレーム表示用関数\n",
        "from IPython.display import display\n",
        "\n",
        "# 表示オプション調整\n",
        "# numpyの浮動小数点の表示精度\n",
        "np.set_printoptions(suppress=True, precision=4)\n",
        "\n",
        "# pandasでの浮動小数点の表示精度\n",
        "pd.options.display.float_format = '{:.4f}'.format\n",
        "\n",
        "# データフレームですべての項目を表示\n",
        "pd.set_option(\"display.max_columns\",None)\n",
        "\n",
        "# グラフのデフォルトフォント指定\n",
        "plt.rcParams[\"font.size\"] = 14\n",
        "\n",
        "# 乱数の種\n",
        "random_seed = 123"
      ]
    },
    {
      "cell_type": "markdown",
      "metadata": {
        "id": "rNGqmhBGfNIg"
      },
      "source": [
        "### 4.1.1 数値的・統計的に分析する方法"
      ]
    },
    {
      "cell_type": "markdown",
      "metadata": {
        "id": "eKW5A-IxfNIg"
      },
      "source": [
        "#### タイタニック・データセットの読み込み"
      ]
    },
    {
      "cell_type": "markdown",
      "metadata": {
        "id": "Hfxo9LlhfNIh"
      },
      "source": [
        "#### タイタニック・データセットの各項目\n",
        "\n",
        "**生存**(survival) : (0=死亡、1=生存)     \n",
        "**等室** (pclass) : (1=1等船室 2=2等船室 3=3等船室)  \n",
        "**性別** (sex) :  (male=男性、female=女性)  \n",
        "**年齢** (age)  \n",
        "**兄弟配偶者数** (sibsp) : 同乗している兄弟と配偶者の数   \n",
        "**両親子供数** (parch) : 同乗している両親と子供の数  \n",
        "**料金** (fare)  \n",
        "**乗船港コード**(embarked) :    \n",
        "(C=Cherbourg、Q=Queenstown、S=Southampton)   \n",
        "**等室名** (class) : (First=一等船室 Second=二等船室 Third=三等船室)  \n",
        "**男女子供** (who) : (man=男　women=女　child=子供)  \n",
        "**成人男子** (adult_male):  True / False  \n",
        "**デッキ** (deck):  船室番号の頭文字 (A - G)  \n",
        "**乗船港** (embark_town) : Southampton/Cherbourg/Queenstown  \n",
        "**生存可否** (alive): yes / no   \n",
        "**独身** (alone): True / False  \n",
        "\n"
      ]
    },
    {
      "cell_type": "code",
      "execution_count": null,
      "metadata": {
        "id": "XIoeu7Y5fNIi"
      },
      "outputs": [],
      "source": [
        "# 追加ライブラリのimport\n",
        "import seaborn as sns\n",
        "\n",
        "# サンプルデータの読み込み\n",
        "df_titanic = sns.load_dataset(\"titanic\")\n",
        "\n",
        "# 項目名の日本語化\n",
        "columns_t = ['生存', '等室', '性別', '年齢', '兄弟配偶者数',\n",
        "             '両親子供数', '料金', '乗船港コード', '等室名',\n",
        "             '男女子供', '成人男子', 'デッキ', '乗船港', '生存可否', '独身']\n",
        "df_titanic.columns = columns_t\n",
        "\n",
        "# データの内容\n",
        "display(df_titanic.head())"
      ]
    },
    {
      "cell_type": "markdown",
      "metadata": {
        "id": "8tUnnve-fNIl"
      },
      "source": [
        "#### 項目ごとの欠損値を調べる"
      ]
    },
    {
      "cell_type": "code",
      "execution_count": null,
      "metadata": {
        "id": "LLlxAxfvfNIm",
        "scrolled": true
      },
      "outputs": [],
      "source": [
        "print(df_titanic.isnull().sum())"
      ]
    },
    {
      "cell_type": "markdown",
      "metadata": {
        "id": "0-abbqJOfNIp"
      },
      "source": [
        "#### 特定の項目の項目値をそれぞれの個数を調べる"
      ]
    },
    {
      "cell_type": "code",
      "execution_count": null,
      "metadata": {
        "id": "0t3SdTSSfNIq"
      },
      "outputs": [],
      "source": [
        "# 項目「乗船港」の項目値ごとの個数\n",
        "print(df_titanic['乗船港'].value_counts())\n",
        "print()\n",
        "\n",
        "# 項目「生存可否」の項目値ごとの個数\n",
        "print(df_titanic['生存可否'].value_counts())"
      ]
    },
    {
      "cell_type": "markdown",
      "metadata": {
        "id": "uZtxqVKAfNIt"
      },
      "source": [
        "#### 統計情報を調べる"
      ]
    },
    {
      "cell_type": "code",
      "execution_count": null,
      "metadata": {
        "id": "UdsRx5lqfNIt"
      },
      "outputs": [],
      "source": [
        "display(df_titanic.describe())"
      ]
    },
    {
      "cell_type": "markdown",
      "metadata": {
        "id": "CNtTqEyrfNIx"
      },
      "source": [
        "#### グループごとの集計 (集約関数)"
      ]
    },
    {
      "cell_type": "code",
      "execution_count": null,
      "metadata": {
        "id": "uNClP76H7zqj"
      },
      "outputs": [],
      "source": [
        "# pandas 2.0で動かなくなる問題の対応としてコード修正\n",
        "display(df_titanic.groupby('性別').mean(numeric_only=True))"
      ]
    },
    {
      "cell_type": "markdown",
      "metadata": {
        "id": "W1Gj_1B9fNI1"
      },
      "source": [
        "#### グラフ表示 (数値項目)"
      ]
    },
    {
      "cell_type": "code",
      "execution_count": null,
      "metadata": {
        "id": "4wD7R5eafNI1",
        "scrolled": false
      },
      "outputs": [],
      "source": [
        "# 分析対象項目のグラフ表示 (数値項目の場合)\n",
        "\n",
        "# 数値項目の定義\n",
        "columns_n = ['生存', '等室', '年齢', '兄弟配偶者数', '両親子供数', '料金']\n",
        "\n",
        "# グラフ描画領域の調整\n",
        "plt.rcParams['figure.figsize'] = (10, 10)\n",
        "\n",
        "# データフレームの数値項目でヒストグラム表示\n",
        "df_titanic[columns_n].hist()\n",
        "plt.show()"
      ]
    },
    {
      "cell_type": "markdown",
      "metadata": {
        "id": "EEuTIy_DfNI4"
      },
      "source": [
        "#### グラフ表示 (非数値項目)"
      ]
    },
    {
      "cell_type": "code",
      "execution_count": null,
      "metadata": {
        "id": "2m-ohxeGfNI5"
      },
      "outputs": [],
      "source": [
        "# 分析対象項目のグラフ表示 (非数値項目の場合)\n",
        "\n",
        "# グラフ化対象列の定義\n",
        "columns_c = ['性別', '乗船港', '等室名', '成人男子']\n",
        "\n",
        "# グラフ描画領域の調整\n",
        "plt.rcParams['figure.figsize'] = (8, 8)\n",
        "\n",
        "# ループ処理で、ヒストグラムの表示\n",
        "for i, name in enumerate(columns_c):\n",
        "    ax = plt.subplot(2, 2, i+1)\n",
        "    df_titanic[name].value_counts().plot(kind='bar', title=name, ax=ax)\n",
        "\n",
        "# レイアウトの調整\n",
        "plt.tight_layout()\n",
        "plt.show()"
      ]
    },
    {
      "cell_type": "markdown",
      "metadata": {
        "id": "xCxCbpAPfNI7"
      },
      "source": [
        "### 4.1.2 視覚的に分析・確認する方法"
      ]
    },
    {
      "cell_type": "markdown",
      "metadata": {
        "id": "FTBQDeXYfNI8"
      },
      "source": [
        "#### アイリス・データセットの読み込み"
      ]
    },
    {
      "cell_type": "markdown",
      "metadata": {
        "id": "b2yTbDyPfNI9"
      },
      "source": [
        "#### アイリス・データセットの各項目\n",
        "\n",
        "**がく片長**(sepal_length)  \n",
        "**がく片幅**(sepal_width)  \n",
        "**花弁長**(petal_length)  \n",
        "**花弁幅**(petal_width)  \n",
        "  \n",
        "**種別**(species):  versicolor/setosa/virginica"
      ]
    },
    {
      "cell_type": "code",
      "execution_count": null,
      "metadata": {
        "id": "HReb1q-DfNI-"
      },
      "outputs": [],
      "source": [
        "# 追加ライブラリのimport\n",
        "import seaborn as sns\n",
        "\n",
        "# サンプルデータの読み込み\n",
        "df_iris = sns.load_dataset(\"iris\")\n",
        "\n",
        "# 項目名の日本語化\n",
        "columns_i = ['がく片長', 'がく片幅', '花弁長', '花弁幅', '種別']\n",
        "df_iris.columns = columns_i\n",
        "\n",
        "# データの内容\n",
        "display(df_iris.head())"
      ]
    },
    {
      "cell_type": "markdown",
      "metadata": {
        "id": "jAMzzguAfNJA"
      },
      "source": [
        "#### 散布図表示"
      ]
    },
    {
      "cell_type": "code",
      "execution_count": null,
      "metadata": {
        "id": "R1PhiJB1fNJB"
      },
      "outputs": [],
      "source": [
        "# 散布図表示 matplotlib版\n",
        "\n",
        "# グラフ描画領域の調整\n",
        "plt.figure(figsize=(6,6))\n",
        "\n",
        "# 散布図の表示\n",
        "plt.scatter(df_iris['がく片幅'], df_iris['花弁長'])\n",
        "\n",
        "# ラベル表示\n",
        "# sepal がく petal 花弁\n",
        "plt.xlabel('がく片幅')\n",
        "plt.ylabel('花弁長')\n",
        "plt.show()"
      ]
    },
    {
      "cell_type": "code",
      "execution_count": null,
      "metadata": {
        "id": "4SxyDOm6fNJD"
      },
      "outputs": [],
      "source": [
        "# 散布図表示  seaborn版(1)\n",
        "\n",
        "plt.figure(figsize=(6,6))\n",
        "sns.scatterplot(x='がく片幅', y='花弁長', hue='種別', s=70,\n",
        "    data=df_iris)\n",
        "plt.show()"
      ]
    },
    {
      "cell_type": "code",
      "execution_count": null,
      "metadata": {
        "id": "Wm8ArX5LfNJF",
        "scrolled": false
      },
      "outputs": [],
      "source": [
        "# 全散布図同時表示\n",
        "\n",
        "sns.pairplot(df_iris, hue=\"種別\")\n",
        "plt.show()"
      ]
    },
    {
      "cell_type": "code",
      "execution_count": null,
      "metadata": {
        "id": "gxl-odk9fNJN"
      },
      "outputs": [],
      "source": [
        "# 散布図表示  seaborn版(2)\n",
        "\n",
        "# seaborn 0.12.2で動かない問題への対応でコード修正\n",
        "sns.jointplot(x='がく片幅',y='花弁長',data=df_iris, kind='scatter')\n",
        "plt.show()"
      ]
    },
    {
      "cell_type": "code",
      "execution_count": null,
      "metadata": {
        "id": "drOs1YNdfNJP"
      },
      "outputs": [],
      "source": [
        "# 箱ひげ図表示 matplotlib版\n",
        "\n",
        "# グラフ描画領域の調整\n",
        "plt.figure(figsize=(6,6))\n",
        "\n",
        "# 箱ひげ図の描画\n",
        "df_iris.boxplot(patch_artist=True)\n",
        "plt.show()"
      ]
    },
    {
      "cell_type": "code",
      "execution_count": null,
      "metadata": {
        "id": "X0qBXGUpfNJR"
      },
      "outputs": [],
      "source": [
        "# melt関数によるデータの事前加工\n",
        "w = pd.melt(df_iris, id_vars=['種別'])\n",
        "\n",
        "# 加工結果の確認\n",
        "display(w.head())"
      ]
    },
    {
      "cell_type": "code",
      "execution_count": null,
      "metadata": {
        "id": "VMJyQRTTfNJT"
      },
      "outputs": [],
      "source": [
        "# seabornによる箱ひげ図表示\n",
        "\n",
        "# hueパラメータを追加し、花の種類で箱ひげ図を書き分ける\n",
        "plt.figure(figsize=(8,8))\n",
        "sns.boxplot(x=\"variable\", y=\"value\", data=w, hue='種別')\n",
        "plt.show()"
      ]
    },
    {
      "cell_type": "markdown",
      "source": [
        "### バージョン確認"
      ],
      "metadata": {
        "id": "xHiVEVTEo60v"
      }
    },
    {
      "cell_type": "code",
      "execution_count": null,
      "metadata": {
        "id": "kWN8I6SR-eK7"
      },
      "outputs": [],
      "source": [
        "!pip install watermark | tail -n 1\n",
        "%load_ext watermark\n",
        "%watermark --iversions"
      ]
    }
  ],
  "metadata": {
    "colab": {
      "provenance": [],
      "toc_visible": true
    },
    "kernelspec": {
      "display_name": "Python 3",
      "language": "python",
      "name": "python3"
    },
    "language_info": {
      "codemirror_mode": {
        "name": "ipython",
        "version": 3
      },
      "file_extension": ".py",
      "mimetype": "text/x-python",
      "name": "python",
      "nbconvert_exporter": "python",
      "pygments_lexer": "ipython3",
      "version": "3.7.6"
    }
  },
  "nbformat": 4,
  "nbformat_minor": 0
}