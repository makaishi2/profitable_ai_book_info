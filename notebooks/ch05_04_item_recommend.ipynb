{
  "cells": [
    {
      "cell_type": "markdown",
      "metadata": {
        "id": "8rKjYWcnzUJY"
      },
      "source": [
        "## 5.4 お勧め商品の提案(アソシエーション分析)"
      ]
    },
    {
      "cell_type": "markdown",
      "metadata": {
        "id": "aWV7LIzazUJb"
      },
      "source": [
        "### 共通事前処理"
      ]
    },
    {
      "cell_type": "code",
      "execution_count": null,
      "metadata": {
        "id": "cnuKhflzzUJb"
      },
      "outputs": [],
      "source": [
        "# 日本語化ライブラリ導入\n",
        "!pip install japanize-matplotlib | tail -n 1"
      ]
    },
    {
      "cell_type": "code",
      "execution_count": null,
      "metadata": {
        "id": "A9O7NzSQzUJc"
      },
      "outputs": [],
      "source": [
        "# 共通事前処理\n",
        "\n",
        "# 余分なワーニングを非表示にする\n",
        "import warnings\n",
        "warnings.filterwarnings('ignore')\n",
        "\n",
        "# 必要ライブラリのimport\n",
        "import pandas as pd\n",
        "import numpy as np\n",
        "import matplotlib.pyplot as plt\n",
        "\n",
        "# matplotlib日本語化対応\n",
        "import japanize_matplotlib\n",
        "\n",
        "# データフレーム表示用関数\n",
        "from IPython.display import display\n",
        "\n",
        "# 表示オプション調整\n",
        "# numpyの浮動小数点の表示精度\n",
        "np.set_printoptions(suppress=True, precision=4)\n",
        "\n",
        "# pandasでの浮動小数点の表示精度\n",
        "pd.options.display.float_format = '{:.4f}'.format\n",
        "\n",
        "# データフレームですべての項目を表示\n",
        "pd.set_option(\"display.max_columns\",None)\n",
        "\n",
        "# グラフのデフォルトフォント指定\n",
        "plt.rcParams[\"font.size\"] = 14\n",
        "\n",
        "# 乱数の種\n",
        "random_seed = 123"
      ]
    },
    {
      "cell_type": "markdown",
      "metadata": {
        "id": "QhAzfamGzUJd"
      },
      "source": [
        "オリジナルURL  \n",
        "http://archive.ics.uci.edu/ml/datasets/Online+Retail/"
      ]
    },
    {
      "cell_type": "markdown",
      "metadata": {
        "id": "wq9q9x-JzUJd"
      },
      "source": [
        "**データ項目メモ**\n",
        "\n",
        "InvoiceNo:  発注番号  \n",
        "StockCode: 商品番号  \n",
        "Description: 商品説明  \n",
        "Quantity: 商品個数   \n",
        "InvoiceDate: 明細書発行日  \n",
        "UnitPrice:  商品単価  \n",
        "CustomerID: 顧客番号  \n",
        "Country: 国名  "
      ]
    },
    {
      "cell_type": "markdown",
      "metadata": {
        "id": "PmLHQEHgzUJd"
      },
      "source": [
        "### 5.4.4 データ読み込みからデータ確認まで"
      ]
    },
    {
      "cell_type": "markdown",
      "metadata": {
        "id": "V0EdxNCBzUJd"
      },
      "source": [
        "#### データ読み込み"
      ]
    },
    {
      "cell_type": "code",
      "execution_count": null,
      "metadata": {
        "id": "cBZny8M8zUJd"
      },
      "outputs": [],
      "source": [
        "# データ読み込み\n",
        "# 公開データはExcel形式なので、read_excel関数で直接読み込む\n",
        "# 時間がかなりかかるので注意してください (ファイルサイズ 約23MB)\n",
        "df = pd.read_excel('http://archive.ics.uci.edu/ml/\\\n",
        "machine-learning-databases/00352/Online%20Retail.xlsx')\n",
        "\n",
        "# 項目名を日本語に変更\n",
        "columns = [\n",
        "    '発注番号', '商品番号', '商品説明', '商品個数', '明細書発行日',\n",
        "    '商品単価', '顧客番号', '国名'\n",
        "]\n",
        "df.columns = columns"
      ]
    },
    {
      "cell_type": "markdown",
      "metadata": {
        "id": "S7xNkcKBzUJe"
      },
      "source": [
        "#### データ確認"
      ]
    },
    {
      "cell_type": "code",
      "execution_count": null,
      "metadata": {
        "id": "b1EkiZtkzUJe"
      },
      "outputs": [],
      "source": [
        "# データ数確認\n",
        "print(df.shape[0])\n",
        "\n",
        "# データ内容確認\n",
        "display(df.head())"
      ]
    },
    {
      "cell_type": "code",
      "execution_count": null,
      "metadata": {
        "id": "qPc-bXTlzUJe"
      },
      "outputs": [],
      "source": [
        "# 欠損値確認\n",
        "print(df.isnull().sum())"
      ]
    },
    {
      "cell_type": "code",
      "execution_count": null,
      "metadata": {
        "id": "N2Gt6sw2zUJe"
      },
      "outputs": [],
      "source": [
        "#  国名確認\n",
        "print(df['国名'].value_counts().head(10))"
      ]
    },
    {
      "cell_type": "markdown",
      "metadata": {
        "id": "4tlIfwV2zUJe"
      },
      "source": [
        "### 5.4.5 データ前処理\n",
        "方針:   \n",
        "* 発注番号の最初の1文字を抽出、「発注種別」列を作る\n",
        "* 「発注種別」を基に新規オーダーのみを抽出\n",
        "* 対象国をフランスに限定\n",
        "* データをone hot形式(商品ごとに列を持つ形)に変換"
      ]
    },
    {
      "cell_type": "markdown",
      "metadata": {
        "id": "jbNw6qznzUJf"
      },
      "source": [
        "#### 新規オーダーの抽出"
      ]
    },
    {
      "cell_type": "code",
      "execution_count": null,
      "metadata": {
        "id": "K8HlPTFlzUJf"
      },
      "outputs": [],
      "source": [
        "# 「発注種別」列の追加\n",
        "\n",
        "# 前処理用にデータをコピー\n",
        "df2 = df.copy()\n",
        "\n",
        "# 発注番号の頭1桁を別項目に抽出\n",
        "# (5: 新規オーダー  C:キャンセル)\n",
        "df2['発注種別'] = df2['発注番号'].map(lambda x: str(x)[0])\n",
        "\n",
        "# 結果確認\n",
        "display(df2.head())\n",
        "\n",
        "# 種別個数確認\n",
        "print(df2['発注種別'].value_counts())"
      ]
    },
    {
      "cell_type": "code",
      "execution_count": null,
      "metadata": {
        "id": "b3kzJ5E2zUJf"
      },
      "outputs": [],
      "source": [
        "#  新規オーダーのみ抽出\n",
        "df2 = df2[df2['発注種別']=='5']\n",
        "\n",
        "# 件数確認\n",
        "print(df2.shape[0])"
      ]
    },
    {
      "cell_type": "markdown",
      "metadata": {
        "id": "Nedj-r6jzUJg"
      },
      "source": [
        "#### フランスの抽出"
      ]
    },
    {
      "cell_type": "code",
      "execution_count": null,
      "metadata": {
        "id": "zGAPlxczzUJg"
      },
      "outputs": [],
      "source": [
        "# 分析対象をフランスに限定する\n",
        "df3 = df2[df2['国名']=='France']\n",
        "\n",
        "# 件数確認\n",
        "print(df3.shape[0])"
      ]
    },
    {
      "cell_type": "markdown",
      "metadata": {
        "id": "1ozX7gRmzUJg"
      },
      "source": [
        "#### One-Hot形式化"
      ]
    },
    {
      "cell_type": "code",
      "execution_count": null,
      "metadata": {
        "id": "lx4E4txHzUJg"
      },
      "outputs": [],
      "source": [
        "# 発注番号と商品番号をキーに商品個数を集計する\n",
        "w1 = df3.groupby(['発注番号', '商品番号'])['商品個数'].sum()\n",
        "\n",
        "# 結果確認\n",
        "print(w1.head())"
      ]
    },
    {
      "cell_type": "code",
      "execution_count": null,
      "metadata": {
        "id": "NM7wP4g1zUJg"
      },
      "outputs": [],
      "source": [
        "# 商品番号を列に移動 (unstack関数の利用)\n",
        "w2 = w1.unstack().reset_index().fillna(0).set_index('発注番号')\n",
        "\n",
        "# サイズ確認\n",
        "print(w2.shape)\n",
        "\n",
        "# 結果確認\n",
        "display(w2.head())"
      ]
    },
    {
      "cell_type": "code",
      "execution_count": null,
      "metadata": {
        "id": "G03s4hYTzUJg"
      },
      "outputs": [],
      "source": [
        "# 集計結果が正か0かでTrue/Falseを設定\n",
        "basket_df = w2.apply(lambda x: x>0)\n",
        "\n",
        "# 結果確認\n",
        "display(basket_df.head())"
      ]
    },
    {
      "cell_type": "markdown",
      "metadata": {
        "id": "-VITKgOqzUJh"
      },
      "source": [
        "### コラム 商品名辞書の作成\n",
        "ここから先は [サポートサイト](https://github.com/makaishi2/profitable_ai_book_info/blob/master/docs/C2-実習コーディング補足解説.md#C21) に解説があります。  \n",
        "以下のセルも実行しないと、後ろのセルでエラーになるので注意してください。\n"
      ]
    },
    {
      "cell_type": "markdown",
      "metadata": {
        "id": "eoyw3BNJzUJh"
      },
      "source": [
        "#### 後で分析する時のために、「商品番号」と「商品説明」の対応表を作っておく"
      ]
    },
    {
      "cell_type": "code",
      "execution_count": null,
      "metadata": {
        "id": "fKnY-QwPzUJh"
      },
      "outputs": [],
      "source": [
        "# 「商品番号」と「商品説明」のみを抽出\n",
        "w3 = df2[['商品番号', '商品説明']].drop_duplicates()\n",
        "\n",
        "# 商品番号と商品名をすべて文字列に変換\n",
        "w3['商品番号'] = w3['商品番号'].astype('str')\n",
        "w3['商品説明'] = w3['商品説明'].astype('str')\n",
        "\n",
        "# 商品番号をインデックスに\n",
        "w3 = w3.set_index('商品番号')\n",
        "display(w3.head())"
      ]
    },
    {
      "cell_type": "code",
      "execution_count": null,
      "metadata": {
        "id": "zlUVnL7pzUJh"
      },
      "outputs": [],
      "source": [
        "# 冒頭の5つの商品コード抽出\n",
        "item_list1 = w3.index[:5]\n",
        "\n",
        "# w3に対する検索結果\n",
        "display(w3.loc[item_list1])"
      ]
    },
    {
      "cell_type": "code",
      "execution_count": null,
      "metadata": {
        "id": "0ouq6c1gzUJh"
      },
      "outputs": [],
      "source": [
        "# 大文字だけのテキストの抽出\n",
        "\n",
        "# 作業用にコピー\n",
        "w4 = w3.copy()\n",
        "\n",
        "# すべて大文字名称の行のみ残す\n",
        "w4 = w4[w4['商品説明'].map(lambda x: x.isupper())]\n",
        "\n",
        "# 先ほど作ったitem_list1で結果確認\n",
        "display(w4.loc[item_list1])"
      ]
    },
    {
      "cell_type": "markdown",
      "metadata": {
        "id": "esLx4W2jzUJh"
      },
      "source": [
        "#### 複数名称の対応方針\n",
        "複数の名称があるものは一番長いものを選択し、商品名辞書(item_dict)とする"
      ]
    },
    {
      "cell_type": "code",
      "execution_count": null,
      "metadata": {
        "id": "t3f4YQO_zUJh"
      },
      "outputs": [],
      "source": [
        "# 一番長い名称の抽出\n",
        "\n",
        "# 作業用にコピー\n",
        "w5 = w4.copy()\n",
        "\n",
        "# 「文字数」列の追加\n",
        "w5['文字数'] = w5['商品説明'].map(len)\n",
        "\n",
        "# ソート\n",
        "w5 = w5.sort_values(['商品番号', '文字数'], ascending=[True, False])\n",
        "\n",
        "# 商品番号ごとに一番長い名称を抽出してitem_dictに代入\n",
        "item_dict = w5.groupby('商品番号')['商品説明'].agg(lambda x: x[0])\n",
        "\n",
        "# 先ほど作ったitem_list1で結果確認\n",
        "display(item_dict.loc[item_list1])"
      ]
    },
    {
      "cell_type": "markdown",
      "metadata": {
        "id": "9QPr092mzUJh"
      },
      "source": [
        "### 5.4.6 アルゴリズム選定と分析\n",
        "mlxtendライブラリから、association_rulesとapprioriを利用する\n"
      ]
    },
    {
      "cell_type": "code",
      "execution_count": null,
      "metadata": {
        "id": "xt9jebqMzUJh"
      },
      "outputs": [],
      "source": [
        "# ライブラリの読み込み\n",
        "from mlxtend.frequent_patterns import apriori\n",
        "from mlxtend.frequent_patterns import association_rules"
      ]
    },
    {
      "cell_type": "code",
      "execution_count": null,
      "metadata": {
        "id": "CUb2Z4LIzUJi"
      },
      "outputs": [],
      "source": [
        "# アプリオリによる分析\n",
        "freq_items1 = apriori(basket_df, min_support = 0.06,\n",
        "    use_colnames = True)\n",
        "\n",
        "# 結果確認\n",
        "display(freq_items1.sort_values('support',\n",
        "    ascending = False).head(10))\n",
        "\n",
        "# itemset数確認\n",
        "print(freq_items1.shape[0])"
      ]
    },
    {
      "cell_type": "code",
      "execution_count": null,
      "metadata": {
        "id": "O-C86fbTzUJi"
      },
      "outputs": [],
      "source": [
        "# アソシエーションルールの抽出\n",
        "a_rules1 = association_rules(freq_items1, metric = \"lift\",\n",
        "    min_threshold = 1,num_itemsets=len(freq_items1))\n",
        "\n",
        "# リフト値でソート\n",
        "a_rules1 = a_rules1.sort_values('lift',\n",
        "    ascending = False).reset_index(drop=True)\n",
        "\n",
        "# 結果確認\n",
        "display(a_rules1.head(10))\n",
        "\n",
        "# ルール数確認\n",
        "print(a_rules1.shape[0])"
      ]
    },
    {
      "cell_type": "code",
      "execution_count": null,
      "metadata": {
        "id": "7I-rNH_xzUJi"
      },
      "outputs": [],
      "source": [
        "# 関係性の高い商品の商品コードをリストアップ\n",
        "item_list = ['23254', '23256', '22726', '22727', '22728']\n",
        "\n",
        "# 商品名を確認\n",
        "for item in item_list:\n",
        "    print(item, item_dict[item])"
      ]
    },
    {
      "cell_type": "markdown",
      "metadata": {
        "id": "ujmFpEv6zUJi"
      },
      "source": [
        "### 5.4.7 チューニング\n",
        "5.4.6 と同じ分析を、min_supportの値を0.065に変更して試してみる"
      ]
    },
    {
      "cell_type": "code",
      "execution_count": null,
      "metadata": {
        "id": "1rFNKWEBzUJi"
      },
      "outputs": [],
      "source": [
        "# アプリオリによる分析\n",
        "freq_items2 = apriori(basket_df, min_support = 0.065,\n",
        "    use_colnames = True)\n",
        "\n",
        "# アソシエーションルールの抽出\n",
        "a_rules2 = association_rules(freq_items2, metric = \"lift\",\n",
        "    min_threshold = 1,num_itemsets=len(freq_items2))\n",
        "\n",
        "# リフト値でソート\n",
        "a_rules2 = a_rules2.sort_values('lift',\n",
        "    ascending = False).reset_index(drop=True)\n",
        "\n",
        "# 結果確認\n",
        "display(a_rules2.head(10))"
      ]
    },
    {
      "cell_type": "markdown",
      "metadata": {
        "id": "GnakRKtZzUJi"
      },
      "source": [
        "aprioriの2つの結果から、「23254」「23256」に関係している項目を抽出"
      ]
    },
    {
      "cell_type": "code",
      "execution_count": null,
      "metadata": {
        "id": "Yr3Fzd69zUJi"
      },
      "outputs": [],
      "source": [
        "# 調査対象の集合\n",
        "t_set = set([23254, 23256])\n",
        "\n",
        "# 1回目の分析freq_item1から該当行を抽出\n",
        "idx1 = freq_items1['itemsets'].map(\n",
        "    lambda x: not x.isdisjoint(t_set))\n",
        "item1 = freq_items1[idx1]\n",
        "\n",
        "# 2回目の分析freq_item2から該当行を抽出\n",
        "idx2 = freq_items2['itemsets'].map(\n",
        "    lambda x: not x.isdisjoint(t_set))\n",
        "item2 = freq_items2[idx2]\n",
        "\n",
        "# 結果確認\n",
        "display(item1)\n",
        "display(item2)"
      ]
    },
    {
      "cell_type": "markdown",
      "metadata": {
        "id": "kusNgx7jzUJo"
      },
      "source": [
        "### 5.4.8 グラフ表示\n",
        "商品間の関係を有向グラフ表示する。  \n",
        "解説は[サポートサイト](https://github.com/makaishi2/profitable_ai_book_info/blob/master/docs/C2-実習コーディング補足解説.md#C22) 参照。"
      ]
    },
    {
      "cell_type": "markdown",
      "metadata": {
        "id": "l2v8GpzCzUJo"
      },
      "source": [
        "#### ノードの抽出"
      ]
    },
    {
      "cell_type": "code",
      "execution_count": null,
      "metadata": {
        "id": "0XzSFUoOzUJo"
      },
      "outputs": [],
      "source": [
        "# 対象とする関係をリフト値上位20に限定\n",
        "a = a_rules1.head(20)\n",
        "\n",
        "# 親ノードの抽出\n",
        "ant = a['antecedents'].values\n",
        "ant = [tuple(x) for x in ant]\n",
        "\n",
        "# 子ノードの抽出\n",
        "con = a['consequents'].values\n",
        "con = [tuple(x) for x in con]\n",
        "\n",
        "# 全ノードのリストアップ\n",
        "both = ant + con\n",
        "both = list(set(both))\n",
        "\n",
        "# 結果の一部確認\n",
        "print(both[:10])"
      ]
    },
    {
      "cell_type": "markdown",
      "metadata": {
        "id": "e0uWU9qHzUJp"
      },
      "source": [
        "#### 関係グラフの構築"
      ]
    },
    {
      "cell_type": "code",
      "execution_count": null,
      "metadata": {
        "id": "-DvGq8zSzUJp"
      },
      "outputs": [],
      "source": [
        "# networkx のインポート\n",
        "import networkx as nx\n",
        "\n",
        "# 関係グラフの初期化\n",
        "G = nx.DiGraph()\n",
        "\n",
        "# ノードの追加\n",
        "for n in both:\n",
        "  G.add_node(n)\n",
        "\n",
        "# エッジの追加\n",
        "for i in range(len(a)):\n",
        "    item = a.loc[i]\n",
        "    ant = tuple(item['antecedents'])\n",
        "    con = tuple(item['consequents'])\n",
        "    G.add_edge(ant, con)"
      ]
    },
    {
      "cell_type": "markdown",
      "metadata": {
        "id": "OwxQvh9wzUJp"
      },
      "source": [
        "#### グラフ描画"
      ]
    },
    {
      "cell_type": "code",
      "execution_count": null,
      "metadata": {
        "id": "kip_yrW0zUJp"
      },
      "outputs": [],
      "source": [
        "# グラフ描画\n",
        "pos = nx.spring_layout(G, k=0.6, seed=random_seed)\n",
        "\n",
        "plt.figure(figsize=(8, 8))\n",
        "nx.draw_networkx_nodes(G, pos)\n",
        "nx.draw_networkx_edges(G, pos)\n",
        "nx.draw_networkx_labels(G, pos,\n",
        "    horizontalalignment='left',\n",
        "    verticalalignment='center')\n",
        "plt.axis('off')\n",
        "plt.tight_layout()\n",
        "plt.show()"
      ]
    },
    {
      "cell_type": "markdown",
      "source": [
        "### バージョン確認"
      ],
      "metadata": {
        "id": "fAZnpnOKovox"
      }
    },
    {
      "cell_type": "code",
      "source": [
        "!pip install watermark | tail -n 1\n",
        "%load_ext watermark\n",
        "%watermark --iversions"
      ],
      "metadata": {
        "id": "YSOIvdHanEdH"
      },
      "execution_count": null,
      "outputs": []
    }
  ],
  "metadata": {
    "kernelspec": {
      "display_name": "Python 3",
      "language": "python",
      "name": "python3"
    },
    "language_info": {
      "codemirror_mode": {
        "name": "ipython",
        "version": 3
      },
      "file_extension": ".py",
      "mimetype": "text/x-python",
      "name": "python",
      "nbconvert_exporter": "python",
      "pygments_lexer": "ipython3",
      "version": "3.7.6"
    },
    "colab": {
      "provenance": [],
      "toc_visible": true
    }
  },
  "nbformat": 4,
  "nbformat_minor": 0
}