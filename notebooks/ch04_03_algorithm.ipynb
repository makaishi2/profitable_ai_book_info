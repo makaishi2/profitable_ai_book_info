{
  "cells": [
    {
      "cell_type": "markdown",
      "metadata": {
        "id": "mO5GHcBosupZ"
      },
      "source": [
        "# 4.3 アルゴリズム選択"
      ]
    },
    {
      "cell_type": "code",
      "execution_count": null,
      "metadata": {
        "id": "hErpC8VkykBj"
      },
      "outputs": [],
      "source": [
        "# 結果を紙面とそろえるためバージョンを下げる\n",
        "!pip install xgboost==0.90 | tail -n 1"
      ]
    },
    {
      "cell_type": "code",
      "execution_count": null,
      "metadata": {
        "id": "FX0l4bfYHNwl"
      },
      "outputs": [],
      "source": [
        "# 日本語化ライブラリ導入\n",
        "!pip install japanize-matplotlib | tail -n 1"
      ]
    },
    {
      "cell_type": "code",
      "execution_count": null,
      "metadata": {
        "id": "1kXiupZHykBk"
      },
      "outputs": [],
      "source": [
        "# モデルのprint時に全てのパラメータを表示するよう設定を変更\n",
        "from sklearn import set_config\n",
        "set_config(print_changed_only=False)"
      ]
    },
    {
      "cell_type": "code",
      "execution_count": null,
      "metadata": {
        "id": "2awHTZPdsupd"
      },
      "outputs": [],
      "source": [
        "# 共通事前処理\n",
        "\n",
        "# 余分なワーニングを非表示にする\n",
        "import warnings\n",
        "warnings.filterwarnings('ignore')\n",
        "\n",
        "# 必要ライブラリのimport\n",
        "import pandas as pd\n",
        "import numpy as np\n",
        "import matplotlib.pyplot as plt\n",
        "\n",
        "# matplotlib日本語化対応\n",
        "import japanize_matplotlib\n",
        "\n",
        "# データフレーム表示用関数\n",
        "from IPython.display import display\n",
        "\n",
        "# 表示オプション調整\n",
        "# numpyの浮動小数点の表示精度\n",
        "np.set_printoptions(suppress=True, precision=4)\n",
        "# pandasでの浮動小数点の表示精度\n",
        "pd.options.display.float_format = '{:.4f}'.format\n",
        "# データフレームですべての項目を表示\n",
        "pd.set_option(\"display.max_columns\",None)\n",
        "# グラフのデフォルトフォント指定\n",
        "plt.rcParams[\"font.size\"] = 14\n",
        "# 乱数の種\n",
        "random_seed = 123"
      ]
    },
    {
      "cell_type": "markdown",
      "metadata": {
        "id": "yYjQM4aPsuq4"
      },
      "source": [
        "### 4.3.2 サンプルコーディングで用いるデータ"
      ]
    },
    {
      "cell_type": "code",
      "execution_count": null,
      "metadata": {
        "id": "rVwYIDVVsuq7"
      },
      "outputs": [],
      "source": [
        "# サンプルデータの生成\n",
        "\n",
        "# ライブラリインポート\n",
        "from sklearn.datasets import make_moons\n",
        "from sklearn.datasets import make_circles\n",
        "from sklearn.datasets import make_classification\n",
        "\n",
        "# 線形分離型\n",
        "X1, y1 = make_classification(n_features=2, n_redundant=0,\n",
        "    n_informative=2, random_state=random_seed,\n",
        "    n_clusters_per_class=1, n_samples=200, n_classes=2)\n",
        "\n",
        "# 三日月型 (線形分離不可)\n",
        "X2, y2 = make_moons(noise = 0.05, random_state=random_seed,\n",
        "    n_samples=200)\n",
        "\n",
        "# 円形 (線形分離不可)\n",
        "X3, y3 = make_circles(noise = 0.02, random_state=random_seed,\n",
        "    n_samples=200)\n",
        "\n",
        "# 3種類のデータをDataListに保存\n",
        "DataList = [(X1, y1), (X2, y2), (X3, y3)]\n",
        "\n",
        "# N: データの種類数\n",
        "N = len(DataList)"
      ]
    },
    {
      "cell_type": "code",
      "execution_count": null,
      "metadata": {
        "id": "ZCZVCPJqsurE",
        "scrolled": true
      },
      "outputs": [],
      "source": [
        "# 散布図表示\n",
        "plt.figure(figsize=(15,4))\n",
        "\n",
        "# カラーマップ定義\n",
        "from matplotlib.colors import ListedColormap\n",
        "cmap = ListedColormap(['#0000FF', '#000000'])\n",
        "\n",
        "for i, data in enumerate(DataList):\n",
        "    X, y = data\n",
        "    ax = plt.subplot(1, N, i+1)\n",
        "    ax.scatter(X[:,0], X[:,1], c=y, cmap=cmap)\n",
        "\n",
        "plt.show()"
      ]
    },
    {
      "cell_type": "code",
      "execution_count": null,
      "metadata": {
        "id": "6tg0HurlsurQ"
      },
      "outputs": [],
      "source": [
        "from sklearn.model_selection import train_test_split\n",
        "\n",
        "# 決定境界の表示関数\n",
        "def plot_boundary(ax, x, y, algorithm):\n",
        "    x_train, x_test, y_train, y_test = train_test_split(x, y,\n",
        "            test_size=0.5, random_state=random_seed)\n",
        "    # カラーマップ定義\n",
        "    from matplotlib.colors import ListedColormap\n",
        "    cmap1 = plt.cm.bwr\n",
        "    cmap2 = ListedColormap(['#0000FF', '#000000'])\n",
        "\n",
        "    h = 0.005\n",
        "    algorithm.fit(x_train, y_train)\n",
        "    score_test = algorithm.score(x_test, y_test)\n",
        "    score_train = algorithm.score(x_train, y_train)\n",
        "    f1_min = x[:, 0].min() - 0.5\n",
        "    f1_max = x[:, 0].max() + 0.5\n",
        "    f2_min = x[:, 1].min() - 0.5\n",
        "    f2_max = x[:, 1].max() + 0.5\n",
        "    f1, f2 = np.meshgrid(np.arange(f1_min, f1_max, h),\n",
        "                         np.arange(f2_min, f2_max, h))\n",
        "    if hasattr(algorithm, \"decision_function\"):\n",
        "        Z = algorithm.decision_function(np.c_[f1.ravel(), f2.ravel()])\n",
        "        Z = Z.reshape(f1.shape)\n",
        "        ax.contour(f1, f2, Z, levels=[0], linewidth=2)\n",
        "    else:\n",
        "        Z = algorithm.predict_proba(np.c_[f1.ravel(), f2.ravel()])[:, 1]\n",
        "        Z = Z.reshape(f1.shape)\n",
        "    ax.contourf(f1, f2, Z, cmap=cmap1, alpha=0.3)\n",
        "    ax.scatter(x_test[:,0], x_test[:,1], c=y_test, cmap=cmap2)\n",
        "    ax.scatter(x_train[:,0], x_train[:,1], c=y_train, cmap=cmap2, marker='x')\n",
        "    text = f'検証:{score_test:.2f}  訓練: {score_train:.2f}'\n",
        "    ax.text(f1.max() - 0.3, f2.min() + 0.3, text, horizontalalignment='right',\n",
        "    fontsize=18)\n"
      ]
    },
    {
      "cell_type": "code",
      "execution_count": null,
      "metadata": {
        "id": "2GnEs-HIsurX"
      },
      "outputs": [],
      "source": [
        "# 散布図と決定境界の表示関数\n",
        "\n",
        "def plot_boundaries(algorithm, DataList):\n",
        "    plt.figure(figsize=(15,4))\n",
        "    for i, data in enumerate(DataList):\n",
        "        X, y = data\n",
        "        ax = plt.subplot(1, N, i+1)\n",
        "        plot_boundary(ax, X, y, algorithm)\n",
        "    plt.show()"
      ]
    },
    {
      "cell_type": "markdown",
      "metadata": {
        "id": "4QK7la8bsurc"
      },
      "source": [
        "### 4.3.3 ロジスティック回帰"
      ]
    },
    {
      "cell_type": "markdown",
      "metadata": {
        "id": "4hjdypwfGxjT"
      },
      "source": [
        "#### シグモイド関数のグラフ表示"
      ]
    },
    {
      "cell_type": "code",
      "execution_count": null,
      "metadata": {
        "id": "665hrivYsurd"
      },
      "outputs": [],
      "source": [
        "# シグモイド関数の定義\n",
        "def sigmoid(x):\n",
        "    return 1/(1 + np.exp(-x))\n",
        "\n",
        "# xのデータ準備\n",
        "x = np.linspace(-5, 5, 101)\n",
        "\n",
        "# yのデータ準備\n",
        "y = sigmoid(x)\n",
        "\n",
        "# グラフ表示\n",
        "plt.plot(x, y, label='シグモイド関数', c='b', lw=2)\n",
        "\n",
        "# 凡例表示\n",
        "plt.legend()\n",
        "\n",
        "# 方眼表示\n",
        "plt.grid()\n",
        "\n",
        "# グラフ描画\n",
        "plt.show()"
      ]
    },
    {
      "cell_type": "code",
      "execution_count": null,
      "metadata": {
        "id": "6H__cQb6suri"
      },
      "outputs": [],
      "source": [
        "# ロジスティック回帰の散布図・分類結果表示\n",
        "\n",
        "# アルゴリズムの選定\n",
        "from sklearn.linear_model import LogisticRegression\n",
        "algorithm = LogisticRegression(random_state=random_seed)\n",
        "\n",
        "# アルゴリズムの持つパラメータの表示\n",
        "print(algorithm)\n",
        "\n",
        "# 表示関数の呼び出し\n",
        "plot_boundaries(algorithm, DataList)"
      ]
    },
    {
      "cell_type": "markdown",
      "metadata": {
        "id": "-lGjUfRvsur1"
      },
      "source": [
        "### 4.3.4 サポートベクターマシン(カーネル)"
      ]
    },
    {
      "cell_type": "code",
      "execution_count": null,
      "metadata": {
        "id": "zSpjxSbMsur2",
        "scrolled": true
      },
      "outputs": [],
      "source": [
        "# SVM (カーネル)の散布図・分類結果表示\n",
        "\n",
        "# アルゴリズムの選定\n",
        "from sklearn.svm import SVC\n",
        "algorithm = SVC(kernel='rbf', random_state=random_seed)\n",
        "\n",
        "# アルゴリズムの持つパラメータの表示\n",
        "print(algorithm)\n",
        "\n",
        "# 表示関数の呼び出し\n",
        "plot_boundaries(algorithm, DataList)"
      ]
    },
    {
      "cell_type": "markdown",
      "metadata": {
        "id": "ZtH_8tdKsusf"
      },
      "source": [
        "### 4.3.5 ニューラルネットワーク"
      ]
    },
    {
      "cell_type": "code",
      "execution_count": null,
      "metadata": {
        "id": "uZ4Kx1UBSATK"
      },
      "outputs": [],
      "source": [
        "# ニューラルネットワークの散布図・分類結果表示\n",
        "\n",
        "# アルゴリズムの選定\n",
        "from sklearn.neural_network import MLPClassifier\n",
        "algorithm = MLPClassifier(random_state=random_seed)\n",
        "\n",
        "# アルゴリズムの持つパラメータの表示\n",
        "print(algorithm)\n",
        "\n",
        "# 表示関数の呼び出し\n",
        "plot_boundaries(algorithm, DataList)"
      ]
    },
    {
      "cell_type": "code",
      "execution_count": null,
      "metadata": {
        "id": "29Nrq4XQsusg",
        "scrolled": false
      },
      "outputs": [],
      "source": [
        "# ニューラルネットワークの散布図・分類結果表示\n",
        "\n",
        "# アルゴリズムの選定\n",
        "# 隠れ層ノード数=(100,100)\n",
        "from sklearn.neural_network import MLPClassifier\n",
        "algorithm = MLPClassifier(hidden_layer_sizes=(100,100), random_state=random_seed)\n",
        "\n",
        "# アルゴリズムの持つパラメータの表示\n",
        "print(algorithm)\n",
        "\n",
        "# 表示関数の呼び出し\n",
        "plot_boundaries(algorithm, DataList)"
      ]
    },
    {
      "cell_type": "markdown",
      "metadata": {
        "id": "CijPD0UZsur6"
      },
      "source": [
        "### 4.3.6 決定木"
      ]
    },
    {
      "cell_type": "code",
      "execution_count": null,
      "metadata": {
        "id": "AdxLMsRNsur8"
      },
      "outputs": [],
      "source": [
        "# 追加ライブラリのimport\n",
        "import seaborn as sns\n",
        "\n",
        "# サンプルデータの読み込み\n",
        "df_iris = sns.load_dataset(\"iris\")\n",
        "\n",
        "# 2種類の花に絞り込み\n",
        "df2 = df_iris[50:150]\n",
        "\n",
        "# データ分離\n",
        "X = df2.drop('species', axis=1)\n",
        "y = df2['species']"
      ]
    },
    {
      "cell_type": "code",
      "execution_count": null,
      "metadata": {
        "id": "mz9ydocPsur_"
      },
      "outputs": [],
      "source": [
        "# 学習\n",
        "from sklearn.tree import DecisionTreeClassifier\n",
        "algorithm = DecisionTreeClassifier(random_state=random_seed)\n",
        "algorithm.fit(X, y)\n",
        "\n",
        "# 決定木のツリー表示\n",
        "from sklearn import tree\n",
        "with open('iris-dtree.dot', mode='w') as f:\n",
        "    tree.export_graphviz( algorithm, out_file=f,\n",
        "        feature_names=X.columns, filled=True, rounded=True,\n",
        "        special_characters=True, impurity=False, proportion=False\n",
        "    )\n",
        "import pydotplus\n",
        "from IPython.display import Image\n",
        "graph = pydotplus.graphviz.graph_from_dot_file('iris-dtree.dot')\n",
        "graph.write_png('iris-dtree.png')\n",
        "Image(graph.create_png())"
      ]
    },
    {
      "cell_type": "code",
      "execution_count": null,
      "metadata": {
        "id": "4Unapg7GsusF"
      },
      "outputs": [],
      "source": [
        "# 決定木の散布図・分類結果表示\n",
        "\n",
        "# アルゴリズムの選定\n",
        "from sklearn.tree import DecisionTreeClassifier\n",
        "algorithm = DecisionTreeClassifier(random_state=random_seed)\n",
        "\n",
        "# アルゴリズムの持つパラメータの表示\n",
        "print(algorithm)\n",
        "\n",
        "# 表示関数の呼び出し\n",
        "plot_boundaries(algorithm, DataList)"
      ]
    },
    {
      "cell_type": "code",
      "execution_count": null,
      "metadata": {
        "id": "lFwywes9susJ",
        "scrolled": false
      },
      "outputs": [],
      "source": [
        "# 決定木の散布図・分類結果表示(max_depth=3の場合)\n",
        "\n",
        "# アルゴリズムの選定\n",
        "from sklearn.tree import DecisionTreeClassifier\n",
        "algorithm = DecisionTreeClassifier(max_depth=3,\n",
        "    random_state=random_seed)\n",
        "\n",
        "# アルゴリズムの持つパラメータの表示\n",
        "print(algorithm)\n",
        "\n",
        "# 表示関数の呼び出し\n",
        "plot_boundaries(algorithm, DataList)"
      ]
    },
    {
      "cell_type": "markdown",
      "metadata": {
        "id": "EalfyOpBsusN"
      },
      "source": [
        "### 4.3.7 ランダムフォレスト"
      ]
    },
    {
      "cell_type": "code",
      "execution_count": null,
      "metadata": {
        "id": "4LDlgCivsusS"
      },
      "outputs": [],
      "source": [
        "# ランダムフォレストの散布図・分類結果表示\n",
        "\n",
        "# アルゴリズムの選定\n",
        "from sklearn.ensemble import RandomForestClassifier\n",
        "algorithm = RandomForestClassifier(random_state=random_seed)\n",
        "\n",
        "# アルゴリズムの持つパラメータの表示\n",
        "print(algorithm)\n",
        "\n",
        "# 表示関数の呼び出し\n",
        "plot_boundaries(algorithm, DataList)"
      ]
    },
    {
      "cell_type": "markdown",
      "metadata": {
        "id": "MP8HIeqZsusW"
      },
      "source": [
        "### 4.3.8 XGBoost"
      ]
    },
    {
      "cell_type": "code",
      "execution_count": null,
      "metadata": {
        "id": "rc__Yw46susX"
      },
      "outputs": [],
      "source": [
        "# XGBoostの散布図・分類結果表示\n",
        "\n",
        "# アルゴリズムの選定\n",
        "import xgboost\n",
        "algorithm = xgboost.XGBClassifier(random_state=random_seed)\n",
        "\n",
        "# アルゴリズムの持つパラメータの表示\n",
        "print(algorithm)\n",
        "\n",
        "# 表示関数の呼び出し\n",
        "plot_boundaries(algorithm, DataList)"
      ]
    },
    {
      "cell_type": "markdown",
      "metadata": {
        "id": "Cor27JFxsusf"
      },
      "source": [
        "### バージョン確認"
      ]
    },
    {
      "cell_type": "code",
      "execution_count": null,
      "metadata": {
        "id": "Ehass4ErHNxX"
      },
      "outputs": [],
      "source": [
        "!pip install watermark | tail -n 1\n",
        "%load_ext watermark\n",
        "%watermark --iversions"
      ]
    }
  ],
  "metadata": {
    "colab": {
      "provenance": [],
      "toc_visible": true
    },
    "kernelspec": {
      "display_name": "Python 3",
      "language": "python",
      "name": "python3"
    },
    "language_info": {
      "codemirror_mode": {
        "name": "ipython",
        "version": 3
      },
      "file_extension": ".py",
      "mimetype": "text/x-python",
      "name": "python",
      "nbconvert_exporter": "python",
      "pygments_lexer": "ipython3",
      "version": "3.7.6"
    }
  },
  "nbformat": 4,
  "nbformat_minor": 0
}