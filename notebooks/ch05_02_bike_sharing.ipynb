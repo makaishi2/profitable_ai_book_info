{
  "cells": [
    {
      "cell_type": "markdown",
      "metadata": {
        "id": "W7toKJ7wQX07"
      },
      "source": [
        "## 5.2 天候による売り上げ予測(回帰)"
      ]
    },
    {
      "cell_type": "markdown",
      "metadata": {
        "id": "tWA8zM_4QX08"
      },
      "source": [
        "### 共通事前処理"
      ]
    },
    {
      "cell_type": "code",
      "execution_count": null,
      "metadata": {
        "id": "2ZKkHxe_zFcD"
      },
      "outputs": [],
      "source": [
        "# 結果を紙面とそろえるためバージョンを下げる\n",
        "!pip install xgboost==0.90 | tail -n 1"
      ]
    },
    {
      "cell_type": "code",
      "execution_count": null,
      "metadata": {
        "id": "Vxf-A1E8zFcE"
      },
      "outputs": [],
      "source": [
        "# モデルのprint時に全てのパラメータを表示するよう設定を変更\n",
        "from sklearn import set_config\n",
        "set_config(print_changed_only=False)"
      ]
    },
    {
      "cell_type": "code",
      "execution_count": null,
      "metadata": {
        "id": "KoujqCm1QX08"
      },
      "outputs": [],
      "source": [
        "# 日本語化ライブラリ導入\n",
        "!pip install japanize-matplotlib | tail -n 1"
      ]
    },
    {
      "cell_type": "code",
      "execution_count": null,
      "metadata": {
        "id": "F3-ACoCCQX1A"
      },
      "outputs": [],
      "source": [
        "# 共通事前処理\n",
        "\n",
        "# 余分なワーニングを非表示にする\n",
        "import warnings\n",
        "warnings.filterwarnings('ignore')\n",
        "\n",
        "# 必要ライブラリのimport\n",
        "import pandas as pd\n",
        "import numpy as np\n",
        "import matplotlib.pyplot as plt\n",
        "\n",
        "# matplotlib日本語化対応\n",
        "import japanize_matplotlib\n",
        "\n",
        "# データフレーム表示用関数\n",
        "from IPython.display import display\n",
        "\n",
        "# 表示オプション調整\n",
        "# numpyの浮動小数点の表示精度\n",
        "np.set_printoptions(suppress=True, precision=4)\n",
        "\n",
        "# pandasでの浮動小数点の表示精度\n",
        "pd.options.display.float_format = '{:.4f}'.format\n",
        "\n",
        "# データフレームですべての項目を表示\n",
        "pd.set_option(\"display.max_columns\",None)\n",
        "\n",
        "# グラフのデフォルトフォント指定\n",
        "plt.rcParams[\"font.size\"] = 14\n",
        "\n",
        "# 乱数の種\n",
        "random_seed = 123"
      ]
    },
    {
      "cell_type": "markdown",
      "metadata": {
        "id": "A0XDeacoQX1C"
      },
      "source": [
        "オリジナルURL   \n",
        "https://archive.ics.uci.edu/ml/datasets/bike+sharing+dataset"
      ]
    },
    {
      "cell_type": "markdown",
      "metadata": {
        "id": "OZRHKSIdQX1D"
      },
      "source": [
        "#### データ項目メモ\n",
        "\n",
        "instant インデックス  \n",
        "dteday 日付(yy-mm-dd)  \n",
        "season 季節 (1: 冬 2: 春 3: 夏 4:秋)  \n",
        "yr 年 (0: 2011, 1:2012)  \n",
        "mnth 月  (1 - 12)  \n",
        "hr 時間  (0 - 23)  \n",
        "holiday 祝日  \n",
        "weekday 曜日 (0 - 6)  \n",
        "workingday  勤務日 (1: 勤務日 0: 休日)  \n",
        "weathersit 天気 (1: 晴れから曇り 2: 霧 3: 小雨 4: 大雨)  \n",
        "temp 気温 (正規化済み)  \n",
        "atemp 体感気温 (正規化済み)  \n",
        "hum 湿度 (正規化済み)  \n",
        "windspeed 風速 (正規化済み)  \n",
        "casual 臨時利用者数  \n",
        "registered 登録利用者数  \n",
        "cnt 全体利用者数  "
      ]
    },
    {
      "cell_type": "markdown",
      "metadata": {
        "id": "aZqGa_O1QX1D"
      },
      "source": [
        "### 5.2.4 データ読み込みからデータ確認まで"
      ]
    },
    {
      "cell_type": "markdown",
      "metadata": {
        "id": "9Rhq446bQX1E"
      },
      "source": [
        "#### データ読み込み"
      ]
    },
    {
      "cell_type": "code",
      "execution_count": null,
      "metadata": {
        "id": "Q2d-PkeYQX1E"
      },
      "outputs": [],
      "source": [
        "# ダウンロード元URL\n",
        "url = 'https://archive.ics.uci.edu/ml/\\\n",
        "machine-learning-databases/00275/\\\n",
        "Bike-Sharing-Dataset.zip'\n",
        "\n",
        "# 公開データのダウンロードと解凍\n",
        "!wget $url -O Bike-Sharing-Dataset.zip | tail -n 1\n",
        "!unzip -o Bike-Sharing-Dataset.zip | tail -n 1"
      ]
    },
    {
      "cell_type": "code",
      "execution_count": null,
      "metadata": {
        "id": "hJrvgZSgQX1G"
      },
      "outputs": [],
      "source": [
        "# データの状態確認\n",
        "!head -5 day.csv"
      ]
    },
    {
      "cell_type": "code",
      "execution_count": null,
      "metadata": {
        "id": "FuX-Q-BqQX1I"
      },
      "outputs": [],
      "source": [
        "# day.csvをデータフレームに取り込み\n",
        "# 日付を表す列はparse_datesで指定する\n",
        "df = pd.read_csv('day.csv', parse_dates=[1])\n",
        "\n",
        "# データ属性の確認\n",
        "print(df.dtypes)"
      ]
    },
    {
      "cell_type": "code",
      "execution_count": null,
      "metadata": {
        "id": "qy60y8Y0QX1L"
      },
      "outputs": [],
      "source": [
        "# instant は連番で予測で不要なので削除\n",
        "df = df.drop('instant', axis=1)\n",
        "\n",
        "# 項目名の日本語化\n",
        "\n",
        "columns = [\n",
        "    '日付',  '季節',  '年', '月', '祝日', '曜日', '勤務日', '天気',\n",
        "    '気温', '体感温度',  '湿度', '風速',\n",
        "    '臨時ユーザー利用数', '登録ユーザー利用数', '全体ユーザー利用数'\n",
        "]\n",
        "\n",
        "# 項目名を日本語に置き換え\n",
        "df.columns = columns"
      ]
    },
    {
      "cell_type": "markdown",
      "metadata": {
        "id": "zsTmo2rQQX1N"
      },
      "source": [
        "#### データ確認"
      ]
    },
    {
      "cell_type": "code",
      "execution_count": null,
      "metadata": {
        "id": "0LxwHpORQX1N"
      },
      "outputs": [],
      "source": [
        "# 先頭5行の確認\n",
        "display(df.head())\n",
        "\n",
        "# 最終5行の確認\n",
        "display(df.tail())"
      ]
    },
    {
      "cell_type": "code",
      "execution_count": null,
      "metadata": {
        "id": "Xj1KcQLtQX1Q"
      },
      "outputs": [],
      "source": [
        "# 度数分布表示\n",
        "\n",
        "# グラフのサイズ調整のためのおまじない\n",
        "from pylab import rcParams\n",
        "rcParams['figure.figsize'] = (12, 12)\n",
        "\n",
        "# データフレームの数値項目でヒストグラム表示\n",
        "df.hist(bins=20, column=columns[1:])\n",
        "plt.tight_layout()\n",
        "plt.show()"
      ]
    },
    {
      "cell_type": "code",
      "execution_count": null,
      "metadata": {
        "id": "dN3hdcdNQX1S"
      },
      "outputs": [],
      "source": [
        "# 欠損値チェック\n",
        "df.isnull().sum()"
      ]
    },
    {
      "cell_type": "markdown",
      "metadata": {
        "id": "if09vDCfQX1U"
      },
      "source": [
        "#### 時系列データのグラフ表示"
      ]
    },
    {
      "cell_type": "code",
      "execution_count": null,
      "metadata": {
        "id": "v9AduZkVQX1U"
      },
      "outputs": [],
      "source": [
        "# 時系列グラフの描画 (登録利用者数)\n",
        "plt.figure(figsize=(12,4))\n",
        "\n",
        "# グラフ描画\n",
        "plt.plot(df['日付'],df['登録ユーザー利用数'],c='b')\n",
        "\n",
        "# 方眼表示など\n",
        "plt.grid()\n",
        "plt.title('登録ユーザー利用数')\n",
        "\n",
        "# 画面出力\n",
        "plt.show()"
      ]
    },
    {
      "cell_type": "markdown",
      "metadata": {
        "id": "mgKX4STvQX1X"
      },
      "source": [
        "### 5.2.5 データ前処理とデータ分割"
      ]
    },
    {
      "cell_type": "markdown",
      "metadata": {
        "id": "p4VaqJ_vQX1X"
      },
      "source": [
        "#### データ前処理\n",
        "(特になし)"
      ]
    },
    {
      "cell_type": "markdown",
      "metadata": {
        "id": "w9ZNTRl_QX1X"
      },
      "source": [
        "#### データ分割\n",
        "\n",
        "方針\n",
        "* 目的変数yは「登録ユーザー利用数」とする\n",
        "* 「全体ユーザー利用数」と「臨時ユーザー利用数」は対象から落とす\n",
        "* 日付も入力変数として不要なので入力変数xから落とす\n",
        "* 時間軸に関しては 2012-11-01より前を訓練データ、後ろを検証データとする"
      ]
    },
    {
      "cell_type": "code",
      "execution_count": null,
      "metadata": {
        "id": "UsBb8b19QX1Y"
      },
      "outputs": [],
      "source": [
        "# x, yへの分割\n",
        "x = df.drop(['日付', '臨時ユーザー利用数', '登録ユーザー利用数',\n",
        "    '全体ユーザー利用数'], axis=1)\n",
        "y = df['登録ユーザー利用数'].values"
      ]
    },
    {
      "cell_type": "code",
      "execution_count": null,
      "metadata": {
        "id": "SDmM7ra3QX1a"
      },
      "outputs": [],
      "source": [
        "# 分割日 mdayの設定\n",
        "mday = pd.to_datetime('2012-11-1')\n",
        "\n",
        "# 訓練用indexと検証用indexを作る\n",
        "train_index = df['日付'] < mday\n",
        "test_index = df['日付'] >= mday\n",
        "\n",
        "# 入力データの分割\n",
        "x_train = x[train_index]\n",
        "x_test = x[test_index]\n",
        "\n",
        "# yも同様に分割\n",
        "y_train = y[train_index]\n",
        "y_test = y[test_index]\n",
        "\n",
        "# 日付データの分割(グラフ表示用)\n",
        "dates_test = df['日付'][test_index]"
      ]
    },
    {
      "cell_type": "code",
      "execution_count": null,
      "metadata": {
        "id": "bu0aAIWjQX1c"
      },
      "outputs": [],
      "source": [
        "# 結果確認(サイズを確認)\n",
        "print(x_train.shape)\n",
        "print(x_test.shape)\n",
        "\n",
        "# 結果確認 (境界値を重点的に)\n",
        "display(x_train.tail())\n",
        "display(x_test.head())"
      ]
    },
    {
      "cell_type": "code",
      "execution_count": null,
      "metadata": {
        "id": "swSBXUKaQX1f"
      },
      "outputs": [],
      "source": [
        "# 目的変数の分割結果確認\n",
        "print(y_train[:10])"
      ]
    },
    {
      "cell_type": "markdown",
      "metadata": {
        "id": "Q2-s3VofQX1h"
      },
      "source": [
        "### 5.2.6 アルゴリズム選定"
      ]
    },
    {
      "cell_type": "markdown",
      "metadata": {
        "id": "mXWWTis8QX1h"
      },
      "source": [
        "#### アルゴリズム選定"
      ]
    },
    {
      "cell_type": "code",
      "execution_count": null,
      "metadata": {
        "id": "LKwpKOCzQX1h"
      },
      "outputs": [],
      "source": [
        "# アルゴリズム選定\n",
        "# XGBRegressorを選定する\n",
        "from xgboost import XGBRegressor\n",
        "algorithm = XGBRegressor(objective ='reg:squarederror',\n",
        "    random_state=random_seed)"
      ]
    },
    {
      "cell_type": "markdown",
      "metadata": {
        "id": "Fv2WOvE-QX1k"
      },
      "source": [
        "### 5.2.7 学習・予測"
      ]
    },
    {
      "cell_type": "code",
      "execution_count": null,
      "metadata": {
        "id": "ljWoyusUQX1k"
      },
      "outputs": [],
      "source": [
        "# 登録ユーザー利用数予測モデルの学習と予測\n",
        "\n",
        "# 学習\n",
        "algorithm.fit(x_train, y_train)\n",
        "\n",
        "# 予測\n",
        "y_pred = algorithm.predict(x_test)\n",
        "\n",
        "# 予測結果確認\n",
        "print(y_pred[:5])"
      ]
    },
    {
      "cell_type": "markdown",
      "metadata": {
        "id": "5C-CqH-OQX1m"
      },
      "source": [
        "### 5.2.8 評価"
      ]
    },
    {
      "cell_type": "code",
      "execution_count": null,
      "metadata": {
        "id": "9u8JV-i0QX1m"
      },
      "outputs": [],
      "source": [
        "# 評価(登録ユーザー利用数)\n",
        "\n",
        "# score関数の呼び出し\n",
        "score = algorithm.score(x_test, y_test)\n",
        "\n",
        "# R2値の計算\n",
        "from sklearn.metrics import r2_score\n",
        "r2_score = r2_score(y_test, y_pred)\n",
        "\n",
        "# 結果確認\n",
        "print(f'score: {score:.4f}  r2_ score: {r2_score:.4f}')"
      ]
    },
    {
      "cell_type": "code",
      "execution_count": null,
      "metadata": {
        "id": "uyoX2BnRQX1o"
      },
      "outputs": [],
      "source": [
        "#正解データと予測結果を散布図で比較 (登録ユーザー利用数)\n",
        "plt.figure(figsize=(6,6))\n",
        "y_max = y_test.max()\n",
        "plt.plot((0,y_max), (0, y_max), c='k')\n",
        "plt.scatter(y_test, y_pred, c='b')\n",
        "plt.title(f'正解データと予測結果の散布図(登録ユーザー利用数)\\\n",
        "  R2={score:.4f}')\n",
        "plt.grid()\n",
        "plt.show()"
      ]
    },
    {
      "cell_type": "code",
      "execution_count": null,
      "metadata": {
        "id": "9V6qZUSQQX1q"
      },
      "outputs": [],
      "source": [
        "# 時系列グラフの描画 (登録ユーザー利用数)\n",
        "import matplotlib.dates as mdates\n",
        "fig, ax = plt.subplots(figsize=(8, 4))\n",
        "\n",
        "# グラフ描画\n",
        "ax.plot(dates_test, y_test, label='正解データ', c='k')\n",
        "ax.plot(dates_test, y_pred, label='予測結果', c='b')\n",
        "\n",
        "# 日付目盛間隔\n",
        "# 木曜日ごとに日付を表示\n",
        "weeks = mdates.WeekdayLocator(byweekday=mdates.TH)\n",
        "ax.xaxis.set_major_locator(weeks)\n",
        "\n",
        "# 日付表記を90度回転\n",
        "ax.tick_params(axis='x', rotation=90)\n",
        "\n",
        "# 方眼表示など\n",
        "ax.grid()\n",
        "ax.legend()\n",
        "ax.set_title('登録ユーザー利用数予測')\n",
        "\n",
        "# 画面出力\n",
        "plt.show()"
      ]
    },
    {
      "cell_type": "markdown",
      "metadata": {
        "id": "3uIRS13CQX1r"
      },
      "source": [
        "### 5.2.9 チューニング"
      ]
    },
    {
      "cell_type": "code",
      "execution_count": null,
      "metadata": {
        "id": "GqNiYqusQX1s",
        "scrolled": true
      },
      "outputs": [],
      "source": [
        "# 項目をone hot encodeするための関数\n",
        "def enc(df, column):\n",
        "    df_dummy = pd.get_dummies(df[column], prefix=column)\n",
        "    df = pd.concat([df.drop([column],axis=1),df_dummy],axis=1)\n",
        "    return df\n",
        "\n",
        "# 項目「月」「季節」をone hot encodingする\n",
        "\n",
        "x2 = x.copy()\n",
        "x2 = enc(x2, '月')\n",
        "x2 = enc(x2, '季節')\n",
        "\n",
        "# 結果確認\n",
        "display(x2.head())"
      ]
    },
    {
      "cell_type": "code",
      "execution_count": null,
      "metadata": {
        "id": "RLLpeCxtQX1t"
      },
      "outputs": [],
      "source": [
        "# 登録利用者モデル(チューニング後)\n",
        "\n",
        "# mdayを基準に入力データを分割\n",
        "x2_train = x2[train_index]\n",
        "x2_test = x2[test_index]\n",
        "\n",
        "#　アルゴリズム選定\n",
        "algorithm2 = XGBRegressor(objective ='reg:squarederror',\n",
        "    random_state=random_seed)\n",
        "\n",
        "# 学習\n",
        "algorithm2.fit(x2_train, y_train)\n",
        "\n",
        "# 予測\n",
        "y_pred2 = algorithm2.predict(x2_test)\n",
        "\n",
        "# 予測結果確認\n",
        "print(y_pred2[:5])"
      ]
    },
    {
      "cell_type": "code",
      "execution_count": null,
      "metadata": {
        "id": "rOdYliVLQX1v"
      },
      "outputs": [],
      "source": [
        "# 評価(登録利用者) (チューニング後)\n",
        "\n",
        "# score関数の呼び出し\n",
        "score2 = algorithm2.score(x2_test, y_test)\n",
        "\n",
        "# 結果確認\n",
        "print(f'score: {score2:.4f}')"
      ]
    },
    {
      "cell_type": "code",
      "execution_count": null,
      "metadata": {
        "id": "1Bg0SozuQX1x"
      },
      "outputs": [],
      "source": [
        "#正解データと予測結果を散布図で比較 (登録利用者)\n",
        "plt.figure(figsize=(6,6))\n",
        "y_max = y_test.max()\n",
        "plt.plot((0,y_max), (0, y_max), c='k')\n",
        "plt.scatter(y_test, y_pred2, c='b')\n",
        "plt.title(f'正解データと予測結果の散布図(登録ユーザー利用数) R2={score2:.4f}')\n",
        "plt.grid()\n",
        "plt.show()"
      ]
    },
    {
      "cell_type": "code",
      "execution_count": null,
      "metadata": {
        "id": "G3Qw1jISQX1z"
      },
      "outputs": [],
      "source": [
        "# 時系列グラフの描画 (チューニング後 登録ユーザー利用数)\n",
        "import matplotlib.dates as mdates\n",
        "fig, ax = plt.subplots(figsize=(8, 4))\n",
        "\n",
        "# グラフ描画\n",
        "ax.plot(dates_test, y_test, label='正解データ', c='k')\n",
        "ax.plot(dates_test, y_pred, label='予測結果1', c='c')\n",
        "ax.plot(dates_test, y_pred2, label='予測結果2', c='b')\n",
        "\n",
        "# 日付目盛間隔\n",
        "weeks = mdates.WeekdayLocator(byweekday=mdates.TH)\n",
        "ax.xaxis.set_major_locator(weeks)\n",
        "\n",
        "# 日付書式\n",
        "ax.tick_params(axis='x', rotation=90)\n",
        "\n",
        "# 方眼表示など\n",
        "ax.grid()\n",
        "ax.legend()\n",
        "ax.set_title('登録ユーザー利用数予測')\n",
        "\n",
        "# 画面出力\n",
        "plt.show()"
      ]
    },
    {
      "cell_type": "markdown",
      "metadata": {
        "id": "-xw0CiQwQX11"
      },
      "source": [
        "### 5.2.10 重要度分析"
      ]
    },
    {
      "cell_type": "code",
      "execution_count": null,
      "metadata": {
        "id": "7sXNO5ayQX11"
      },
      "outputs": [],
      "source": [
        "# 登録ユーザー利用数に対する重要度分析\n",
        "import xgboost as xgb\n",
        "fig, ax = plt.subplots(figsize=(8, 4))\n",
        "xgb.plot_importance(algorithm, ax=ax, height=0.8,\n",
        "    importance_type='gain', show_values=False,\n",
        "    title='重要度分析(登録ユーザー利用数)')\n",
        "plt.show()"
      ]
    },
    {
      "cell_type": "markdown",
      "source": [
        "### バージョン確認"
      ],
      "metadata": {
        "id": "cSSqfttVrJFL"
      }
    },
    {
      "cell_type": "code",
      "execution_count": null,
      "metadata": {
        "id": "s70iFjkzQX13"
      },
      "outputs": [],
      "source": [
        "!pip install watermark | tail -n 1\n",
        "%load_ext watermark\n",
        "%watermark --iversions"
      ]
    }
  ],
  "metadata": {
    "colab": {
      "provenance": [],
      "toc_visible": true
    },
    "kernelspec": {
      "display_name": "Python 3",
      "language": "python",
      "name": "python3"
    },
    "language_info": {
      "codemirror_mode": {
        "name": "ipython",
        "version": 3
      },
      "file_extension": ".py",
      "mimetype": "text/x-python",
      "name": "python",
      "nbconvert_exporter": "python",
      "pygments_lexer": "ipython3",
      "version": "3.7.6"
    }
  },
  "nbformat": 4,
  "nbformat_minor": 0
}