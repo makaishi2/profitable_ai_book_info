{
  "cells": [
    {
      "cell_type": "markdown",
      "metadata": {
        "id": "vI0fsjVO6AFQ"
      },
      "source": [
        "## 4.5 チューニング"
      ]
    },
    {
      "cell_type": "markdown",
      "metadata": {
        "id": "3IGVWl9A6AFR"
      },
      "source": [
        "### 共通事前処理"
      ]
    },
    {
      "cell_type": "code",
      "execution_count": null,
      "metadata": {
        "id": "RkN4gWtSy1om"
      },
      "outputs": [],
      "source": [
        "# 結果を紙面とそろえるためバージョンを下げる\n",
        "!pip install xgboost==0.90 | tail -n 1"
      ]
    },
    {
      "cell_type": "code",
      "execution_count": null,
      "metadata": {
        "id": "Xv0-8jNly1on"
      },
      "outputs": [],
      "source": [
        "# モデルのprint時に全てのパラメータを表示するよう設定を変更\n",
        "from sklearn import set_config\n",
        "set_config(print_changed_only=False)"
      ]
    },
    {
      "cell_type": "code",
      "execution_count": null,
      "metadata": {
        "id": "UgT4X9sQ6AFR"
      },
      "outputs": [],
      "source": [
        "# 日本語化ライブラリ導入\n",
        "!pip install japanize-matplotlib | tail -n 1"
      ]
    },
    {
      "cell_type": "code",
      "execution_count": null,
      "metadata": {
        "id": "fz7RoOHl6AFV"
      },
      "outputs": [],
      "source": [
        "# 共通事前処理\n",
        "\n",
        "# 余分なワーニングを非表示にする\n",
        "import warnings\n",
        "warnings.filterwarnings('ignore')\n",
        "\n",
        "# 必要ライブラリのimport\n",
        "import pandas as pd\n",
        "import numpy as np\n",
        "import matplotlib.pyplot as plt\n",
        "\n",
        "# matplotlib日本語化対応\n",
        "import japanize_matplotlib\n",
        "\n",
        "# データフレーム表示用関数\n",
        "from IPython.display import display\n",
        "\n",
        "# 表示オプション調整\n",
        "# numpyの浮動小数点の表示精度\n",
        "np.set_printoptions(suppress=True, precision=4)\n",
        "# pandasでの浮動小数点の表示精度\n",
        "pd.options.display.float_format = '{:.4f}'.format\n",
        "# データフレームですべての項目を表示\n",
        "pd.set_option(\"display.max_columns\",None)\n",
        "# グラフのデフォルトフォント指定\n",
        "plt.rcParams[\"font.size\"] = 14\n",
        "# 乱数の種\n",
        "random_seed = 123"
      ]
    },
    {
      "cell_type": "markdown",
      "metadata": {
        "id": "cY824oLy6AFX"
      },
      "source": [
        "#### サンプルデータの読み込み"
      ]
    },
    {
      "cell_type": "code",
      "execution_count": null,
      "metadata": {
        "id": "cigL7Rf96AFY",
        "scrolled": true
      },
      "outputs": [],
      "source": [
        "# サンプルデータの読み込み\n",
        "# (乳がん疾患データ)\n",
        "\n",
        "# データのロード\n",
        "from sklearn.datasets import load_breast_cancer\n",
        "cancer = load_breast_cancer()\n",
        "\n",
        "# 入力データ: x (30次元)\n",
        "# 正解データ: y\n",
        "x = cancer.data\n",
        "y = cancer.target"
      ]
    },
    {
      "cell_type": "code",
      "execution_count": null,
      "metadata": {
        "id": "xxmA-i9u6AFa"
      },
      "outputs": [],
      "source": [
        "# サンプルデータの分割\n",
        "\n",
        "# データ分割のパラメータ\n",
        "test_size = 0.1\n",
        "\n",
        "# データ分割\n",
        "from sklearn.model_selection import train_test_split\n",
        "x_train, x_test, y_train, y_test = train_test_split(x, y,\n",
        "    test_size=test_size, random_state=random_seed,\n",
        "    stratify=y)\n",
        "\n",
        "# 分割後サイズ確認\n",
        "print(x.shape)\n",
        "print(x_train.shape)\n",
        "print(x_test.shape)"
      ]
    },
    {
      "cell_type": "markdown",
      "metadata": {
        "id": "d_QjsrYy6AFc"
      },
      "source": [
        "### 4.5.1 アルゴリズムの選択"
      ]
    },
    {
      "cell_type": "code",
      "execution_count": null,
      "metadata": {
        "id": "YyUICaYY6AFe"
      },
      "outputs": [],
      "source": [
        "# 複数アルゴリズムで精度を比較\n",
        "# 結果が同じになるようrandom_stateは同一にする\n",
        "\n",
        "# 線形回帰\n",
        "from sklearn.linear_model import LogisticRegression\n",
        "algorithm1 = LogisticRegression(random_state=random_seed)\n",
        "\n",
        "# サポートベクターマシン(カーネル)\n",
        "from sklearn.svm import SVC\n",
        "algorithm2 = SVC(kernel='rbf', random_state=random_seed)\n",
        "\n",
        "# 決定木\n",
        "from sklearn.tree import DecisionTreeClassifier\n",
        "algorithm3 = DecisionTreeClassifier(random_state=random_seed)\n",
        "\n",
        "# ランダムフォレスト\n",
        "from sklearn.ensemble import RandomForestClassifier\n",
        "algorithm4 = RandomForestClassifier(random_state=random_seed)\n",
        "\n",
        "# XGBoost\n",
        "from xgboost import XGBClassifier\n",
        "algorithm5 = XGBClassifier(random_state=random_seed)\n",
        "\n",
        "# アルゴリズムのリスト作成\n",
        "algorithms = [algorithm1, algorithm2, algorithm3, algorithm4,\n",
        "    algorithm5]"
      ]
    },
    {
      "cell_type": "code",
      "execution_count": null,
      "metadata": {
        "id": "pYNYBRO26AFg"
      },
      "outputs": [],
      "source": [
        "# 複数アルゴリズムで精度比較\n",
        "for algorithm in algorithms:\n",
        "\n",
        "    # 訓練データで学習\n",
        "    algorithm.fit(x_train, y_train)\n",
        "\n",
        "    # 検証データで精度測定\n",
        "    score = algorithm.score(x_test, y_test)\n",
        "\n",
        "    # アルゴリズム名取得\n",
        "    name = algorithm.__class__.__name__\n",
        "\n",
        "    # 精度とアルゴリズム名表示\n",
        "    print(f'score: {score:.4f}  {name}')"
      ]
    },
    {
      "cell_type": "markdown",
      "metadata": {
        "id": "6RSvFAdJ6AFi"
      },
      "source": [
        "### 4.5.2 ハイパーパラメータの最適化"
      ]
    },
    {
      "cell_type": "code",
      "execution_count": null,
      "metadata": {
        "id": "EPRlb_QU6AFj"
      },
      "outputs": [],
      "source": [
        "# デフォルトパラメータの確認\n",
        "algorithm = SVC(kernel='rbf', random_state=random_seed)\n",
        "print(algorithm)"
      ]
    },
    {
      "cell_type": "code",
      "execution_count": null,
      "metadata": {
        "id": "BLjgd4gK6AFl"
      },
      "outputs": [],
      "source": [
        "# gammaの最適化\n",
        "algorithm = SVC(kernel='rbf', random_state=random_seed)\n",
        "gammas = [1, 0.1, 0.01, 0.001, 0.0001, 0.00001]\n",
        "\n",
        "for gamma in gammas:\n",
        "    algorithm.gamma = gamma\n",
        "    algorithm.fit(x_train, y_train)\n",
        "    score = algorithm.score(x_test, y_test)\n",
        "    print(f'score: {score:.4f}  gamma: {gamma}')"
      ]
    },
    {
      "cell_type": "code",
      "execution_count": null,
      "metadata": {
        "id": "uGDQaEq96AFn"
      },
      "outputs": [],
      "source": [
        "# Cの最適化\n",
        "# gammaは先ほど調べた最適値 0.001を採用\n",
        "\n",
        "Cs = [1,  10,  100, 1000, 10000]\n",
        "for C in Cs:\n",
        "    algorithm = SVC(kernel='rbf',\n",
        "        gamma=0.001, C=C,\n",
        "        random_state=random_seed)\n",
        "    algorithm.fit(x_train, y_train)\n",
        "    score = algorithm.score(x_test, y_test)\n",
        "    print(f'score: {score:.4f}  C: {C}')"
      ]
    },
    {
      "cell_type": "markdown",
      "metadata": {
        "id": "9cw678uR6AFp"
      },
      "source": [
        "### 4.5.3 交差検定法"
      ]
    },
    {
      "cell_type": "code",
      "execution_count": null,
      "metadata": {
        "id": "S4CcnHml6AFq"
      },
      "outputs": [],
      "source": [
        "# 特定のアルゴリズムに対して交差検定を実施\n",
        "\n",
        "# アルゴリズムの定義\n",
        "algorithm = SVC(kernel='rbf',random_state=random_seed,\n",
        "    gamma=0.001, C=1)\n",
        "\n",
        "# 分割時に正解データの分布が偏らないようにStratifiedKFoldを利用\n",
        "from sklearn.model_selection import StratifiedKFold\n",
        "stratifiedkfold = StratifiedKFold(n_splits=3)\n",
        "\n",
        "# 交差検定の実施 (分割数=3)\n",
        "from sklearn.model_selection import cross_val_score\n",
        "scores = cross_val_score(algorithm , x_train, y_train,\n",
        "    cv=stratifiedkfold)\n",
        "\n",
        "# 平均値の計算\n",
        "mean = scores.mean()\n",
        "\n",
        "# 結果表示\n",
        "print(f'平均スコア: {mean:.4f}  個別スコア: {scores}')"
      ]
    },
    {
      "cell_type": "code",
      "execution_count": null,
      "metadata": {
        "id": "0WEZL0DF6AFs"
      },
      "outputs": [],
      "source": [
        "# 候補アルゴリズムのリスト作成\n",
        "\n",
        "from sklearn.linear_model import LogisticRegression\n",
        "algorithm1 = LogisticRegression(random_state=random_seed)\n",
        "\n",
        "from sklearn.svm import SVC\n",
        "algorithm2 = SVC(kernel='rbf',random_state=random_seed,\n",
        "    gamma=0.001, C=1)\n",
        "\n",
        "from sklearn.tree import DecisionTreeClassifier\n",
        "algorithm3 = DecisionTreeClassifier(random_state=random_seed)\n",
        "\n",
        "from sklearn.ensemble import RandomForestClassifier\n",
        "algorithm4 = RandomForestClassifier(random_state=random_seed)\n",
        "\n",
        "from xgboost import XGBClassifier\n",
        "algorithm5 = XGBClassifier(random_state=random_seed)\n",
        "\n",
        "algorithms = [algorithm1, algorithm2, algorithm3, algorithm4,\n",
        "    algorithm5]"
      ]
    },
    {
      "cell_type": "code",
      "execution_count": null,
      "metadata": {
        "id": "8PP4Yrca6AFu"
      },
      "outputs": [],
      "source": [
        "# 複数アルゴリズムで精度を比較\n",
        "\n",
        "# 分割時に正解データの分布が偏らないようにStratifiedKFoldを利用\n",
        "from sklearn.model_selection import StratifiedKFold\n",
        "stratifiedkfold = StratifiedKFold(n_splits=3)\n",
        "\n",
        "from sklearn.model_selection import cross_val_score\n",
        "for algorithm in algorithms:\n",
        "    # 交差検定法の実行\n",
        "    scores = cross_val_score(algorithm , x_train, y_train,\n",
        "        cv=stratifiedkfold)\n",
        "    score = scores.mean()\n",
        "    name = algorithm.__class__.__name__\n",
        "    print(f'平均スコア: {score:.4f}  個別スコア: {scores}  {name}')"
      ]
    },
    {
      "cell_type": "markdown",
      "metadata": {
        "id": "9hAdccB46AFw"
      },
      "source": [
        "### 4.5.4 グリッドサーチ"
      ]
    },
    {
      "cell_type": "code",
      "execution_count": null,
      "metadata": {
        "id": "mRqBCMWY6AFx"
      },
      "outputs": [],
      "source": [
        "# グリッドサーチを交差検定を組み合わせて最適なパラメータを探索\n",
        "params = {\n",
        "      'C':[1, 10, 100, 1000, 10000],\n",
        "      'gamma':[1, 0.1, 0.01, 0.001, 0.0001, 0.00001]\n",
        "}\n",
        "algorithm = SVC(random_state=random_seed)\n",
        "\n",
        "from sklearn.model_selection import StratifiedKFold\n",
        "stratifiedkfold = StratifiedKFold(n_splits=3)\n",
        "\n",
        "from sklearn.model_selection import GridSearchCV\n",
        "gs = GridSearchCV(algorithm, params, cv=stratifiedkfold)\n",
        "gs.fit(x_train, y_train)\n",
        "\n",
        "# ベストのモデルを取得し検証データを分類\n",
        "best = gs.best_estimator_\n",
        "best_pred = best.predict(x_test)\n",
        "print(best)"
      ]
    },
    {
      "cell_type": "code",
      "execution_count": null,
      "metadata": {
        "id": "1JGcbbf16AFz"
      },
      "outputs": [],
      "source": [
        "# 精度の取得\n",
        "score = best.score(x_test, y_test)\n",
        "print(f'スコア: {score:.4f}')\n",
        "\n",
        "# 混同行列を出力\n",
        "from sklearn.metrics import confusion_matrix\n",
        "print()\n",
        "print('混同行列')\n",
        "print(confusion_matrix(y_test, best_pred))"
      ]
    },
    {
      "cell_type": "markdown",
      "source": [
        "### バージョン確認"
      ],
      "metadata": {
        "id": "93fcU2iNqkW2"
      }
    },
    {
      "cell_type": "code",
      "execution_count": null,
      "metadata": {
        "id": "XoCkwlvY6AF1"
      },
      "outputs": [],
      "source": [
        "!pip install watermark | tail -n 1\n",
        "%load_ext watermark\n",
        "%watermark --iversions"
      ]
    }
  ],
  "metadata": {
    "colab": {
      "provenance": [],
      "toc_visible": true
    },
    "kernelspec": {
      "display_name": "Python 3",
      "language": "python",
      "name": "python3"
    },
    "language_info": {
      "codemirror_mode": {
        "name": "ipython",
        "version": 3
      },
      "file_extension": ".py",
      "mimetype": "text/x-python",
      "name": "python",
      "nbconvert_exporter": "python",
      "pygments_lexer": "ipython3",
      "version": "3.7.6"
    }
  },
  "nbformat": 4,
  "nbformat_minor": 0
}