{
  "cells": [
    {
      "cell_type": "markdown",
      "metadata": {
        "id": "c3T_vo6GYvFD"
      },
      "source": [
        "## 5.3 季節など周期性で売り上げ予測(時系列分析)"
      ]
    },
    {
      "cell_type": "markdown",
      "metadata": {
        "id": "ZO7cPPEWaA2u"
      },
      "source": [
        "### 共通事前準備"
      ]
    },
    {
      "cell_type": "code",
      "execution_count": null,
      "metadata": {
        "id": "uOs6nswAbY9n"
      },
      "outputs": [],
      "source": [
        "# 日本語化ライブラリ導入\n",
        "!pip install japanize-matplotlib | tail -n 1"
      ]
    },
    {
      "cell_type": "code",
      "execution_count": null,
      "metadata": {
        "id": "7qgmy1x_gez9"
      },
      "outputs": [],
      "source": [
        "# 共通事前処理\n",
        "\n",
        "# 余分なワーニングを非表示にする\n",
        "import warnings\n",
        "warnings.filterwarnings('ignore')\n",
        "\n",
        "# 必要ライブラリのimport\n",
        "import pandas as pd\n",
        "import numpy as np\n",
        "import matplotlib.pyplot as plt\n",
        "\n",
        "# matplotlib日本語化対応\n",
        "import japanize_matplotlib\n",
        "\n",
        "# データフレーム表示用関数\n",
        "from IPython.display import display\n",
        "\n",
        "# 表示オプション調整\n",
        "# numpyの浮動小数点の表示精度\n",
        "np.set_printoptions(suppress=True, precision=4)\n",
        "\n",
        "# pandasでの浮動小数点の表示精度\n",
        "pd.options.display.float_format = '{:.4f}'.format\n",
        "\n",
        "# データフレームですべての項目を表示\n",
        "pd.set_option(\"display.max_columns\",None)\n",
        "\n",
        "# グラフのデフォルトフォント指定\n",
        "plt.rcParams[\"font.size\"] = 14\n",
        "\n",
        "# 乱数の種\n",
        "random_seed = 123"
      ]
    },
    {
      "cell_type": "markdown",
      "metadata": {
        "id": "rFsr2f59bY9t"
      },
      "source": [
        "オリジナルURL   \n",
        "https://archive.ics.uci.edu/ml/datasets/bike+sharing+dataset"
      ]
    },
    {
      "cell_type": "markdown",
      "metadata": {
        "id": "BxV4nTzNbY9t"
      },
      "source": [
        "#### データ項目メモ\n",
        "\n",
        "instant インデックス  \n",
        "dteday 日付(yy-mm-dd)  \n",
        "season 季節 (1: 冬 2: 春 3: 夏 4:秋)  \n",
        "yr 年 (0: 2011, 1:2012)  \n",
        "mnth 月  (1 - 12)  \n",
        "hr 時間  (0 - 23)  \n",
        "holiday 祝日  \n",
        "weekday 曜日 (0 - 6)  \n",
        "workingday  勤務日 (1: 勤務日 0: 休日)  \n",
        "weathersit 天気 (1: 晴れから曇り 2: 霧 3: 小雨 4: 大雨)  \n",
        "temp 気温 (正規化済み)  \n",
        "atemp 体感気温 (正規化済み)  \n",
        "hum 湿度 (正規化済み)  \n",
        "windspeed 風速 (正規化済み)  \n",
        "casual 臨時ユーザー利用数  \n",
        "registered 登録ユーザー利用数  \n",
        "cnt 全体ユーザー利用数  "
      ]
    },
    {
      "cell_type": "markdown",
      "metadata": {
        "id": "HMptNeWrbY9t"
      },
      "source": [
        "### 5.3.4 データ読み込みからデータ確認まで"
      ]
    },
    {
      "cell_type": "markdown",
      "metadata": {
        "id": "8_OCPaWVge0B"
      },
      "source": [
        "#### データ読み込み"
      ]
    },
    {
      "cell_type": "code",
      "execution_count": null,
      "metadata": {
        "id": "yIg1xgb-bY9u"
      },
      "outputs": [],
      "source": [
        "# ダウンロード元URL\n",
        "url = 'https://archive.ics.uci.edu/ml/\\\n",
        "machine-learning-databases/00275/\\\n",
        "Bike-Sharing-Dataset.zip'\n",
        "\n",
        "# 公開データのダウンロードと解凍\n",
        "!wget $url -O Bike-Sharing-Dataset.zip | tail -n 1\n",
        "!unzip -o Bike-Sharing-Dataset.zip | tail -n 1"
      ]
    },
    {
      "cell_type": "code",
      "execution_count": null,
      "metadata": {
        "id": "Ln2UK2cxge0C"
      },
      "outputs": [],
      "source": [
        "# day.csvをデータフレームに取り込み\n",
        "# 日付を表す列はparse_datesで指定する\n",
        "df = pd.read_csv('day.csv', parse_dates=[1])"
      ]
    },
    {
      "cell_type": "code",
      "execution_count": null,
      "metadata": {
        "id": "t5vqXbzmge0F"
      },
      "outputs": [],
      "source": [
        "# instant は連番で予測で不要なので削除\n",
        "df = df.drop('instant', axis=1)\n",
        "\n",
        "# 項目名の日本語化\n",
        "\n",
        "columns = [\n",
        "    '日付',  '季節',  '年', '月', '祝日', '曜日', '勤務日', '天気',\n",
        "    '気温', '体感温度',  '湿度', '風速',\n",
        "    '臨時ユーザー利用数', '登録ユーザー利用数', '全体ユーザー利用数'\n",
        "]\n",
        "\n",
        "# 項目名を日本語に置き換え\n",
        "df.columns = columns"
      ]
    },
    {
      "cell_type": "markdown",
      "metadata": {
        "id": "mtZrRFuAbY91"
      },
      "source": [
        "#### データ確認"
      ]
    },
    {
      "cell_type": "code",
      "execution_count": null,
      "metadata": {
        "id": "ZmEd-65Rge0I",
        "scrolled": false
      },
      "outputs": [],
      "source": [
        "# 先頭5行の確認\n",
        "display(df.head())\n",
        "\n",
        "# 最終5行の確認\n",
        "display(df.tail())"
      ]
    },
    {
      "cell_type": "markdown",
      "metadata": {
        "id": "DGzl1rb4bY94"
      },
      "source": [
        "### 5.3.5 データ前処理とデータ分割"
      ]
    },
    {
      "cell_type": "markdown",
      "metadata": {
        "id": "TjD_sEDtbY94"
      },
      "source": [
        "#### データ前処理\n",
        "Prophet用に列名を置き換える"
      ]
    },
    {
      "cell_type": "code",
      "execution_count": null,
      "metadata": {
        "id": "Jlm4J8gSbY95"
      },
      "outputs": [],
      "source": [
        "# 「日付」と「登録ユーザー利用数」のみ抽出し、\n",
        "# 列名を日付:ds 、登録ユーザー利用数:y に置き換えたデータフレームdf2を作る\n",
        "\n",
        "# データフレーム全体のコピー\n",
        "df2 = df.copy()\n",
        "\n",
        "# 「日付」「登録ユーザー利用数」列の抽出\n",
        "df2 = df2[['日付', '登録ユーザー利用数']]\n",
        "\n",
        "# 列名の置き換え\n",
        "df2.columns = ['ds', 'y']\n",
        "\n",
        "# 結果確認\n",
        "display(df2.head())"
      ]
    },
    {
      "cell_type": "markdown",
      "metadata": {
        "id": "WmzWhLS8bY97"
      },
      "source": [
        "#### データ分割\n",
        "2012年11月1日より前を訓練データ(x_train)に、後ろを検証データ(x_test)にする"
      ]
    },
    {
      "cell_type": "code",
      "execution_count": null,
      "metadata": {
        "id": "vohq0EA-bY97"
      },
      "outputs": [],
      "source": [
        "# 分割日 mdayの設定\n",
        "mday = pd.to_datetime('2012-11-1')\n",
        "\n",
        "# 訓練用indexと検証用indexを作る\n",
        "train_index = df2['ds'] < mday\n",
        "test_index = df2['ds'] >= mday\n",
        "\n",
        "# 入力データの分割\n",
        "x_train = df2[train_index]\n",
        "x_test = df2[test_index]\n",
        "\n",
        "# 日付データの分割(グラフ表示用)\n",
        "dates_test = df2['ds'][test_index]"
      ]
    },
    {
      "cell_type": "markdown",
      "metadata": {
        "id": "y67jXLzBbY99"
      },
      "source": [
        "### 5.3.6 アルゴリズム選定"
      ]
    },
    {
      "cell_type": "markdown",
      "metadata": {
        "id": "cY7lGUrbbY99"
      },
      "source": [
        "#### アルゴリズム選定"
      ]
    },
    {
      "cell_type": "code",
      "execution_count": null,
      "metadata": {
        "id": "Qz0PCJYSge0b"
      },
      "outputs": [],
      "source": [
        "# ライブラリのimport\n",
        "from prophet import Prophet\n",
        "\n",
        "# モデル選定\n",
        "# 3つのseasonalityパラメータの設定が重要\n",
        "# 今回のデータの場合、日単位のデータなのでdaily_seasonalityは不要\n",
        "# weekly_seasonality とdaily_seasonalityは\n",
        "# True / Falseの他に数値で指定することも可能 (三角関数の個数)\n",
        "# seasonality_mode: additive(デフォルト) multiplicative\n",
        "\n",
        "m1 = Prophet(yearly_seasonality=True, weekly_seasonality=True,\n",
        "    daily_seasonality=False,\n",
        "    seasonality_mode='multiplicative')"
      ]
    },
    {
      "cell_type": "markdown",
      "metadata": {
        "id": "JUmNdUqfbY-A"
      },
      "source": [
        "### 5.3.7 学習・予測"
      ]
    },
    {
      "cell_type": "markdown",
      "metadata": {
        "id": "I7gcIX7AbY-A"
      },
      "source": [
        "#### 学習"
      ]
    },
    {
      "cell_type": "code",
      "execution_count": null,
      "metadata": {
        "id": "mPY8BfZCbY-A"
      },
      "outputs": [],
      "source": [
        "# 学習\n",
        "m1.fit(x_train)"
      ]
    },
    {
      "cell_type": "markdown",
      "metadata": {
        "id": "bugmCk5RbY-C"
      },
      "source": [
        "#### 予測"
      ]
    },
    {
      "cell_type": "code",
      "execution_count": null,
      "metadata": {
        "id": "WvzpREQsiCu4"
      },
      "outputs": [],
      "source": [
        "# 予測用データの作成\n",
        "# (日付 ds だけの入ったデータフレーム)\n",
        "# 61は予測したい日数 (2012-11-1 から2012-12-31)\n",
        "future1 = m1.make_future_dataframe(periods=61, freq='D')\n",
        "\n",
        "# 結果確認\n",
        "display(future1.head())\n",
        "display(future1.tail())"
      ]
    },
    {
      "cell_type": "code",
      "execution_count": null,
      "metadata": {
        "id": "pjYTY12DiC32"
      },
      "outputs": [],
      "source": [
        "# 予測\n",
        "# 結果はデータフレームで戻ってくる\n",
        "fcst1 = m1.predict(future1)"
      ]
    },
    {
      "cell_type": "markdown",
      "metadata": {
        "id": "GgtjJNFXbY-I"
      },
      "source": [
        "### 5.3.8 評価"
      ]
    },
    {
      "cell_type": "code",
      "execution_count": null,
      "metadata": {
        "id": "o5ec92r9iC_A"
      },
      "outputs": [],
      "source": [
        "# 要素ごとのグラフ描画\n",
        "# この段階ではトレンド、週周期、年周期\n",
        "fig = m1.plot_components(fcst1)\n",
        "plt.show()"
      ]
    },
    {
      "cell_type": "markdown",
      "metadata": {
        "id": "-s8zjolXbY-K"
      },
      "source": [
        "#### 訓練データ・検証データ全体のグラフ化"
      ]
    },
    {
      "cell_type": "code",
      "execution_count": null,
      "metadata": {
        "id": "ZSsNzEOVO1iO"
      },
      "outputs": [],
      "source": [
        "# 訓練データ・検証データ全体のグラフ化\n",
        "fig, ax = plt.subplots(figsize=(10,6))\n",
        "\n",
        "# 予測結果のグラフ表示(prophetの関数)\n",
        "m1.plot(fcst1, ax=ax)\n",
        "\n",
        "# タイトル設定など\n",
        "ax.set_title('登録ユーザー利用数予測')\n",
        "ax.set_xlabel('日付')\n",
        "ax.set_ylabel('利用数')\n",
        "\n",
        "# グラフ表示\n",
        "plt.show()"
      ]
    },
    {
      "cell_type": "markdown",
      "metadata": {
        "id": "590Hf3pfbY-N"
      },
      "source": [
        "#### R2値の計算"
      ]
    },
    {
      "cell_type": "code",
      "execution_count": null,
      "metadata": {
        "id": "NAZiYWU0ge0i",
        "scrolled": true
      },
      "outputs": [],
      "source": [
        "# ypred1: fcst1から予測部分のみ抽出する\n",
        "ypred1 = fcst1[-61:][['yhat']].values\n",
        "\n",
        "# ytest1: 予測期間中の正解データ\n",
        "ytest1 = x_test['y'].values\n",
        "\n",
        "# R2値の計算\n",
        "from sklearn.metrics import r2_score\n",
        "score = r2_score(ytest1, ypred1)\n",
        "\n",
        "# 結果確認\n",
        "print(f'R2 score:{score:.4f}')"
      ]
    },
    {
      "cell_type": "markdown",
      "metadata": {
        "id": "AjDBnhJKbY-Q"
      },
      "source": [
        "#### 予測期間中のグラフ表示(正解データと予測結果)"
      ]
    },
    {
      "cell_type": "code",
      "execution_count": null,
      "metadata": {
        "id": "Wp3jowIdj4ea"
      },
      "outputs": [],
      "source": [
        "# 時系列グラフの描画\n",
        "import matplotlib.dates as mdates\n",
        "fig, ax = plt.subplots(figsize=(8, 4))\n",
        "\n",
        "# グラフ描画\n",
        "ax.plot(dates_test, ytest1, label='正解データ', c='k')\n",
        "ax.plot(dates_test, ypred1, label='予測結果', c='b')\n",
        "\n",
        "# 日付目盛間隔\n",
        "# 木曜日ごとに日付を表示\n",
        "weeks = mdates.WeekdayLocator(byweekday=mdates.TH)\n",
        "ax.xaxis.set_major_locator(weeks)\n",
        "\n",
        "# 日付表記を90度回転\n",
        "ax.tick_params(axis='x', rotation=90)\n",
        "\n",
        "# 方眼表示など\n",
        "ax.grid()\n",
        "ax.legend()\n",
        "ax.set_title('登録ユーザー利用数予測結果')\n",
        "\n",
        "# 画面出力\n",
        "plt.show()"
      ]
    },
    {
      "cell_type": "markdown",
      "metadata": {
        "id": "xX602gIkmE6H"
      },
      "source": [
        "### チューニング方針\n",
        "\n",
        "* ステップ1 「休日」を特別な日として追加  \n",
        "* ステップ2 回帰モデルに「天気」「気温」「風速」「湿度」を追加\n"
      ]
    },
    {
      "cell_type": "markdown",
      "metadata": {
        "id": "i2rAP825bY-T"
      },
      "source": [
        "### 5.3.9 チューニング (ステップ1)"
      ]
    },
    {
      "cell_type": "markdown",
      "metadata": {
        "id": "Ey34aEoVbY-T"
      },
      "source": [
        "#### ステップ1\n",
        "「休日」を特別な日 (holidays)として追加"
      ]
    },
    {
      "cell_type": "code",
      "execution_count": null,
      "metadata": {
        "id": "n7VBQeYrI5gf"
      },
      "outputs": [],
      "source": [
        "# 休日の抽出\n",
        "df_holiday = df[df['祝日']==1]\n",
        "holidays = df_holiday['日付'].values\n",
        "\n",
        "# データフレーム形式に変換\n",
        "df_add = pd.DataFrame({'holiday': 'holi',\n",
        "    'ds': holidays,\n",
        "    'lower_window': 0,\n",
        "    'upper_window': 0\n",
        "})\n",
        "\n",
        "# 結果確認\n",
        "display(df_add.head())\n",
        "display(df_add.tail())"
      ]
    },
    {
      "cell_type": "code",
      "execution_count": null,
      "metadata": {
        "id": "vGBQjiaFI5gz"
      },
      "outputs": [],
      "source": [
        "# 休日(df_add)をモデルの入力とする\n",
        "\n",
        "# アルゴリズム選定\n",
        "# holidaysパラメータを追加してモデルm2を生成\n",
        "m2 = Prophet(yearly_seasonality=True,\n",
        "    weekly_seasonality=True, daily_seasonality=False,\n",
        "    holidays = df_add, seasonality_mode='multiplicative')\n",
        "\n",
        "# 学習\n",
        "m2 = m2.fit(x_train)\n",
        "\n",
        "# 予測\n",
        "fcst2 = m2.predict(future1)"
      ]
    },
    {
      "cell_type": "markdown",
      "metadata": {
        "id": "CBn5MfdEfpou"
      },
      "source": [
        "#### ステップ1の評価"
      ]
    },
    {
      "cell_type": "code",
      "execution_count": null,
      "metadata": {
        "id": "q0aXY5oSI5g7"
      },
      "outputs": [],
      "source": [
        "# 要素ごとのグラフ描画\n",
        "fig = m2.plot_components(fcst2)\n",
        "plt.show()"
      ]
    },
    {
      "cell_type": "code",
      "execution_count": null,
      "metadata": {
        "id": "IYcMzQoMI5hB"
      },
      "outputs": [],
      "source": [
        "# R値の計算\n",
        "\n",
        "# fcst2から予測部分のみ抽出する\n",
        "ypred2 = fcst2[-61:][['yhat']].values\n",
        "\n",
        "# R2値の計算\n",
        "score2 = r2_score(ytest1, ypred2)\n",
        "\n",
        "# 結果確認\n",
        "r2_text2 = f'R2 score:{score2:.4f}'\n",
        "print(r2_text2)"
      ]
    },
    {
      "cell_type": "code",
      "execution_count": null,
      "metadata": {
        "id": "5UoWVfULbY-d"
      },
      "outputs": [],
      "source": [
        "# 時系列グラフの描画\n",
        "import matplotlib.dates as mdates\n",
        "fig, ax = plt.subplots(figsize=(8, 4))\n",
        "\n",
        "# グラフ描画\n",
        "ax.plot(dates_test, ytest1, label='正解データ', c='k')\n",
        "ax.plot(dates_test, ypred1, label='予測結果v1', c='c')\n",
        "ax.plot(dates_test, ypred2, label='予測結果v2', c='b')\n",
        "\n",
        "# 日付目盛間隔\n",
        "# 木曜日ごとに日付を表示\n",
        "weeks = mdates.WeekdayLocator(byweekday=mdates.TH)\n",
        "ax.xaxis.set_major_locator(weeks)\n",
        "\n",
        "# 日付表記を90度回転\n",
        "ax.tick_params(axis='x', rotation=90)\n",
        "\n",
        "# 開始日と終了日\n",
        "sday = pd.to_datetime('2012-11-1')\n",
        "eday = pd.to_datetime('2013-1-1')\n",
        "ax.set_xlim(sday, eday)\n",
        "\n",
        "# 方眼表示など\n",
        "ax.grid()\n",
        "ax.legend()\n",
        "ax.set_title('登録ユーザー利用数予測結果  ' + r2_text2)\n",
        "\n",
        "# 画面出力\n",
        "plt.show()"
      ]
    },
    {
      "cell_type": "markdown",
      "metadata": {
        "id": "-eo9Poylf_DA"
      },
      "source": [
        "### 5.3.10 チューニング (ステップ2)\n",
        "「天気」「気温」「風速」「湿度」を予測モデルに組み込む"
      ]
    },
    {
      "cell_type": "code",
      "execution_count": null,
      "metadata": {
        "id": "aR3VF8YnbY-g"
      },
      "outputs": [],
      "source": [
        "# 学習データに「天気」「気温」「風速」「湿度」を追加\n",
        "df3 = pd.concat([df2, df[['天気', '気温', '風速', '湿度']]], axis=1)\n",
        "\n",
        "# 入力データの分割\n",
        "x2_train = df3[train_index]\n",
        "x2_test = df3[test_index]\n",
        "\n",
        "# 結果確認\n",
        "display(x2_train.tail())"
      ]
    },
    {
      "cell_type": "code",
      "execution_count": null,
      "metadata": {
        "id": "wVxwXo88OT30"
      },
      "outputs": [],
      "source": [
        "# アルゴリズム選定\n",
        "\n",
        "m3 = Prophet(yearly_seasonality=True,\n",
        "    weekly_seasonality=True, daily_seasonality=False,\n",
        "    seasonality_mode='multiplicative', holidays = df_add)\n",
        "\n",
        "#  add_regressor関数で、「天気」「気温」「風速」「湿度」をモデルに組み込む\n",
        "m3.add_regressor('天気')\n",
        "m3.add_regressor('気温')\n",
        "m3.add_regressor('風速')\n",
        "m3.add_regressor('湿度')\n",
        "\n",
        "# 学習\n",
        "m3.fit(x2_train)"
      ]
    },
    {
      "cell_type": "code",
      "execution_count": null,
      "metadata": {
        "id": "0IZYQimTbY-k"
      },
      "outputs": [],
      "source": [
        "# 予測用の入力データを作る\n",
        "future3 = df3[['ds', '天気', '気温', '風速', '湿度']]\n",
        "\n",
        "# 予測\n",
        "fcst3 = m3.predict(future3)"
      ]
    },
    {
      "cell_type": "code",
      "execution_count": null,
      "metadata": {
        "id": "Wf6UcyL9O1VM"
      },
      "outputs": [],
      "source": [
        "### ステップ2の評価"
      ]
    },
    {
      "cell_type": "code",
      "execution_count": null,
      "metadata": {
        "id": "UWDQJ6ILQHZJ",
        "scrolled": false
      },
      "outputs": [],
      "source": [
        "# 要素ごとのグラフ描画\n",
        "fig = m3.plot_components(fcst3)\n",
        "plt.show()"
      ]
    },
    {
      "cell_type": "code",
      "execution_count": null,
      "metadata": {
        "id": "Td_bvYYKnILS"
      },
      "outputs": [],
      "source": [
        "# R値の計算\n",
        "\n",
        "# fcstから予測部分のみ抽出する\n",
        "ypred3 = fcst3[-61:][['yhat']].values\n",
        "score3 = r2_score(ytest1, ypred3)\n",
        "\n",
        "# 結果確認\n",
        "r2_text3 = f'R2 score:{score3:.4f}'\n",
        "print(r2_text3)"
      ]
    },
    {
      "cell_type": "code",
      "execution_count": null,
      "metadata": {
        "id": "nc5sT4zhbY-r"
      },
      "outputs": [],
      "source": [
        "# 時系列グラフの描画\n",
        "import matplotlib.dates as mdates\n",
        "fig, ax = plt.subplots(figsize=(8, 4))\n",
        "\n",
        "# グラフ描画\n",
        "ax.plot(dates_test, ytest1, label='正解データ', c='k')\n",
        "ax.plot(dates_test, ypred2, label='予測結果v2', c='c')\n",
        "ax.plot(dates_test, ypred3, label='予測結果v3', c='b')\n",
        "\n",
        "# 日付目盛間隔\n",
        "# 木曜日ごとに日付を表示\n",
        "weeks = mdates.WeekdayLocator(byweekday=mdates.TH)\n",
        "ax.xaxis.set_major_locator(weeks)\n",
        "\n",
        "# 日付表記を90度回転\n",
        "ax.tick_params(axis='x', rotation=90)\n",
        "\n",
        "# 方眼表示など\n",
        "ax.grid()\n",
        "ax.legend()\n",
        "ax.set_title('登録ユーザー利用数予測結果  ' + r2_text3)\n",
        "\n",
        "# 画面出力\n",
        "plt.show()"
      ]
    },
    {
      "cell_type": "markdown",
      "source": [
        "2022-02-23 補足  \n",
        "紙面ではR2値は0.6181ですが、Prophetのバージョンアップに伴いR2値が0.6196になっていることを確認しています。"
      ],
      "metadata": {
        "id": "SoztFmdx6erf"
      }
    },
    {
      "cell_type": "markdown",
      "metadata": {
        "id": "DuCmbsVagL_j"
      },
      "source": [
        "### コラム アイスクリーム購買予測」で時系列分析"
      ]
    },
    {
      "cell_type": "markdown",
      "metadata": {
        "id": "hUc6jWyHbY-w"
      },
      "source": [
        "#### オリジナルデータ\n",
        "\n",
        "アイスクリーム調査報告書  \n",
        "https://www.icecream.or.jp/biz/data/expenditures.html\n",
        "\n",
        "下記のEXCELは、この報告書の内容を元に起こして作りました。"
      ]
    },
    {
      "cell_type": "code",
      "execution_count": null,
      "metadata": {
        "id": "myXoKWMJbY-x"
      },
      "outputs": [],
      "source": [
        "# データ読み込み\n",
        "url2 = 'https://github.com/makaishi2/\\\n",
        "sample-data/blob/master/data/ice-sales.xlsx?raw=true'\n",
        "\n",
        "df = pd.read_excel(url2, sheet_name=0)"
      ]
    },
    {
      "cell_type": "code",
      "execution_count": null,
      "metadata": {
        "id": "JjsvEPizbY-z"
      },
      "outputs": [],
      "source": [
        "# データ確認\n",
        "display(df.head())\n",
        "display(df.tail())"
      ]
    },
    {
      "cell_type": "code",
      "execution_count": null,
      "metadata": {
        "id": "e5VpukxKbY-1"
      },
      "outputs": [],
      "source": [
        "# 時系列グラフの描画 (アイスクリーム支出金額)\n",
        "fig, ax = plt.subplots(figsize=(12, 4))\n",
        "\n",
        "# グラフ描画\n",
        "ax.plot(df['年月'], df['支出'],c='b')\n",
        "\n",
        "# 3か月区切りの目盛にする\n",
        "month3 = mdates.MonthLocator(interval=3)\n",
        "ax.xaxis.set_major_locator(month3)\n",
        "\n",
        "# 日付表記を90度回転\n",
        "ax.tick_params(axis='x', rotation=90)\n",
        "\n",
        "# 開始日と終了日\n",
        "sday = pd.to_datetime('2015-1-1')\n",
        "eday = pd.to_datetime('2019-12-31')\n",
        "ax.set_xlim(sday, eday)\n",
        "\n",
        "# 方眼表示など\n",
        "ax.grid()\n",
        "ax.set_title('アイスクリーム支出金額')\n",
        "\n",
        "# 画面出力\n",
        "plt.show()"
      ]
    },
    {
      "cell_type": "code",
      "execution_count": null,
      "metadata": {
        "id": "lmj32S9EbY-2"
      },
      "outputs": [],
      "source": [
        "# データ前処理\n",
        "# データ形式をProphet用に合わせる\n",
        "x = df.copy()\n",
        "x.columns = ['ds', 'y']\n",
        "display(x.head())"
      ]
    },
    {
      "cell_type": "code",
      "execution_count": null,
      "metadata": {
        "id": "yOP8KJzwbY-4"
      },
      "outputs": [],
      "source": [
        "# データ分割\n",
        "# 2019年1月を基準に訓練データと検証データを分割\n",
        "# 分割日 mdayの設定\n",
        "mday = pd.to_datetime('2019-1-1')\n",
        "\n",
        "# 訓練用indexと検証用indexを作る\n",
        "train_index = x['ds'] < mday\n",
        "test_index = x['ds'] >= mday\n",
        "\n",
        "# 入力データの分割\n",
        "x_train = x[train_index]\n",
        "x_test = x[test_index]\n",
        "\n",
        "#日付列もグラフ描画のために分割\n",
        "dates_train = x['ds'][train_index]\n",
        "dates_test = x['ds'][test_index]"
      ]
    },
    {
      "cell_type": "code",
      "execution_count": null,
      "metadata": {
        "id": "SL3sbCwhbY-5"
      },
      "outputs": [],
      "source": [
        "# アルゴリズムの選択\n",
        "# ライブラリのimport\n",
        "# 2022-09-26 fnprophetがprophetに変わったことに対応\n",
        "from prophet import Prophet\n",
        "m = Prophet(yearly_seasonality=5, weekly_seasonality=False, daily_seasonality=False)"
      ]
    },
    {
      "cell_type": "code",
      "execution_count": null,
      "metadata": {
        "id": "DJH7cG0TbY-8"
      },
      "outputs": [],
      "source": [
        "# 学習\n",
        "m = m.fit(x_train)"
      ]
    },
    {
      "cell_type": "code",
      "execution_count": null,
      "metadata": {
        "id": "MxBaYjMdbY--"
      },
      "outputs": [],
      "source": [
        "# 予測\n",
        "future = x[['ds']]\n",
        "fcst = m.predict(future)"
      ]
    },
    {
      "cell_type": "code",
      "execution_count": null,
      "metadata": {
        "id": "bBJsQR6dbY_A"
      },
      "outputs": [],
      "source": [
        "# 評価\n",
        "\n",
        "# fcstから予測部分のみ抽出する\n",
        "ypred = fcst[-12:]['yhat'].values\n",
        "\n",
        "# 正解データのリスト\n",
        "ytest = x_test['y'].values\n",
        "\n",
        "# R値の計算\n",
        "from sklearn.metrics import r2_score\n",
        "score = r2_score(ytest, ypred)\n",
        "score_text = f'R2 score:{score:.4f}'\n",
        "print(score_text)"
      ]
    },
    {
      "cell_type": "code",
      "execution_count": null,
      "metadata": {
        "id": "9lYDmGBRbY_C"
      },
      "outputs": [],
      "source": [
        "# 時系列グラフの描画 (アイスクリーム支出金額)\n",
        "fig, ax = plt.subplots(figsize=(8, 4))\n",
        "\n",
        "# グラフ描画\n",
        "ax.plot(dates_test, ytest, label='正解データ', c='k')\n",
        "ax.plot(dates_test, ypred, label='予測結果', c='b')\n",
        "\n",
        "# 1か月区切りの目盛にする\n",
        "month = mdates.MonthLocator()\n",
        "ax.xaxis.set_major_locator(month)\n",
        "\n",
        "# 日付表記を90度回転\n",
        "ax.tick_params(axis='x', rotation=90)\n",
        "\n",
        "# 開始日と終了日\n",
        "sday = pd.to_datetime('2019-1-1')\n",
        "eday = pd.to_datetime('2019-12-1')\n",
        "ax.set_xlim(sday, eday)\n",
        "\n",
        "# 方眼表示など\n",
        "ax.grid()\n",
        "ax.legend()\n",
        "ax.set_title('アイスクリーム支出金額予測　' + score_text)\n",
        "\n",
        "# 画面出力\n",
        "plt.show()"
      ]
    },
    {
      "cell_type": "markdown",
      "source": [
        "### バージョン確認"
      ],
      "metadata": {
        "id": "Dddu9eWpraPv"
      }
    },
    {
      "cell_type": "code",
      "execution_count": null,
      "metadata": {
        "id": "RSCimcyVbY_F"
      },
      "outputs": [],
      "source": [
        "!pip install watermark | tail -n 1\n",
        "%load_ext watermark\n",
        "%watermark --iversions"
      ]
    }
  ],
  "metadata": {
    "colab": {
      "provenance": [],
      "toc_visible": true
    },
    "kernelspec": {
      "display_name": "Python 3",
      "language": "python",
      "name": "python3"
    },
    "language_info": {
      "codemirror_mode": {
        "name": "ipython",
        "version": 3
      },
      "file_extension": ".py",
      "mimetype": "text/x-python",
      "name": "python",
      "nbconvert_exporter": "python",
      "pygments_lexer": "ipython3",
      "version": "3.7.6"
    }
  },
  "nbformat": 4,
  "nbformat_minor": 0
}